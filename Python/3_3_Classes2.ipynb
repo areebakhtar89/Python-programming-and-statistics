{
 "cells": [
  {
   "cell_type": "markdown",
   "metadata": {},
   "source": [
    "# Classes/Objects\n",
    "\n",
    "Python, since it's inception, has been an object-oriented language. Creating and using classes and objects are hence fairly straightforward."
   ]
  },
  {
   "cell_type": "markdown",
   "metadata": {},
   "source": [
    "A short introduction to Object-Oriented Programming (OOP)"
   ]
  },
  {
   "cell_type": "markdown",
   "metadata": {},
   "source": [
    "### Overview of OOP Terminology\n",
    "\n",
    "\n",
    "- Class − A user-defined type for an object. It defines a set of attributes that characterize any object of the class. The attributes are data members (class variables and instance variables) and methods, accessed via dot notation.\n",
    "\n",
    "- Class variable − A variable that is shared by all instances of a class. Class variables are defined within a class but outside any of the class's methods. Class variables are not used as frequently as instance variables are.\n",
    "\n",
    "- Data member − A class variable or instance variable that holds data associated with a class and its objects.\n",
    "\n",
    "- Function overloading − The assignment of more than one behavior to a particular function. The operation performed varies by the types of objects or arguments involved.\n",
    "\n",
    "- Instance variable − A variable that is defined inside a method and belongs only to the current instance of a class.\n",
    "\n",
    "- Inheritance − The transfer of the characteristics of a class to other classes that are derived from it.\n",
    "\n",
    "- Instance − An individual object of a certain class. An object obj that belongs to a class Circle, for example, is an instance of the class Circle.\n",
    "\n",
    "- Instantiation − The creation of an instance of a class.\n",
    "\n",
    "- Method − A special kind of function that is defined in a class definition.\n",
    "\n",
    "- Object − A unique instance of a data structure that is defined by its class. An object comprises both data members (class variables and instance variables) and methods.\n",
    "\n",
    "- Operator overloading − The assignment of more than one function to a particular operator.\n",
    "\n",
    "Source: https://www.tutorialspoint.com/python3/python_classes_objects.htm"
   ]
  },
  {
   "cell_type": "markdown",
   "metadata": {},
   "source": [
    "## Class: Creation\n",
    "\n",
    "`class` statement initiates a new class definition. The keyword `class` is followed by the name of the class (see CamelCase naming convention) followed by a colon."
   ]
  },
  {
   "cell_type": "code",
   "execution_count": null,
   "metadata": {},
   "outputs": [],
   "source": [
    "# class ClassName:\n",
    "#    'Optional class documentation string'\n",
    "#    classdefinition"
   ]
  },
  {
   "cell_type": "markdown",
   "metadata": {},
   "source": [
    "- _documentation string_ of a class can be accessed via `ClassName.__doc__`\n",
    "\n",
    "- _classdefinition_ consists statements that define class members, data attributes, methods, functions."
   ]
  },
  {
   "cell_type": "markdown",
   "metadata": {},
   "source": [
    "### Example"
   ]
  },
  {
   "cell_type": "code",
   "execution_count": null,
   "metadata": {},
   "outputs": [],
   "source": [
    "class Employee:\n",
    "    'Common base class for all employees'\n",
    "    empCount = 0  # class variable\n",
    "\n",
    "    # class constructor\n",
    "    def __init__(self, name, salary):\n",
    "        self.name = name      # Instance variable\n",
    "        self.salary = salary  # Instance variable\n",
    "        Employee.empCount += 1\n",
    "   \n",
    "    # method\n",
    "    def displayCount(self):\n",
    "        print (\"Total Employee %d\" % Employee.empCount)\n",
    "    \n",
    "    # method\n",
    "    def displayEmployee(self):\n",
    "        print (\"Name : \", self.name,  \", Salary: \", self.salary)"
   ]
  },
  {
   "cell_type": "markdown",
   "metadata": {},
   "source": [
    "- `empCount` is a class variable. It's value is shared among all the instances of this class. It can be accessed as `Employee.empCount` from inside the class or outside the class.\n",
    "\n",
    "- `__init__()` is a special method, aka. a class constructor or an initialization method that Python calls when you create a new instance (object) of this class.\n",
    "\n",
    "- Class methods are similar to other functions, with an exception that the first argument to each method is `self`. Python automatically adds the self argument to the arguments list."
   ]
  },
  {
   "cell_type": "markdown",
   "metadata": {},
   "source": [
    "## Instance: Creation\n",
    "\n",
    "Put simply, class is a blueprint, objects are instances of a class. To create class instances, call the class with class name and pass arguments required in its __init__ method.\n",
    "\n",
    "### Example"
   ]
  },
  {
   "cell_type": "code",
   "execution_count": null,
   "metadata": {},
   "outputs": [],
   "source": [
    "# Let's create two instances (aka. objects) of the Employee class\n",
    "emp1 = Employee(\"John White\", 100000) # first instance\n",
    "emp2 = Employee(\"Mark Brown\", 150000) # second instance"
   ]
  },
  {
   "cell_type": "markdown",
   "metadata": {},
   "source": [
    "## Attributes: Access\n",
    "\n",
    "Object's attributes are accessed with the __dot__ operator on the object. \n",
    "\n",
    "Class variables are accessed using the __dot__ operator on the class name."
   ]
  },
  {
   "cell_type": "code",
   "execution_count": null,
   "metadata": {},
   "outputs": [],
   "source": [
    "# Access instance method displayEmployee for each of the instances\n",
    "emp1.displayEmployee()\n",
    "emp2.displayEmployee()\n",
    "\n",
    "# Access class variable empCount\n",
    "print (\"Total Employee: %d\" % Employee.empCount)"
   ]
  },
  {
   "cell_type": "markdown",
   "metadata": {},
   "source": [
    "## Attributes: Manipulation\n",
    "\n",
    "It is straightforward to add, remove, or modify attributes of classes and objects."
   ]
  },
  {
   "cell_type": "code",
   "execution_count": null,
   "metadata": {},
   "outputs": [],
   "source": [
    "emp1 = Employee(\"John White\", 100000) # first instance\n",
    "emp1.displayEmployee()\n",
    "emp1.salary = 180000  # set 'salary' attribute.\n",
    "emp1.displayEmployee()\n",
    "\n",
    "emp1.name = 'John Whitney'  # Modify 'name' attribute.\n",
    "emp1.displayEmployee()\n",
    "\n",
    "del emp1.salary             # Delete 'age' attribute.\n",
    "# emp1.displayEmployee()    # This will throw error"
   ]
  },
  {
   "cell_type": "markdown",
   "metadata": {},
   "source": [
    "We can also use following functions to manipulate attributes,\n",
    "\n",
    "- To access any attribute of an object, use `getattr(obj, name[, default])`\n",
    "\n",
    "- To check if attribute exists or not, use `hasattr(obj, name)`\n",
    "\n",
    "- To set an attribute, use `setattr(obj, name, value)`. Note: If the attribute does not exist, then it would be created.\n",
    "\n",
    "- To delete an attribute, use `delattr(obj, name)`"
   ]
  },
  {
   "cell_type": "code",
   "execution_count": null,
   "metadata": {},
   "outputs": [],
   "source": [
    "print(hasattr(emp1, 'old_salary'))    # Returns true if 'old_salary' attribute exists\n",
    "\n",
    "setattr(emp1, 'salary', 70000) # Set attribute 'salary' at 70000\n",
    "emp1.displayEmployee()\n",
    "\n",
    "# delattr(emp1, 'old_salary')    # Delete attribute 'old_salary', will throw error"
   ]
  },
  {
   "cell_type": "markdown",
   "metadata": {},
   "source": [
    "## Built-In Class Attributes\n",
    "\n",
    "Each class has the following built-in attributes, accessible using the **dot operator**\n",
    "\n",
    "- `__dict__`, Dictionary with the namespace of class.\n",
    "\n",
    "- `__doc__`, Class documentation string or None if undefined.\n",
    "\n",
    "- `__name__`, Name of the class.\n",
    "\n",
    "- `__module__`, Name of the module in which the class is defined. In the interactive mode, this attribute is `__main__`.\n",
    "\n",
    "- `__bases__`, Tuple with the base classes, in the order of their occurrence in the base class list.\n",
    "\n",
    "For the above class let us try to access all these attributes −"
   ]
  },
  {
   "cell_type": "code",
   "execution_count": null,
   "metadata": {},
   "outputs": [],
   "source": [
    "print (\"Employee.__doc__:\", Employee.__doc__)\n",
    "print (\"Employee.__name__:\", Employee.__name__)\n",
    "print (\"Employee.__module__:\", Employee.__module__)\n",
    "print (\"Employee.__bases__:\", Employee.__bases__)\n",
    "print (\"Employee.__dict__:\", Employee.__dict__ )\n",
    "\n",
    "#When the above code is executed, it produces the following result −"
   ]
  },
  {
   "cell_type": "markdown",
   "metadata": {},
   "source": [
    "## Garbage Collection: Destroying Objects\n",
    "\n",
    "Whenever a variable of in-built type or a class is created, a chunk of memory is allocated to hold the variable in memory. Hence it is important to free memory as soon as we no longer need that variable. \n",
    "\n",
    "Fortunately, Python automatically takes care of this for us. The process by which Python periodically reclaims blocks of memory that no longer are in use is termed as **Garbage Collection**.\n",
    "\n",
    "During program execution the garbage collector runs. An unused object is freed-up when its reference count reaches zero. \n",
    "\n",
    "An object's reference count changes during the program execution. The count increases when the object is assigned a new name or placed in a container (list, tuple, or dictionary). The object's reference count decreases when it is deleted with `del`, its reference is reassigned, or its reference goes out of scope."
   ]
  },
  {
   "cell_type": "code",
   "execution_count": null,
   "metadata": {},
   "outputs": [],
   "source": [
    "a = 42      # Create variable initialized to <42>, reference count set to 1\n",
    "b = a       # Increase reference count  of <42> \n",
    "c = [b]     # Increase reference count  of <42> \n",
    "\n",
    "del a       # Decrease reference count  of <42>\n",
    "b = 100     # Decrease reference count  of <42> \n",
    "c[0] = -1   # Decrease reference count  of <42> "
   ]
  },
  {
   "cell_type": "markdown",
   "metadata": {},
   "source": [
    "In general, we will not know when the garbage collector destroys an orphaned instance (i.e. an object with reference count of 0) and reclaims its space. \n",
    "\n",
    "However, each class can implement the special method `__del__()`, called the destructor. This method is invoked when the instance is about to be destroyed. We can use this method to clean up any non-memory resources used by an instance.\n",
    "\n",
    "### Example\n",
    "\n",
    "This `__del__()` destructor prints the class name of an instance that is about to be destroyed."
   ]
  },
  {
   "cell_type": "code",
   "execution_count": null,
   "metadata": {},
   "outputs": [],
   "source": [
    "class Point:\n",
    "    \n",
    "    def __init__(self, x = 0, y = 0):\n",
    "        self.x = x\n",
    "        self.y = y\n",
    "        \n",
    "    def __del__(self):\n",
    "        class_name = self.__class__.__name__\n",
    "        print (class_name, \"is about to be destroyed\")\n",
    "\n",
    "pt1 = Point()\n",
    "pt2 = pt1\n",
    "pt3 = pt1\n",
    "print (id(pt1), id(pt2), id(pt3))   # prints the ids of the obejcts\n",
    "del pt1\n",
    "del pt2\n",
    "del pt3"
   ]
  },
  {
   "cell_type": "markdown",
   "metadata": {},
   "source": [
    "* Note − Typically we define a class in a separate file. To use the class, then we import them in our main program file with `import` statement."
   ]
  },
  {
   "cell_type": "markdown",
   "metadata": {},
   "source": [
    "## Class Inheritance\n",
    "\n",
    "Many times we would like to reuse the existing code. Hence, instead of coding again from the scratch, we can create a different class (known as subsclass) by deriving it from a pre-existing class. This is done by listing the parent class in parentheses after the new class name.\n",
    "\n",
    "The child class (or subclass) inherits the attributes of its parent class, and we can use those attributes as if they were defined in the child class. A child class can also override data members and methods from the parent.\n",
    "\n",
    "### Syntax"
   ]
  },
  {
   "cell_type": "code",
   "execution_count": null,
   "metadata": {},
   "outputs": [],
   "source": [
    "# class SubClassName (ParentClass1[, ParentClass2, ...]):\n",
    "#    'Optional class documentation string'\n",
    "#    class_suite"
   ]
  },
  {
   "cell_type": "code",
   "execution_count": null,
   "metadata": {},
   "outputs": [],
   "source": [
    "##Example\n",
    "\n",
    "class Parent:        # define parent class\n",
    "   parentAttr = 100\n",
    "   def __init__(self):\n",
    "      print (\"Calling parent constructor\")\n",
    "\n",
    "   def parentMethod(self):\n",
    "      print ('Calling parent method')\n",
    "\n",
    "   def setAttr(self, attr):\n",
    "      Parent.parentAttr = attr\n",
    "\n",
    "   def getAttr(self):\n",
    "      print (\"Parent attribute :\", Parent.parentAttr)\n",
    "\n",
    "class Child(Parent): # define child class\n",
    "   def __init__(self):\n",
    "      print (\"Calling child constructor\")\n",
    "\n",
    "   def childMethod(self):\n",
    "      print ('Calling child method')\n",
    "\n",
    "c = Child()          # instance of child\n",
    "c.childMethod()      # child calls its method\n",
    "c.parentMethod()     # calls parent's method\n",
    "c.setAttr(200)       # again call parent's method\n",
    "c.getAttr()          # again call parent's method\n",
    "\n",
    "#When the above code is executed, it produces the following result −"
   ]
  },
  {
   "cell_type": "markdown",
   "metadata": {},
   "source": [
    "## Practice work"
   ]
  },
  {
   "cell_type": "markdown",
   "metadata": {},
   "source": [
    "- Write a Python program to reverse a string word by word.\n",
    "- Write a Python class named Circle constructed by a radius and two methods which will compute the area and the perimeter of a circle."
   ]
  },
  {
   "cell_type": "code",
   "execution_count": null,
   "metadata": {
    "ExecuteTime": {
     "end_time": "2020-07-05T07:13:56.169891Z",
     "start_time": "2020-07-05T07:13:56.163909Z"
    }
   },
   "outputs": [],
   "source": [
    "str1 = \"Hello, my name is Areeb. I love python.\"\n",
    "l=list(map(str, str1.split(' ')))\n",
    "print(str(l[::-1]))\n",
    "seperator=' '\n",
    "print(seperator.join(l[::-1]))"
   ]
  },
  {
   "cell_type": "code",
   "execution_count": 1,
   "metadata": {
    "ExecuteTime": {
     "end_time": "2020-07-05T07:27:58.811105Z",
     "start_time": "2020-07-05T07:27:53.496085Z"
    }
   },
   "outputs": [
    {
     "name": "stdout",
     "output_type": "stream",
     "text": [
      "Enter a string: hello my name is areeb\n",
      "areeb is name my hello\n"
     ]
    }
   ],
   "source": [
    "class Rev:\n",
    "    def __init__(self, str2):\n",
    "        self.str2 = \"Hello, my name is Areeb. I love python.\"\n",
    "        l=list(map(str, str2.split(' ')))\n",
    "        #print(str(l[::-1]))\n",
    "        seperator=' '\n",
    "        print(seperator.join(l[::-1]))\n",
    "        \n",
    "str1 = input(\"Enter a string: \")\n",
    "r = Rev(str1)\n"
   ]
  },
  {
   "cell_type": "code",
   "execution_count": 6,
   "metadata": {
    "ExecuteTime": {
     "end_time": "2020-07-05T07:35:35.002239Z",
     "start_time": "2020-07-05T07:35:33.868829Z"
    }
   },
   "outputs": [
    {
     "name": "stdout",
     "output_type": "stream",
     "text": [
      "Enter the radius: 5\n",
      "area:  157.0\n",
      "perimeter:  31.400000000000002\n"
     ]
    }
   ],
   "source": [
    "class Circle:\n",
    "    def __init__(self,rad):\n",
    "        self.rad=rad\n",
    "    def area(self):\n",
    "        print(\"area: \", 2*3.14*(self.rad**2))\n",
    "    def peri(self):\n",
    "        print(\"perimeter: \", 2*3.14*(self.rad))\n",
    "        \n",
    "radius = int(input(\"Enter the radius: \"))\n",
    "#x = input(\"1. Area, 2. Perimeter: \")\n",
    "c=Circle(radius)\n",
    "c.area()\n",
    "c.peri()\n",
    "\n",
    "# if(x==1):\n",
    "#     c=Circle()\n",
    "#     c.area(radius)\n",
    "# elif(x==2):\n",
    "#     c=Circle()\n",
    "#     c.peri(radius)\n",
    "# else:\n",
    "#     print(\"print a valid value\")"
   ]
  },
  {
   "cell_type": "markdown",
   "metadata": {},
   "source": [
    "## Sources\n",
    "- https://www.tutorialspoint.com/python3/python_classes_objects.htm"
   ]
  }
 ],
 "metadata": {
  "kernelspec": {
   "display_name": "Python 3",
   "language": "python",
   "name": "python3"
  },
  "language_info": {
   "codemirror_mode": {
    "name": "ipython",
    "version": 3
   },
   "file_extension": ".py",
   "mimetype": "text/x-python",
   "name": "python",
   "nbconvert_exporter": "python",
   "pygments_lexer": "ipython3",
   "version": "3.7.6"
  },
  "latex_envs": {
   "LaTeX_envs_menu_present": true,
   "autoclose": false,
   "autocomplete": true,
   "bibliofile": "biblio.bib",
   "cite_by": "apalike",
   "current_citInitial": 1,
   "eqLabelWithNumbers": true,
   "eqNumInitial": 1,
   "hotkeys": {
    "equation": "Ctrl-E",
    "itemize": "Ctrl-I"
   },
   "labels_anchors": false,
   "latex_user_defs": false,
   "report_style_numbering": false,
   "user_envs_cfg": false
  },
  "toc": {
   "base_numbering": 1,
   "nav_menu": {},
   "number_sections": true,
   "sideBar": true,
   "skip_h1_title": false,
   "title_cell": "Table of Contents",
   "title_sidebar": "Contents",
   "toc_cell": false,
   "toc_position": {},
   "toc_section_display": true,
   "toc_window_display": false
  }
 },
 "nbformat": 4,
 "nbformat_minor": 2
}
