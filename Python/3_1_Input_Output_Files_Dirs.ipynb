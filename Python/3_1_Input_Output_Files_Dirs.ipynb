{
 "cells": [
  {
   "cell_type": "markdown",
   "metadata": {},
   "source": [
    "# Input / Output (I/O), Files, and Directories"
   ]
  },
  {
   "cell_type": "markdown",
   "metadata": {},
   "source": [
    "Here we cover basic I/O functions, files, and directory operations available in Python"
   ]
  },
  {
   "cell_type": "markdown",
   "metadata": {},
   "source": [
    "# Output: Screen"
   ]
  },
  {
   "cell_type": "markdown",
   "metadata": {},
   "source": [
    "Screen, in general, is also referred to as the standard output. We use `print` function to redirect output to the screen."
   ]
  },
  {
   "cell_type": "markdown",
   "metadata": {},
   "source": [
    "## The `print` Function\n",
    "\n",
    "`print` function accepts zero or more expressions separated by commas. It converts each expression into a string and writes to standard output."
   ]
  },
  {
   "cell_type": "code",
   "execution_count": 1,
   "metadata": {
    "ExecuteTime": {
     "end_time": "2020-07-04T07:12:48.693008Z",
     "start_time": "2020-07-04T07:12:48.684013Z"
    }
   },
   "outputs": [
    {
     "name": "stdout",
     "output_type": "stream",
     "text": [
      "Python is easy to learn language, isn't it?\n",
      "The primary colors are ['red', 'blue', 'green']\n",
      "Number of primary colors is 3 ['green', 'blue', 'red']\n"
     ]
    }
   ],
   "source": [
    "colors = [\"red\", \"blue\", \"green\"]\n",
    "print(\"Python is easy to learn language,\", \"isn't it?\")\n",
    "print(\"The primary colors are\", colors)\n",
    "print(\"Number of primary colors is\", len(colors), colors[::-1])"
   ]
  },
  {
   "cell_type": "markdown",
   "metadata": {},
   "source": [
    "# Input: Keyboard"
   ]
  },
  {
   "cell_type": "markdown",
   "metadata": {},
   "source": [
    "Keyboard is, in general, the default standard input. Python provides built-in functions to read text from standard input. "
   ]
  },
  {
   "cell_type": "markdown",
   "metadata": {},
   "source": [
    "# The `input` Function"
   ]
  },
  {
   "cell_type": "markdown",
   "metadata": {},
   "source": [
    "`input` prompts the user to enter text. Provided input is considered as a `string`."
   ]
  },
  {
   "cell_type": "code",
   "execution_count": 2,
   "metadata": {
    "ExecuteTime": {
     "end_time": "2020-07-04T07:13:33.489379Z",
     "start_time": "2020-07-04T07:13:23.980166Z"
    }
   },
   "outputs": [
    {
     "name": "stdout",
     "output_type": "stream",
     "text": [
      "Please enter some text here: hello\n",
      "<class 'str'>\n",
      "Received input is:  hello\n",
      "yyy\n",
      "aaa:  yyy\n"
     ]
    }
   ],
   "source": [
    "str = input(\"Please enter some text here: \")\n",
    "print(type(str))\n",
    "print(\"Received input is: \", str)\n",
    "# NOTE: Try entering a number and check the type of the entered input\n",
    "\n",
    "print(\"aaa: \", input())"
   ]
  },
  {
   "cell_type": "markdown",
   "metadata": {},
   "source": [
    "# Files: Open / Close"
   ]
  },
  {
   "cell_type": "markdown",
   "metadata": {},
   "source": [
    "Well, it is tedious to read input by punching keys, over and over again. It would be better if we could store our inputs in a file and read from there. Similarly, it is better to write output to a file for later retrieval.\n",
    "\n",
    "Let's understand how we can manipulate files in Python for reading and writing. Most operations related to file manipulation are done using a file object."
   ]
  },
  {
   "cell_type": "markdown",
   "metadata": {},
   "source": [
    "## The `open()` Function"
   ]
  },
  {
   "cell_type": "markdown",
   "metadata": {},
   "source": [
    "We need to open the file, before we can read to or write from the file. Python's built-in open() function helps us do this. This function creates a file object, which would be sub-sequently used for reading, writing, etc.\n",
    "\n",
    "__Typical Usage__\n",
    "\n",
    "`file_object = open(file_name [, access_mode][, buffering])`\n",
    "\n",
    "The parameters are,\n",
    "\n",
    "`file_name` − Name of the file that you want to access. Relative or absolute file pathnames have to be provided.\n",
    "\n",
    "`access_mode` − Specifies the mode in which the file has to be opened, i.e., read, write, append, etc. This parameter is optional and the default file access mode is read (r). By default files are opened in text mode, if you have to read non-text files then you need to open it in binary mode (b). The modes can be combined together such as reading a file in binary mode can be specified by using the string 'r+b'.\n",
    "\n",
    "`buffering` − Is an optional integer used to set the buffering policy. Pass 0 to switch buffering off (only allowed in binary mode), 1 to select line buffering (only usable in text mode), and an integer > 1 to indicate the size in bytes of a fixed-size chunk buffer.\n",
    "\n",
    "Please see https://docs.python.org/3/library/functions.html#open for more details on `access_mode`, `buffering` and other available parameters."
   ]
  },
  {
   "cell_type": "code",
   "execution_count": 3,
   "metadata": {
    "ExecuteTime": {
     "end_time": "2020-07-04T07:14:56.249342Z",
     "start_time": "2020-07-04T07:14:56.239369Z"
    }
   },
   "outputs": [
    {
     "name": "stdout",
     "output_type": "stream",
     "text": [
      "Name of the file:  dummy_data.txt\n",
      "Closed or not:  False\n",
      "Opening mode:  w\n",
      "After with closed or not:  True\n"
     ]
    }
   ],
   "source": [
    "# Open a file, for writing. Note this will erase the existing file.\n",
    "with open(\"dummy_data.txt\", \"w\") as f: # This creates a file object f, let's explore its attributes\n",
    "    print (\"Name of the file: \", f.name)\n",
    "    print (\"Closed or not: \", f.closed)\n",
    "    print (\"Opening mode: \", f.mode)\n",
    "    \n",
    "# with keyword will close the file, once we are out of the block of statements inside with\n",
    "print (\"After with closed or not: \", f.closed)\n",
    "\n",
    "# NOTE: \n",
    "# 1. You should see an empty file with the name 'dummy_data.txt' in your current folder\n",
    "# 2. It is a recommeded practice to use with keyword when dealing with file objects "
   ]
  },
  {
   "cell_type": "markdown",
   "metadata": {},
   "source": [
    "## The `close()` Method\n",
    "\n",
    "\n",
    "The `close()` method of a file object flushes any unwritten information and closes the file object, after which no more writing can be done.\n",
    "\n",
    "Python automatically closes a file when the reference object of a file is reassigned to another file. It is a recommended to use the `close()` method to close a file.\n",
    "\n",
    "NOTE: The difference between a function and a method. We will study this in great detail when we learn about class."
   ]
  },
  {
   "cell_type": "markdown",
   "metadata": {},
   "source": [
    "### Example"
   ]
  },
  {
   "cell_type": "code",
   "execution_count": 4,
   "metadata": {
    "ExecuteTime": {
     "end_time": "2020-07-04T07:16:20.019610Z",
     "start_time": "2020-07-04T07:16:20.013594Z"
    }
   },
   "outputs": [
    {
     "name": "stdout",
     "output_type": "stream",
     "text": [
      "Name of the file:  dummy_data.txt\n"
     ]
    }
   ],
   "source": [
    "# Open a file\n",
    "f = open(\"dummy_data.txt\", \"wb\")\n",
    "print (\"Name of the file: \", f.name)\n",
    "\n",
    "# Explicitly close the opened file\n",
    "f.close()"
   ]
  },
  {
   "cell_type": "markdown",
   "metadata": {},
   "source": [
    "# Files: Read and Write\n",
    "\n",
    "\n",
    "Let's learn to read to and write from the files using the file object we get by using `open()` function.\n",
    "\n",
    "## The `write()` Method\n",
    "\n",
    "The `write()` method writes any string to an open file. Strings can have text or binary data. This method does not add a newline character ('\\n') to the end of the string.\n",
    "\n",
    "__Syntax__\n",
    "\n",
    "`fileObject.write(string)`\n",
    "\n",
    "Passed parameter is the content to be written to the opened file."
   ]
  },
  {
   "cell_type": "markdown",
   "metadata": {},
   "source": [
    "### Example"
   ]
  },
  {
   "cell_type": "code",
   "execution_count": 5,
   "metadata": {
    "ExecuteTime": {
     "end_time": "2020-07-04T07:17:06.575590Z",
     "start_time": "2020-07-04T07:17:06.570602Z"
    }
   },
   "outputs": [],
   "source": [
    "# Open and write to a file\n",
    "with open(\"foo.txt\", \"w\") as fo:\n",
    "    fo.write(\"Let's learn Python.\\nIt is interesting.\\n\")\n",
    "\n",
    "# NOTE: open the created file and check its content!"
   ]
  },
  {
   "cell_type": "markdown",
   "metadata": {},
   "source": [
    "## The `read()` Method\n",
    "\n",
    "\n",
    "The `read()` method reads a string from an open file. Strings can have text or binary data.\n",
    "\n",
    "__Syntax__\n",
    "\n",
    "`fileObject.read([count])`\n",
    "\n",
    "Here, the optional parameter is the number of bytes to be read from the opened file. Bytes are read from the beginning of the file. If count is not provided then `read()` tries to read as much as possible, until the end of file.\n",
    "\n",
    "### Example\n",
    "\n",
    "Let us take the file foo.txt that we created earlier."
   ]
  },
  {
   "cell_type": "code",
   "execution_count": 6,
   "metadata": {
    "ExecuteTime": {
     "end_time": "2020-07-04T07:17:24.126356Z",
     "start_time": "2020-07-04T07:17:24.110367Z"
    }
   },
   "outputs": [
    {
     "name": "stdout",
     "output_type": "stream",
     "text": [
      "We read:  Let's learn Pyt\n",
      "We read:  Let's learn Python.\n",
      "It is interesting.\n",
      "\n"
     ]
    }
   ],
   "source": [
    "# Open a file and read text\n",
    "with open(\"foo.txt\", \"r\") as f:\n",
    "    str = f.read(15)    # read 15 bytes\n",
    "    print (\"We read: \", str)\n",
    "\n",
    "with open(\"foo.txt\", \"r\") as f:\n",
    "    str = f.read()    # read the entire content\n",
    "    print (\"We read: \", str)"
   ]
  },
  {
   "cell_type": "markdown",
   "metadata": {},
   "source": [
    "## File Positions: Access and Manipulate\n",
    "\n",
    "`tell()` method reports the current position of the file pointer within the file, i.e., the next read/write will occur so many bytes from the beginning of the file.\n",
    "\n",
    "`seek(offset[, from])` method modifies the current file position. The _offset_ argument indicates the number of bytes, the file pointer should be be moved. The _from_ argument specifies the reference position from where the file pointer should be moved.\n",
    "\n",
    "_from_ can take following values,\n",
    "\n",
    "0 - the beginning of the file\n",
    "\n",
    "1 - the current position \n",
    "\n",
    "2 - the end of the file\n",
    "\n",
    "\n",
    "### Example"
   ]
  },
  {
   "cell_type": "code",
   "execution_count": 13,
   "metadata": {
    "ExecuteTime": {
     "end_time": "2020-07-04T07:22:11.356154Z",
     "start_time": "2020-07-04T07:22:11.346217Z"
    }
   },
   "outputs": [
    {
     "name": "stdout",
     "output_type": "stream",
     "text": [
      "We read:  Let's learn Pyt\n",
      "The current position is:  15\n",
      "We read, again:  hon.\n",
      "It is inte\n"
     ]
    }
   ],
   "source": [
    "with open(\"foo.txt\", \"r\") as f:\n",
    "    # Read the first 15 bytes\n",
    "    str = f.read(15)\n",
    "    print (\"We read: \", str)\n",
    "    \n",
    "    # Verify the current position\n",
    "    position = f.tell()\n",
    "    print (\"The current position is: \", position)\n",
    "    \n",
    "    # Reset the file pointer at the beginning once again\n",
    "    position = f.seek(0, 1)\n",
    "    str = f.read(15)\n",
    "    print (\"We read, again: \", str)"
   ]
  },
  {
   "cell_type": "markdown",
   "metadata": {},
   "source": [
    "# Directories\n",
    "\n",
    "Let's learn how to create, remove, and change directories using the available `os` module.\n",
    "\n",
    "## The `mkdir()` Method\n",
    "\n",
    "`mkdir()` allows us to create a new directory, in the current directory, with the name that is specified as the argument to the function.\n",
    "\n",
    "### Example"
   ]
  },
  {
   "cell_type": "code",
   "execution_count": 10,
   "metadata": {
    "ExecuteTime": {
     "end_time": "2020-06-27T06:32:44.072314Z",
     "start_time": "2020-06-27T06:32:44.067328Z"
    }
   },
   "outputs": [],
   "source": [
    "# import the module os, so that we can call the methods available in the module\n",
    "import os\n",
    "\n",
    "# Create a directory \"test in the current directory\"\n",
    "os.mkdir(\"test\")\n",
    "\n",
    "# What happens if the directory already exists? Check it out!"
   ]
  },
  {
   "cell_type": "markdown",
   "metadata": {},
   "source": [
    "## The `chdir()` Method\n",
    "\n",
    "`chdir()` allows us to change the current directory to a new directory specified in the function argument.\n",
    "\n",
    "### Example"
   ]
  },
  {
   "cell_type": "code",
   "execution_count": null,
   "metadata": {},
   "outputs": [],
   "source": [
    "import os\n",
    "\n",
    "# Change to a different directory on your machine\n",
    "os.chdir(\"C:\\\\Users\\\\...\") # specify a directory on your machine!\n",
    "\n",
    "# NOTE: Did you see \\\\? Why is that? \n",
    "# Certain characters in a string have special meaning and they need to be escaped. \n",
    "# \\ has a special meaning. For example, \\n - new line, \\t - tab\n",
    "# Hence, if we need \\, we escape it by providing \\\\\n",
    "\n",
    "# How do we know that current directory has changed? Let's look at the next method."
   ]
  },
  {
   "cell_type": "markdown",
   "metadata": {},
   "source": [
    "## The `getcwd()` Method\n",
    "The `getcwd()` method displays the current working directory"
   ]
  },
  {
   "cell_type": "markdown",
   "metadata": {},
   "source": [
    "### Example"
   ]
  },
  {
   "cell_type": "code",
   "execution_count": 11,
   "metadata": {
    "ExecuteTime": {
     "end_time": "2020-06-27T06:33:06.204521Z",
     "start_time": "2020-06-27T06:33:06.190557Z"
    }
   },
   "outputs": [
    {
     "data": {
      "text/plain": [
       "'C:\\\\Users\\\\Jayanti\\\\Desktop\\\\Zell Education Class\\\\Session 20 (27th June 2020)\\\\Python Lesson 03'"
      ]
     },
     "execution_count": 11,
     "metadata": {},
     "output_type": "execute_result"
    }
   ],
   "source": [
    "import os\n",
    "\n",
    "# This would give location of the current directory\n",
    "os.getcwd()"
   ]
  },
  {
   "cell_type": "markdown",
   "metadata": {},
   "source": [
    "## The rmdir() Method\n",
    "\n",
    "`rmdir()` deletes a directory, if it exists, which is passed as an argument. Before removing a directory, all the contents in it should be removed.\n",
    "\n",
    "### Example"
   ]
  },
  {
   "cell_type": "code",
   "execution_count": null,
   "metadata": {},
   "outputs": [],
   "source": [
    "import os\n",
    "\n",
    "# This would  remove \"/tmp/test\"  directory.\n",
    "# On windows give appropriate path to delete directory\n",
    "os.rmdir(\"/tmp/test\")\n",
    "\n",
    "# NOTE: Can you articulate scenarios where rmdir will not be able to delete a directory?"
   ]
  },
  {
   "cell_type": "markdown",
   "metadata": {},
   "source": [
    "## Practice Work\n",
    "\n",
    "Write Python programs to,\n",
    "- append text to a file and display the text on standard output.\n",
    "- read a file line by line and store the text in a variable. Print the variable on screen.\n",
    "- find the longest word from the file read.\n",
    "- get the size of a plain text file.\n",
    "- check if a file is closed or not."
   ]
  },
  {
   "cell_type": "code",
   "execution_count": 16,
   "metadata": {
    "ExecuteTime": {
     "end_time": "2020-07-04T07:59:33.330818Z",
     "start_time": "2020-07-04T07:59:33.321813Z"
    }
   },
   "outputs": [],
   "source": [
    "f=open(\"test1.txt\",\"w\")\n",
    "for i in range(10):\n",
    "    f.write(\"hello\")\n",
    "    \n",
    "\n",
    "    "
   ]
  },
  {
   "cell_type": "code",
   "execution_count": 35,
   "metadata": {
    "ExecuteTime": {
     "end_time": "2020-07-04T08:04:55.900732Z",
     "start_time": "2020-07-04T08:04:55.896745Z"
    }
   },
   "outputs": [],
   "source": [
    "f=open(\"test1.txt\",\"a\")"
   ]
  },
  {
   "cell_type": "code",
   "execution_count": 36,
   "metadata": {
    "ExecuteTime": {
     "end_time": "2020-07-04T08:04:57.640222Z",
     "start_time": "2020-07-04T08:04:57.633276Z"
    }
   },
   "outputs": [
    {
     "data": {
      "text/plain": [
       "0"
      ]
     },
     "execution_count": 36,
     "metadata": {},
     "output_type": "execute_result"
    }
   ],
   "source": [
    "f.tell()"
   ]
  },
  {
   "cell_type": "code",
   "execution_count": 17,
   "metadata": {
    "ExecuteTime": {
     "end_time": "2020-07-04T08:00:04.270004Z",
     "start_time": "2020-07-04T08:00:04.265018Z"
    }
   },
   "outputs": [],
   "source": [
    "f.close()"
   ]
  },
  {
   "cell_type": "code",
   "execution_count": 25,
   "metadata": {
    "ExecuteTime": {
     "end_time": "2020-07-04T08:02:24.479000Z",
     "start_time": "2020-07-04T08:02:24.472017Z"
    }
   },
   "outputs": [
    {
     "name": "stdout",
     "output_type": "stream",
     "text": [
      "hellohellohellohellohellohellohellohellohellohello\n"
     ]
    }
   ],
   "source": [
    "f=open(\"test1.txt\",\"r\")\n",
    "a=f.read()\n",
    "print(a)\n",
    "f.close()"
   ]
  },
  {
   "cell_type": "code",
   "execution_count": 26,
   "metadata": {
    "ExecuteTime": {
     "end_time": "2020-07-04T08:02:26.488127Z",
     "start_time": "2020-07-04T08:02:26.482144Z"
    }
   },
   "outputs": [
    {
     "name": "stdout",
     "output_type": "stream",
     "text": [
      "True\n"
     ]
    }
   ],
   "source": [
    "print(f.closed)"
   ]
  },
  {
   "cell_type": "code",
   "execution_count": 38,
   "metadata": {
    "ExecuteTime": {
     "end_time": "2020-07-04T08:11:45.416830Z",
     "start_time": "2020-07-04T08:11:45.410833Z"
    }
   },
   "outputs": [],
   "source": [
    "f=open(\"test11.txt\",\"w\")\n",
    "for i in range(10):\n",
    "    f.write(\"Python is better than java\\n\")\n",
    "f.close()\n"
   ]
  },
  {
   "cell_type": "code",
   "execution_count": 53,
   "metadata": {
    "ExecuteTime": {
     "end_time": "2020-07-04T08:23:41.206930Z",
     "start_time": "2020-07-04T08:23:41.200945Z"
    }
   },
   "outputs": [
    {
     "name": "stdout",
     "output_type": "stream",
     "text": [
      "['Python is better than java\\n', 'Python is better than java\\n', 'Python is better than java\\n']\n"
     ]
    }
   ],
   "source": [
    "f=open(\"test11.txt\",\"r\")\n",
    "#print(f.read())\n",
    "line=f.readlines()\n",
    "#print(line)\n",
    "#for l in line:\n",
    "    #print(l.strip())\n",
    "    \n",
    "print(line[:3])\n",
    "f.close()"
   ]
  },
  {
   "cell_type": "code",
   "execution_count": 54,
   "metadata": {
    "ExecuteTime": {
     "end_time": "2020-07-04T08:24:33.250058Z",
     "start_time": "2020-07-04T08:24:33.242080Z"
    }
   },
   "outputs": [
    {
     "data": {
      "text/plain": [
       "60"
      ]
     },
     "execution_count": 54,
     "metadata": {},
     "output_type": "execute_result"
    }
   ],
   "source": [
    "f1=open(\"test33.txt\",\"w\")\n",
    "f1.write(\"Hello my name is Areeb Akhtar and Python is better than Java\")"
   ]
  },
  {
   "cell_type": "code",
   "execution_count": 61,
   "metadata": {
    "ExecuteTime": {
     "end_time": "2020-07-04T09:06:40.917441Z",
     "start_time": "2020-07-04T09:06:40.908465Z"
    }
   },
   "outputs": [
    {
     "name": "stdout",
     "output_type": "stream",
     "text": [
      "Hello my name is Areeb Akhtar and Python is better than Java\n",
      "\n"
     ]
    }
   ],
   "source": [
    "    f1=open(\"test33.txt\",\"r\")\n",
    "print(f1.read())\n",
    "a=f1.read()\n",
    "print(a)\n",
    "f1.close()"
   ]
  },
  {
   "cell_type": "code",
   "execution_count": 66,
   "metadata": {
    "ExecuteTime": {
     "end_time": "2020-07-04T09:12:45.439328Z",
     "start_time": "2020-07-04T09:12:45.419382Z"
    }
   },
   "outputs": [
    {
     "ename": "AttributeError",
     "evalue": "'_io.TextIOWrapper' object has no attribute 'split'",
     "output_type": "error",
     "traceback": [
      "\u001b[1;31m---------------------------------------------------------------------------\u001b[0m",
      "\u001b[1;31mAttributeError\u001b[0m                            Traceback (most recent call last)",
      "\u001b[1;32m<ipython-input-66-a97e49f6ffef>\u001b[0m in \u001b[0;36m<module>\u001b[1;34m\u001b[0m\n\u001b[0;32m      1\u001b[0m \u001b[0mf1\u001b[0m\u001b[1;33m=\u001b[0m\u001b[0mopen\u001b[0m\u001b[1;33m(\u001b[0m\u001b[1;34m\"test33.txt\"\u001b[0m\u001b[1;33m,\u001b[0m\u001b[1;34m\"r\"\u001b[0m\u001b[1;33m)\u001b[0m\u001b[1;33m\u001b[0m\u001b[1;33m\u001b[0m\u001b[0m\n\u001b[0;32m      2\u001b[0m \u001b[0mf1\u001b[0m\u001b[1;33m.\u001b[0m\u001b[0mreadline\u001b[0m\u001b[1;33m(\u001b[0m\u001b[1;33m)\u001b[0m\u001b[1;33m\u001b[0m\u001b[1;33m\u001b[0m\u001b[0m\n\u001b[1;32m----> 3\u001b[1;33m \u001b[0ma\u001b[0m\u001b[1;33m=\u001b[0m\u001b[0mf1\u001b[0m\u001b[1;33m.\u001b[0m\u001b[0msplit\u001b[0m\u001b[1;33m(\u001b[0m\u001b[1;33m)\u001b[0m\u001b[1;33m\u001b[0m\u001b[1;33m\u001b[0m\u001b[0m\n\u001b[0m\u001b[0;32m      4\u001b[0m \u001b[0mprint\u001b[0m\u001b[1;33m(\u001b[0m\u001b[0ma\u001b[0m\u001b[1;33m)\u001b[0m\u001b[1;33m\u001b[0m\u001b[1;33m\u001b[0m\u001b[0m\n",
      "\u001b[1;31mAttributeError\u001b[0m: '_io.TextIOWrapper' object has no attribute 'split'"
     ]
    }
   ],
   "source": [
    "f1=open(\"test33.txt\",\"r\")\n",
    "f1.readline()\n",
    "a=f1.split()\n",
    "print(a)"
   ]
  }
 ],
 "metadata": {
  "kernelspec": {
   "display_name": "Python 3",
   "language": "python",
   "name": "python3"
  },
  "language_info": {
   "codemirror_mode": {
    "name": "ipython",
    "version": 3
   },
   "file_extension": ".py",
   "mimetype": "text/x-python",
   "name": "python",
   "nbconvert_exporter": "python",
   "pygments_lexer": "ipython3",
   "version": "3.7.6"
  },
  "latex_envs": {
   "LaTeX_envs_menu_present": true,
   "autoclose": false,
   "autocomplete": true,
   "bibliofile": "biblio.bib",
   "cite_by": "apalike",
   "current_citInitial": 1,
   "eqLabelWithNumbers": true,
   "eqNumInitial": 1,
   "hotkeys": {
    "equation": "Ctrl-E",
    "itemize": "Ctrl-I"
   },
   "labels_anchors": false,
   "latex_user_defs": false,
   "report_style_numbering": false,
   "user_envs_cfg": false
  },
  "toc": {
   "base_numbering": 1,
   "nav_menu": {},
   "number_sections": true,
   "sideBar": true,
   "skip_h1_title": false,
   "title_cell": "Table of Contents",
   "title_sidebar": "Contents",
   "toc_cell": false,
   "toc_position": {},
   "toc_section_display": true,
   "toc_window_display": false
  }
 },
 "nbformat": 4,
 "nbformat_minor": 2
}
