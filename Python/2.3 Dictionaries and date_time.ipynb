{
 "cells": [
  {
   "cell_type": "markdown",
   "metadata": {},
   "source": [
    "# Dictionary"
   ]
  },
  {
   "cell_type": "markdown",
   "metadata": {},
   "source": [
    "Dictionary is a very useful datatype. In other languages a dictionary is often referred to as “associative memories” or “associative arrays”. Unlike sequences, which are indexed by a range of numbers, dictionaries are indexed by keys. Keys can be any immutable type; e.g. strings and numbers."
   ]
  },
  {
   "cell_type": "markdown",
   "metadata": {},
   "source": [
    "A dictionary is a set of __key: value__ pairs, with the requirement that the keys are unique (within one dictionary).\n",
    "Let's create a dictionary!"
   ]
  },
  {
   "cell_type": "code",
   "execution_count": 1,
   "metadata": {},
   "outputs": [
    {
     "name": "stdout",
     "output_type": "stream",
     "text": [
      "{}\n",
      "{'John': 1098, 'Sarah': 2139}\n"
     ]
    }
   ],
   "source": [
    "dict1 = {}   # This is an empty dictionary!\n",
    "print(dict1)\n",
    "dict1 = {'John': 1098, 'Sarah': 2139}\n",
    "print(dict1)"
   ]
  },
  {
   "cell_type": "markdown",
   "metadata": {},
   "source": [
    "Main operations on dictionary are,\n",
    "\n",
    "- Storing key, value pairs\n",
    "- Retrieving value for a given key\n",
    "- Deleting key, value pair\n",
    "- Looping through the keys / values\n",
    "- Check if a key is in dictionary"
   ]
  },
  {
   "cell_type": "code",
   "execution_count": 3,
   "metadata": {},
   "outputs": [
    {
     "data": {
      "text/plain": [
       "{'John': 1098, 'Sarah': 2139}"
      ]
     },
     "execution_count": 3,
     "metadata": {},
     "output_type": "execute_result"
    }
   ],
   "source": [
    "dict1"
   ]
  },
  {
   "cell_type": "code",
   "execution_count": 4,
   "metadata": {},
   "outputs": [],
   "source": [
    "dict1['Mason'] = 5327 #inserting one more value in dictionary with key = Mason"
   ]
  },
  {
   "cell_type": "code",
   "execution_count": 5,
   "metadata": {},
   "outputs": [
    {
     "data": {
      "text/plain": [
       "{'John': 1098, 'Mason': 5327, 'Sarah': 2139}"
      ]
     },
     "execution_count": 5,
     "metadata": {},
     "output_type": "execute_result"
    }
   ],
   "source": [
    "dict1\n"
   ]
  },
  {
   "cell_type": "code",
   "execution_count": 6,
   "metadata": {},
   "outputs": [
    {
     "data": {
      "text/plain": [
       "1098"
      ]
     },
     "execution_count": 6,
     "metadata": {},
     "output_type": "execute_result"
    }
   ],
   "source": [
    "dict1['John'] # Find value associated with John"
   ]
  },
  {
   "cell_type": "code",
   "execution_count": 7,
   "metadata": {},
   "outputs": [],
   "source": [
    "del dict1['Sarah'] # delete an entry "
   ]
  },
  {
   "cell_type": "code",
   "execution_count": 8,
   "metadata": {},
   "outputs": [
    {
     "data": {
      "text/plain": [
       "{'John': 1098, 'Mason': 5327}"
      ]
     },
     "execution_count": 8,
     "metadata": {},
     "output_type": "execute_result"
    }
   ],
   "source": [
    "dict1"
   ]
  },
  {
   "cell_type": "code",
   "execution_count": 9,
   "metadata": {},
   "outputs": [],
   "source": [
    "dict1['Ivan'] = 12137 #inserting one more value in dictionary"
   ]
  },
  {
   "cell_type": "code",
   "execution_count": 10,
   "metadata": {},
   "outputs": [
    {
     "data": {
      "text/plain": [
       "{'Ivan': 12137, 'John': 1098, 'Mason': 5327}"
      ]
     },
     "execution_count": 10,
     "metadata": {},
     "output_type": "execute_result"
    }
   ],
   "source": [
    "dict1"
   ]
  },
  {
   "cell_type": "code",
   "execution_count": 11,
   "metadata": {},
   "outputs": [
    {
     "name": "stdout",
     "output_type": "stream",
     "text": [
      "['John', 'Mason', 'Ivan']\n"
     ]
    }
   ],
   "source": [
    "list1 = list(dict1) # converting dictionary to a list\n",
    "print(list1)"
   ]
  },
  {
   "cell_type": "code",
   "execution_count": 12,
   "metadata": {},
   "outputs": [
    {
     "name": "stdout",
     "output_type": "stream",
     "text": [
      "['Ivan', 'John', 'Mason']\n"
     ]
    }
   ],
   "source": [
    "list1 = sorted(dict1) # sorted list of keys!\n",
    "print(list1)"
   ]
  },
  {
   "cell_type": "code",
   "execution_count": 13,
   "metadata": {},
   "outputs": [
    {
     "data": {
      "text/plain": [
       "False"
      ]
     },
     "execution_count": 13,
     "metadata": {},
     "output_type": "execute_result"
    }
   ],
   "source": [
    "'Guide' in dict1  #search if a key is available in the dictionary"
   ]
  },
  {
   "cell_type": "code",
   "execution_count": 15,
   "metadata": {},
   "outputs": [
    {
     "data": {
      "text/plain": [
       "False"
      ]
     },
     "execution_count": 15,
     "metadata": {},
     "output_type": "execute_result"
    }
   ],
   "source": [
    "'John' not in dict1 # search if a key is NOT available in the dictionary"
   ]
  },
  {
   "cell_type": "markdown",
   "metadata": {},
   "source": [
    "Using the `dict()` constructor to build builds dictionary directly,"
   ]
  },
  {
   "cell_type": "code",
   "execution_count": 16,
   "metadata": {},
   "outputs": [
    {
     "data": {
      "text/plain": [
       "{'John': 4329, 'Sarah': 12127}"
      ]
     },
     "execution_count": 16,
     "metadata": {},
     "output_type": "execute_result"
    }
   ],
   "source": [
    "dict([('John', 4329), ('Sarah', 12127)])"
   ]
  },
  {
   "cell_type": "markdown",
   "metadata": {},
   "source": [
    "### Comprehension\n",
    "\n",
    "`dict` comprehensions can be used to create dictionaries from arbitrary key and value expressions"
   ]
  },
  {
   "cell_type": "code",
   "execution_count": 15,
   "metadata": {},
   "outputs": [
    {
     "data": {
      "text/plain": [
       "{2: 4, 4: 16, 6: 36}"
      ]
     },
     "execution_count": 15,
     "metadata": {},
     "output_type": "execute_result"
    }
   ],
   "source": [
    "{x: x**2 for x in (2, 4, 6)}"
   ]
  },
  {
   "cell_type": "markdown",
   "metadata": {},
   "source": [
    "When the keys are simple strings, it is sometimes easier to specify pairs using keyword arguments:"
   ]
  },
  {
   "cell_type": "code",
   "execution_count": 17,
   "metadata": {},
   "outputs": [
    {
     "data": {
      "text/plain": [
       "{'John': 4329, 'Sarah': 12127}"
      ]
     },
     "execution_count": 17,
     "metadata": {},
     "output_type": "execute_result"
    }
   ],
   "source": [
    "dict(John=4329, Sarah=12127)"
   ]
  },
  {
   "cell_type": "markdown",
   "metadata": {},
   "source": [
    "## Dictionary Looping Techniques"
   ]
  },
  {
   "cell_type": "markdown",
   "metadata": {},
   "source": [
    "### `items()`\n",
    "To enumerate key, value pairs"
   ]
  },
  {
   "cell_type": "code",
   "execution_count": 18,
   "metadata": {},
   "outputs": [],
   "source": [
    "dict1 = {'bell': 'weather', 'future': 'proof'}"
   ]
  },
  {
   "cell_type": "code",
   "execution_count": 19,
   "metadata": {},
   "outputs": [
    {
     "name": "stdout",
     "output_type": "stream",
     "text": [
      "bell weather\n",
      "future proof\n"
     ]
    }
   ],
   "source": [
    "for k, v in dict1.items():\n",
    "...     print(k, v)"
   ]
  },
  {
   "cell_type": "markdown",
   "metadata": {},
   "source": [
    "# Properties of Dictionary Keys"
   ]
  },
  {
   "cell_type": "markdown",
   "metadata": {},
   "source": [
    "Dictionary values have no restrictions. They can be any arbitrary Python object, either standard objects or user-defined objects. However, same is not true for the keys.\n",
    "\n",
    "There are two important points to remember about dictionary keys −"
   ]
  },
  {
   "cell_type": "markdown",
   "metadata": {},
   "source": [
    "(a) More than one entry per key not allowed. Which means no duplicate key is allowed. When duplicate keys encountered during assignment, the last assignment wins. For example −"
   ]
  },
  {
   "cell_type": "code",
   "execution_count": 28,
   "metadata": {},
   "outputs": [
    {
     "name": "stdout",
     "output_type": "stream",
     "text": [
      "dict['Name']:  Manni\n"
     ]
    }
   ],
   "source": [
    "dict = {'Name': 'Zara', 'Age': 7, 'Name': 'Manni'}\n",
    "print (\"dict['Name']: \", dict['Name']) #it produces the following result −"
   ]
  },
  {
   "cell_type": "markdown",
   "metadata": {},
   "source": [
    "(b) Keys must be immutable. Which means you can use strings, numbers or tuples as dictionary keys but something like ['key'] is not allowed. Following is a simple example −"
   ]
  },
  {
   "cell_type": "code",
   "execution_count": 29,
   "metadata": {},
   "outputs": [
    {
     "ename": "TypeError",
     "evalue": "unhashable type: 'list'",
     "output_type": "error",
     "traceback": [
      "\u001b[1;31m---------------------------------------------------------------------------\u001b[0m",
      "\u001b[1;31mTypeError\u001b[0m                                 Traceback (most recent call last)",
      "\u001b[1;32m<ipython-input-29-efe098bb7c70>\u001b[0m in \u001b[0;36m<module>\u001b[1;34m\u001b[0m\n\u001b[1;32m----> 1\u001b[1;33m \u001b[0mdict\u001b[0m \u001b[1;33m=\u001b[0m \u001b[1;33m{\u001b[0m\u001b[1;33m[\u001b[0m\u001b[1;34m'Name'\u001b[0m\u001b[1;33m]\u001b[0m\u001b[1;33m:\u001b[0m \u001b[1;34m'Zara'\u001b[0m\u001b[1;33m,\u001b[0m \u001b[1;34m'Age'\u001b[0m\u001b[1;33m:\u001b[0m \u001b[1;36m7\u001b[0m\u001b[1;33m}\u001b[0m\u001b[1;33m\u001b[0m\u001b[0m\n\u001b[0m\u001b[0;32m      2\u001b[0m \u001b[0mprint\u001b[0m \u001b[1;33m(\u001b[0m\u001b[1;34m\"dict['Name']: \"\u001b[0m\u001b[1;33m,\u001b[0m \u001b[0mdict\u001b[0m\u001b[1;33m[\u001b[0m\u001b[1;34m'Name'\u001b[0m\u001b[1;33m]\u001b[0m\u001b[1;33m)\u001b[0m \u001b[1;31m#it produces the following result −\u001b[0m\u001b[1;33m\u001b[0m\u001b[0m\n",
      "\u001b[1;31mTypeError\u001b[0m: unhashable type: 'list'"
     ]
    }
   ],
   "source": [
    "dict = {['Name']: 'Zara', 'Age': 7}\n",
    "print (\"dict['Name']: \", dict['Name']) #it produces the following result −"
   ]
  },
  {
   "cell_type": "markdown",
   "metadata": {},
   "source": [
    "# Built-in Dictionary Functions & Methods"
   ]
  },
  {
   "cell_type": "markdown",
   "metadata": {},
   "source": [
    "Python includes the following dictionary functions −\n",
    "\n"
   ]
  },
  {
   "cell_type": "markdown",
   "metadata": {},
   "source": [
    "Sr.No.            |Function                        |Description                                               |\n",
    "------------------|--------------------------------|----------------------------------------------------------|\n",
    " 1                |cmp(dict1, dict2)               |Compares elements of both dict.                           |\n",
    " 2                |len(dict)                       |Gives the total length of the dictionary.Number of items  |\n",
    " 3                |str(dict)                       |Produces a printable string representation of a dictionary|                                \n",
    " "
   ]
  },
  {
   "cell_type": "markdown",
   "metadata": {},
   "source": [
    "Python includes following dictionary methods −"
   ]
  },
  {
   "cell_type": "markdown",
   "metadata": {},
   "source": [
    "Python dictionary clear() Method"
   ]
  },
  {
   "cell_type": "markdown",
   "metadata": {},
   "source": [
    "Description\n",
    "Python dictionary method clear() removes all items from the dictionary.\n",
    "\n",
    "Syntax\n",
    "Following is the syntax for clear() method −\n",
    "\n",
    ">> dict.clear()\n",
    "\n",
    "Parameters\n",
    "\n",
    "\n",
    "NA\n",
    "\n",
    "Return Value\n",
    "This method does not return any value.\n",
    "\n",
    "Example\n",
    "\n",
    "The following example shows the usage of clear() method."
   ]
  },
  {
   "cell_type": "code",
   "execution_count": 24,
   "metadata": {
    "ExecuteTime": {
     "end_time": "2020-06-20T05:15:31.658353Z",
     "start_time": "2020-06-20T05:15:31.652211Z"
    }
   },
   "outputs": [
    {
     "name": "stdout",
     "output_type": "stream",
     "text": [
      "Start Len : 2\n",
      "End Len : 0\n"
     ]
    }
   ],
   "source": [
    "dict = {'Name': 'Zara', 'Age': 7};\n",
    "print (\"Start Len : %d\" %  len(dict))\n",
    "dict.clear()\n",
    "print (\"End Len : %d\" %  len(dict)) #it produces following result −"
   ]
  },
  {
   "cell_type": "markdown",
   "metadata": {},
   "source": [
    "Python dictionary copy() Method"
   ]
  },
  {
   "cell_type": "markdown",
   "metadata": {},
   "source": [
    "Description\n",
    "Python dictionary method copy() returns a shallow copy of the dictionary.\n",
    "\n",
    "Syntax\n",
    "Following is the syntax for copy() method −\n",
    "\n",
    ">> dict.copy()\n",
    "\n",
    "Parameters\n",
    "\n",
    "\n",
    "NA\n",
    "\n",
    "Return Value\n",
    "This method returns a shallow copy of the dictionary.\n",
    "\n",
    "Example\n",
    "The following example shows the usage of copy() method.\n",
    "\n"
   ]
  },
  {
   "cell_type": "code",
   "execution_count": 31,
   "metadata": {},
   "outputs": [
    {
     "name": "stdout",
     "output_type": "stream",
     "text": [
      "New Dictionary : {'Name': 'Zara', 'Age': 7}\n"
     ]
    }
   ],
   "source": [
    "dict1 = {'Name': 'Zara', 'Age': 7};\n",
    "dict2 = dict1.copy()\n",
    "print (\"New Dictionary : %s\" %  str(dict2)) #it produces following result −"
   ]
  },
  {
   "cell_type": "markdown",
   "metadata": {},
   "source": [
    "Python dictionary fromkeys() Method"
   ]
  },
  {
   "cell_type": "markdown",
   "metadata": {},
   "source": [
    "Description\n",
    "Python dictionary method fromkeys() creates a new dictionary with keys from seq and values set to value.\n",
    "\n",
    "Syntax\n",
    "Following is the syntax for fromkeys() method −\n",
    "\n",
    ">> dict.fromkeys(seq[, value])\n",
    "\n",
    "\n",
    "Parameters\n",
    "\n",
    "\n",
    "seq − This is the list of values which would be used for dictionary keys preparation.\n",
    "\n",
    "value − This is optional, if provided then value would be set to this value\n",
    "\n",
    "Return Value\n",
    "This method returns the list.\n",
    "\n",
    "Example\n",
    "The following example shows the usage of fromkeys() method.\n",
    "\n"
   ]
  },
  {
   "cell_type": "code",
   "execution_count": 32,
   "metadata": {},
   "outputs": [
    {
     "name": "stdout",
     "output_type": "stream",
     "text": [
      "New Dictionary : {'name': None, 'sex': None, 'age': None}\n",
      "New Dictionary : {'name': 10, 'sex': 10, 'age': 10}\n"
     ]
    }
   ],
   "source": [
    "seq = ('name', 'age', 'sex')\n",
    "dict = dict.fromkeys(seq)\n",
    "print (\"New Dictionary : %s\" %  str(dict))\n",
    "\n",
    "dict = dict.fromkeys(seq, 10)\n",
    "print (\"New Dictionary : %s\" %  str(dict)) #it produces following result −"
   ]
  },
  {
   "cell_type": "markdown",
   "metadata": {},
   "source": [
    "Python dictionary get() Method\n",
    "\n",
    "Description\n",
    "Python dictionary method get() returns a value for the given key. If key is not available then returns default value None.\n",
    "\n",
    "Syntax\n",
    "Following is the syntax for get() method −\n",
    "\n",
    ">> dict.get(key, default = None)\n",
    "\n",
    "\n",
    "Parameters\n",
    "\n",
    "\n",
    "key − This is the Key to be searched in the dictionary.\n",
    "\n",
    "\n",
    "default − This is the Value to be returned in case key does not exist.\n",
    "\n",
    "\n",
    "Return Value\n",
    "This method return a value for the given key. If key is not available, then returns default value None.\n",
    "\n",
    "Example\n",
    "The following example shows the usage of get() method."
   ]
  },
  {
   "cell_type": "code",
   "execution_count": 35,
   "metadata": {},
   "outputs": [
    {
     "name": "stdout",
     "output_type": "stream",
     "text": [
      "Value : 7\n",
      "Value : Never\n"
     ]
    }
   ],
   "source": [
    "dict = {'Name': 'Zabra', 'Age': 7}\n",
    "print (\"Value : %s\" %  dict.get('Age'))\n",
    "print (\"Value : %s\" %  dict.get('Education', \"Never\")) #it produces following result −"
   ]
  },
  {
   "cell_type": "markdown",
   "metadata": {},
   "source": [
    "Python dictionary items() Method\n",
    "\n",
    "Description\n",
    "Python dictionary method items() returns a list of dict's (key, value) tuple pairs\n",
    "\n",
    "Syntax\n",
    "Following is the syntax for items() method −\n",
    "\n",
    ">> dict.items()\n",
    "\n",
    "Parameters\n",
    "\n",
    "\n",
    "NA\n",
    "\n",
    "Return Value\n",
    "This method returns a list of tuple pairs.\n",
    "\n",
    "Example\n",
    "The following example shows the usage of items() method."
   ]
  },
  {
   "cell_type": "code",
   "execution_count": 38,
   "metadata": {},
   "outputs": [
    {
     "name": "stdout",
     "output_type": "stream",
     "text": [
      "Value : dict_items([('Name', 'Zara'), ('Age', 7)])\n"
     ]
    }
   ],
   "source": [
    "dict = {'Name': 'Zara', 'Age': 7}\n",
    "print (\"Value : %s\" %  dict.items()) #it produces following result −"
   ]
  },
  {
   "cell_type": "markdown",
   "metadata": {},
   "source": [
    "Python dictionary keys() Method\n",
    "\n",
    "Description\n",
    "Python dictionary method keys() returns a list of all the available keys in the dictionary.\n",
    "\n",
    "Syntax\n",
    "Following is the syntax for keys() method −\n",
    "\n",
    ">> dict.keys()\n",
    "\n",
    "\n",
    "Parameters\n",
    "\n",
    "NA\n",
    "\n",
    "Return Value\n",
    "This method returns a list of all the available keys in the dictionary.\n",
    "\n",
    "Example\n",
    "The following example shows the usage of keys() method."
   ]
  },
  {
   "cell_type": "code",
   "execution_count": 40,
   "metadata": {},
   "outputs": [
    {
     "name": "stdout",
     "output_type": "stream",
     "text": [
      "Value : dict_keys(['Name', 'Age'])\n"
     ]
    }
   ],
   "source": [
    "dict = {'Name': 'Zara', 'Age': 7}\n",
    "print (\"Value : %s\" %  dict.keys()) #it produces following result −"
   ]
  },
  {
   "cell_type": "markdown",
   "metadata": {},
   "source": [
    "Python dictionary setdefault() Method\n",
    "\n",
    "Description\n",
    "Python dictionary method setdefault() is similar to get(), but will set dict[key]=default if key is not already in dict.\n",
    "\n",
    "Syntax\n",
    "Following is the syntax for setdefault() method −\n",
    "\n",
    ">> dict.setdefault(key, default=None)\n",
    "\n",
    "\n",
    "Parameters\n",
    "\n",
    "key − This is the key to be searched.\n",
    "\n",
    "default − This is the Value to be returned in case key is not found.\n",
    "\n",
    "Return Value\n",
    "This method returns the key value available in the dictionary and if given key is not available then it will return provided default value.\n",
    "\n",
    "Example\n",
    "The following example shows the usage of setdefault() method."
   ]
  },
  {
   "cell_type": "code",
   "execution_count": 43,
   "metadata": {},
   "outputs": [
    {
     "name": "stdout",
     "output_type": "stream",
     "text": [
      "Value : 7\n",
      "Value : None\n"
     ]
    }
   ],
   "source": [
    "dict = {'Name': 'Zara', 'Age': 7}\n",
    "print (\"Value : %s\" %  dict.setdefault('Age', None))\n",
    "print (\"Value : %s\" %  dict.setdefault('Sex', None)) #it produces following result −"
   ]
  },
  {
   "cell_type": "markdown",
   "metadata": {},
   "source": [
    "Python dictionary update() Method\n",
    "\n",
    "Description\n",
    "Python dictionary method update() adds dictionary dict2's key-values pairs in to dict. This function does not return anything.\n",
    "\n",
    "Syntax\n",
    "Following is the syntax for update() method −\n",
    "\n",
    ">> dict.update(dict2)\n",
    "\n",
    "\n",
    "Parameters\n",
    "\n",
    "\n",
    "dict2 − This is the dictionary to be added into dict.\n",
    "\n",
    "Return Value\n",
    "\n",
    "\n",
    "This method does not return any value.\n",
    "\n",
    "Example\n",
    "\n",
    "The following example shows the usage of update() method."
   ]
  },
  {
   "cell_type": "code",
   "execution_count": 46,
   "metadata": {},
   "outputs": [
    {
     "name": "stdout",
     "output_type": "stream",
     "text": [
      "Value : {'Name': 'Zara', 'Sex': 'female', 'Age': 7}\n"
     ]
    }
   ],
   "source": [
    "dict = {'Name': 'Zara', 'Age': 7}\n",
    "dict2 = {'Sex': 'female' }\n",
    "\n",
    "dict.update(dict2)\n",
    "print (\"Value : %s\" %  dict) # it produces following result −"
   ]
  },
  {
   "cell_type": "markdown",
   "metadata": {},
   "source": [
    "Python dictionary values() Method\n",
    "\n",
    "Description\n",
    "Python dictionary method values() returns a list of all the values available in a given dictionary.\n",
    "\n",
    "Syntax\n",
    "Following is the syntax for values() method −\n",
    "\n",
    ">>dict.values()\n",
    "\n",
    "\n",
    "Parameters\n",
    "\n",
    "\n",
    "NA\n",
    "\n",
    "Return Value\n",
    "\n",
    "\n",
    "This method returns a list of all the values available in a given dictionary.\n",
    "\n",
    "Example\n",
    "\n",
    "\n",
    "The following example shows the usage of values() method."
   ]
  },
  {
   "cell_type": "code",
   "execution_count": 50,
   "metadata": {},
   "outputs": [
    {
     "name": "stdout",
     "output_type": "stream",
     "text": [
      "Value : dict_values(['Zara', 7])\n"
     ]
    }
   ],
   "source": [
    "dict = {'Name': 'Zara', 'Age': 7}\n",
    "print (\"Value : %s\" %  dict.values()) #it produces following result −"
   ]
  },
  {
   "cell_type": "markdown",
   "metadata": {},
   "source": [
    "# Participants needs to be used these all function by their own experiment."
   ]
  },
  {
   "cell_type": "markdown",
   "metadata": {},
   "source": [
    "# Practice Work on Dictionaries"
   ]
  },
  {
   "cell_type": "markdown",
   "metadata": {},
   "source": [
    "Question 1) Write a Python program to add a key to a dictionary.\n",
    "\n",
    "Sample Dictionary : {0: 10, 1: 20}\n",
    "\n",
    "\n",
    "Expected Result : {0: 10, 1: 20, 2: 30}"
   ]
  },
  {
   "cell_type": "markdown",
   "metadata": {},
   "source": [
    "Question 2) Write a Python program to concatenate following dictionaries to create a new one.\n",
    "\n",
    "Sample Dictionary :\n",
    "    \n",
    "dic1={1:10, 2:20}\n",
    "\n",
    "dic2={3:30, 4:40}\n",
    "\n",
    "dic3={5:50,6:60}\n",
    "\n",
    "Expected Result : {1: 10, 2: 20, 3: 30, 4: 40, 5: 50, 6: 60}"
   ]
  },
  {
   "cell_type": "markdown",
   "metadata": {},
   "source": [
    "Question 3) Write a Python program to iterate over dictionaries using for loops."
   ]
  },
  {
   "cell_type": "markdown",
   "metadata": {},
   "source": [
    "Question 4)Write a Python script to merge two Python dictionaries."
   ]
  },
  {
   "cell_type": "markdown",
   "metadata": {},
   "source": [
    "# Python - Date & Time"
   ]
  },
  {
   "cell_type": "markdown",
   "metadata": {},
   "source": [
    "A Python program can handle date and time in several ways. Converting between date formats is a common chore for computers. Python's time and calendar modules help track dates and times."
   ]
  },
  {
   "cell_type": "markdown",
   "metadata": {},
   "source": [
    "What is Tick?\n",
    "\n",
    "\n",
    "Time intervals are floating-point numbers in units of seconds. Particular instants in time are expressed in seconds since 12:00am, January 1, 1970(epoch).\n",
    "\n",
    "\n",
    "There is a popular time module available in Python which provides functions for working with times, and for converting between representations. The function time.time() returns the current system time in ticks since 12:00am, January 1, 1970(epoch)."
   ]
  },
  {
   "cell_type": "markdown",
   "metadata": {},
   "source": [
    "# Example"
   ]
  },
  {
   "cell_type": "code",
   "execution_count": 1,
   "metadata": {
    "ExecuteTime": {
     "end_time": "2020-06-27T18:42:37.310483Z",
     "start_time": "2020-06-27T18:42:37.278567Z"
    }
   },
   "outputs": [
    {
     "name": "stdout",
     "output_type": "stream",
     "text": [
      "Number of ticks since 12:00am, January 1, 1970: 1593283357.289539\n"
     ]
    }
   ],
   "source": [
    "import time;  # This is required to include time module.\n",
    "\n",
    "ticks = time.time()\n",
    "print (\"Number of ticks since 12:00am, January 1, 1970:\", ticks) #\n",
    "# This would produce a result something as follows −"
   ]
  },
  {
   "cell_type": "markdown",
   "metadata": {},
   "source": [
    "Date arithmetic is easy to do with ticks. However, dates before the epoch cannot be represented in this form. Dates in the far future also cannot be represented this way - the cutoff point is sometime in 2038 for UNIX and Windows."
   ]
  },
  {
   "cell_type": "markdown",
   "metadata": {},
   "source": [
    "# What is TimeTuple?"
   ]
  },
  {
   "cell_type": "markdown",
   "metadata": {},
   "source": [
    "Many of Python's time functions handle time as a tuple of 9 numbers, as shown below −"
   ]
  },
  {
   "cell_type": "markdown",
   "metadata": {},
   "source": [
    "![date_time_1.PNG](attachment:date_time_1.PNG)"
   ]
  },
  {
   "cell_type": "markdown",
   "metadata": {},
   "source": [
    "The above tuple is equivalent to struct_time structure. This structure has following attributes −"
   ]
  },
  {
   "cell_type": "markdown",
   "metadata": {},
   "source": [
    "![date_time_2.PNG](attachment:date_time_2.PNG)"
   ]
  },
  {
   "cell_type": "markdown",
   "metadata": {},
   "source": [
    "# Getting current time"
   ]
  },
  {
   "cell_type": "markdown",
   "metadata": {},
   "source": [
    "To translate a time instant from a seconds since the epoch floating-point value into a time-tuple, pass the floating-point value to a function (e.g., localtime) that returns a time-tuple with all nine items valid."
   ]
  },
  {
   "cell_type": "code",
   "execution_count": 2,
   "metadata": {
    "ExecuteTime": {
     "end_time": "2020-06-27T18:42:41.778920Z",
     "start_time": "2020-06-27T18:42:41.773936Z"
    }
   },
   "outputs": [
    {
     "name": "stdout",
     "output_type": "stream",
     "text": [
      "Local current time : time.struct_time(tm_year=2020, tm_mon=6, tm_mday=28, tm_hour=0, tm_min=12, tm_sec=41, tm_wday=6, tm_yday=180, tm_isdst=0)\n"
     ]
    }
   ],
   "source": [
    "import time;\n",
    "\n",
    "localtime = time.localtime(time.time())\n",
    "print (\"Local current time :\", localtime)\n",
    "#This would produce the following result, \n",
    "#which could be formatted in any other presentable form −"
   ]
  },
  {
   "cell_type": "markdown",
   "metadata": {},
   "source": [
    "# Getting formatted time"
   ]
  },
  {
   "cell_type": "markdown",
   "metadata": {},
   "source": [
    "We can format any time as per your requirement, but simple method to get time in readable format is asctime() −"
   ]
  },
  {
   "cell_type": "code",
   "execution_count": 4,
   "metadata": {
    "ExecuteTime": {
     "end_time": "2020-06-27T18:43:15.987585Z",
     "start_time": "2020-06-27T18:43:15.983063Z"
    }
   },
   "outputs": [
    {
     "name": "stdout",
     "output_type": "stream",
     "text": [
      "Local current time : Sun Jun 28 00:13:15 2020\n"
     ]
    }
   ],
   "source": [
    "import time;\n",
    "\n",
    "localtime = time.asctime( time.localtime(time.time()) )\n",
    "print (\"Local current time :\", localtime)\n",
    "#This would produce the following result −"
   ]
  },
  {
   "cell_type": "markdown",
   "metadata": {},
   "source": [
    "# Getting calendar for a month"
   ]
  },
  {
   "cell_type": "markdown",
   "metadata": {},
   "source": [
    "The calendar module gives a wide range of methods to play with yearly and monthly calendars. Here, we print a calendar for a given month ( Jan 2020 ) −\n",
    "\n"
   ]
  },
  {
   "cell_type": "code",
   "execution_count": 57,
   "metadata": {},
   "outputs": [
    {
     "name": "stdout",
     "output_type": "stream",
     "text": [
      "Here is the calendar:\n",
      "    January 2020\n",
      "Mo Tu We Th Fr Sa Su\n",
      "       1  2  3  4  5\n",
      " 6  7  8  9 10 11 12\n",
      "13 14 15 16 17 18 19\n",
      "20 21 22 23 24 25 26\n",
      "27 28 29 30 31\n",
      "\n"
     ]
    }
   ],
   "source": [
    "import calendar\n",
    "\n",
    "cal = calendar.month(2020, 1)\n",
    "print (\"Here is the calendar:\")\n",
    "print (cal)\n",
    "# This would produce the following result −"
   ]
  },
  {
   "cell_type": "markdown",
   "metadata": {},
   "source": [
    "Source : https://www.tutorialspoint.com/python/python_date_time.htm"
   ]
  },
  {
   "cell_type": "markdown",
   "metadata": {},
   "source": [
    "Please go to this link and practice-\n",
    "\n",
    "The time Module:\n",
    "\n",
    "1) time.altzone\n",
    "\n",
    "The offset of the local DST timezone, in seconds west of UTC, if one is defined. This is negative if the local DST     timezone is east of UTC (as in Western Europe, including the UK). Only use this if daylight is nonzero.\n",
    "\n",
    "2) time.asctime([tupletime])\n",
    "\n",
    "Accepts a time-tuple and returns a readable 24-character string such as 'Tue Dec 11 18:07:14 2019'.\n",
    "\n",
    "3) time.clock( )\n",
    "\n",
    "Returns the current CPU time as a floating-point number of seconds. To measure computational costs of different approaches, the value of time.clock is more useful than that of time.time().\n",
    "\n",
    "4) time.ctime([secs])\n",
    "\n",
    "Like asctime(localtime(secs)) and without arguments is like asctime( )\n",
    "\n",
    "5) \ttime.gmtime([secs])\n",
    "\n",
    "Accepts an instant expressed in seconds since the epoch and returns a time-tuple t with the UTC time. Note : t.tm_isdst is always 0\n",
    "\n",
    "6) time.localtime([secs])\n",
    "\n",
    "Accepts an instant expressed in seconds since the epoch and returns a time-tuple t with the local time (t.tm_isdst is 0 or 1, depending on whether DST applies to instant secs by local rules).\n",
    "\n",
    "7) time.mktime(tupletime)\n",
    "\n",
    "Accepts an instant expressed as a time-tuple in local time and returns a floating-point value with the instant expressed in seconds since the epoch.\n",
    "\n",
    "8) \ttime.sleep(secs)\n",
    "\n",
    "Suspends the calling thread for secs seconds.\n",
    "\n",
    "9) \ttime.strftime(fmt[,tupletime])\n",
    "\n",
    "Accepts an instant expressed as a time-tuple in local time and returns a string representing the instant as specified by string fmt.\n",
    "\n",
    "10) time.strptime(str,fmt='%a %b %d %H:%M:%S %Y')\n",
    "\n",
    "Parses str according to format string fmt and returns the instant in time-tuple format.\n",
    "\n",
    "11) time.time( )\n",
    "\n",
    "Returns the current time instant, a floating-point number of seconds since the epoch.\n",
    "\n",
    "12) time.tzset()\n",
    "\n",
    "Resets the time conversion rules used by the library routines. The environment variable TZ specifies how this is done.\n",
    "    "
   ]
  }
 ],
 "metadata": {
  "kernelspec": {
   "display_name": "Python 3",
   "language": "python",
   "name": "python3"
  },
  "language_info": {
   "codemirror_mode": {
    "name": "ipython",
    "version": 3
   },
   "file_extension": ".py",
   "mimetype": "text/x-python",
   "name": "python",
   "nbconvert_exporter": "python",
   "pygments_lexer": "ipython3",
   "version": "3.7.6"
  },
  "latex_envs": {
   "LaTeX_envs_menu_present": true,
   "autoclose": false,
   "autocomplete": true,
   "bibliofile": "biblio.bib",
   "cite_by": "apalike",
   "current_citInitial": 1,
   "eqLabelWithNumbers": true,
   "eqNumInitial": 1,
   "hotkeys": {
    "equation": "Ctrl-E",
    "itemize": "Ctrl-I"
   },
   "labels_anchors": false,
   "latex_user_defs": false,
   "report_style_numbering": false,
   "user_envs_cfg": false
  },
  "toc": {
   "base_numbering": 1,
   "nav_menu": {},
   "number_sections": true,
   "sideBar": true,
   "skip_h1_title": false,
   "title_cell": "Table of Contents",
   "title_sidebar": "Contents",
   "toc_cell": false,
   "toc_position": {},
   "toc_section_display": true,
   "toc_window_display": false
  }
 },
 "nbformat": 4,
 "nbformat_minor": 2
}
