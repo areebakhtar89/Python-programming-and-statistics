{
 "cells": [
  {
   "cell_type": "markdown",
   "metadata": {},
   "source": [
    "# List and its Operations"
   ]
  },
  {
   "cell_type": "markdown",
   "metadata": {},
   "source": [
    "## Lists"
   ]
  },
  {
   "cell_type": "markdown",
   "metadata": {},
   "source": [
    "`list` is the most versatile datatype available in Python which can be written as a list of comma-separated values (items) between square brackets. Further, items in a list need not be of the same type!\n",
    "\n",
    "Creating a list is as simple as putting different comma-separated values between square brackets. For example,"
   ]
  },
  {
   "cell_type": "code",
   "execution_count": 8,
   "metadata": {
    "ExecuteTime": {
     "end_time": "2020-06-27T16:19:28.304334Z",
     "start_time": "2020-06-27T16:19:28.297357Z"
    }
   },
   "outputs": [
    {
     "name": "stdout",
     "output_type": "stream",
     "text": [
      "['physics', 'chemistry', 1997, 2000]\n",
      "[1, 2, 3, 4, 5]\n",
      "['a', 'b', 'c', 'd']\n",
      "a 1\n",
      "b 2\n",
      "c 3\n",
      "d 4\n"
     ]
    },
    {
     "data": {
      "text/plain": [
       "[None, None, None, None]"
      ]
     },
     "execution_count": 8,
     "metadata": {},
     "output_type": "execute_result"
    }
   ],
   "source": [
    "list1 = ['physics', 'chemistry', 1997, 2000]\n",
    "print(list1)\n",
    "list2 = [1, 2, 3, 4, 5 ]\n",
    "print(list2)\n",
    "list3 = [\"a\", \"b\", \"c\", \"d\"]\n",
    "print(list3)\n",
    "\n",
    "[print(x,y) for x,y in zip(list3,list2)]"
   ]
  },
  {
   "cell_type": "markdown",
   "metadata": {
    "ExecuteTime": {
     "end_time": "2020-06-19T18:07:16.266088Z",
     "start_time": "2020-06-19T18:07:16.261093Z"
    }
   },
   "source": [
    "Similar to string indices, list indices __start at 0__, and lists can be __sliced__, __concatenated__ and so on."
   ]
  },
  {
   "cell_type": "markdown",
   "metadata": {},
   "source": [
    "## Indexing"
   ]
  },
  {
   "cell_type": "markdown",
   "metadata": {},
   "source": [
    "List allows user to store an enumerated set of items in one place and access an item by its position, i.e., __index__."
   ]
  },
  {
   "cell_type": "markdown",
   "metadata": {},
   "source": [
    "Consider the following example,"
   ]
  },
  {
   "cell_type": "code",
   "execution_count": null,
   "metadata": {},
   "outputs": [],
   "source": [
    "colors = ['red', 'green', 'blue', 'yellow', 'white', 'black']"
   ]
  },
  {
   "cell_type": "markdown",
   "metadata": {},
   "source": [
    "Here we have defined a `list` of colors. Each item in the list has a __value__ (i.e. color name) and an __index__ (its position in the list). Python uses zero-based indexing. Hence, the first element (value ‘red’) has an index 0, the second element (value ‘green’) has index 1, and so on."
   ]
  },
  {
   "cell_type": "markdown",
   "metadata": {},
   "source": [
    "![](../../all_images/positive-indexes.png)"
   ]
  },
  {
   "cell_type": "markdown",
   "metadata": {},
   "source": [
    "To access an element by its index we need to use square brackets:"
   ]
  },
  {
   "cell_type": "code",
   "execution_count": null,
   "metadata": {},
   "outputs": [],
   "source": [
    "colors[0]"
   ]
  },
  {
   "cell_type": "code",
   "execution_count": null,
   "metadata": {},
   "outputs": [],
   "source": [
    "colors[5]"
   ]
  },
  {
   "cell_type": "markdown",
   "metadata": {},
   "source": [
    "### Negative indexes"
   ]
  },
  {
   "cell_type": "markdown",
   "metadata": {},
   "source": [
    "Using indexing we can easily get any element by its position. This is handy if we use position from the head of a list. But what if we want to take the last element of a list? Or the penultimate element? In this case, we want to enumerate elements from the tail of a list."
   ]
  },
  {
   "cell_type": "markdown",
   "metadata": {},
   "source": [
    "To address this requirement there is negative indexing. So, instead of using indexes from zero and above, we can use indexes from -1 and below."
   ]
  },
  {
   "cell_type": "markdown",
   "metadata": {},
   "source": [
    "![](../../all_images/negative-indexes.png)"
   ]
  },
  {
   "cell_type": "markdown",
   "metadata": {},
   "source": [
    "In negative indexing system -1 corresponds to the last element of the list (value ‘black’), -2 to the penultimate (value ‘white’), and so on."
   ]
  },
  {
   "cell_type": "code",
   "execution_count": null,
   "metadata": {},
   "outputs": [],
   "source": [
    "colors[-1]"
   ]
  },
  {
   "cell_type": "code",
   "execution_count": null,
   "metadata": {},
   "outputs": [],
   "source": [
    "colors[-2]"
   ]
  },
  {
   "cell_type": "markdown",
   "metadata": {},
   "source": [
    "## Slice Notation"
   ]
  },
  {
   "cell_type": "markdown",
   "metadata": {},
   "source": [
    "Indexing allows you to access/change/delete only a single cell of a list. What if we want to get a sublist of the list. Or we want to update a bunch of cells at once? For this we use the __slice notation__."
   ]
  },
  {
   "cell_type": "markdown",
   "metadata": {},
   "source": [
    "### Basic Usage of Slice Notation"
   ]
  },
  {
   "cell_type": "code",
   "execution_count": 11,
   "metadata": {
    "ExecuteTime": {
     "end_time": "2020-06-27T16:49:10.552840Z",
     "start_time": "2020-06-27T16:49:10.546855Z"
    }
   },
   "outputs": [],
   "source": [
    "nums = [100, 200, 300, 400, 500, 600, 700, 800, 900] # Let’s create a basic list"
   ]
  },
  {
   "cell_type": "markdown",
   "metadata": {},
   "source": [
    "What if we want to extract a sublist from this list?"
   ]
  },
  {
   "cell_type": "code",
   "execution_count": 18,
   "metadata": {
    "ExecuteTime": {
     "end_time": "2020-06-27T16:49:49.273275Z",
     "start_time": "2020-06-27T16:49:49.266294Z"
    }
   },
   "outputs": [
    {
     "data": {
      "text/plain": [
       "[300, 400, 500, 600]"
      ]
     },
     "execution_count": 18,
     "metadata": {},
     "output_type": "execute_result"
    }
   ],
   "source": [
    "sliced_nums = nums[2:6] # Extract a slice of numbers!\n",
    "sliced_nums"
   ]
  },
  {
   "cell_type": "markdown",
   "metadata": {},
   "source": [
    "The slicing syntax is: `start:stop:step`. `start` refers to the index of the element which is used as a start of our slice. `stop` refers to the index of the element we should stop __just before__ to finish our slice. `step` allows you to take each nth-element within a start:stop range."
   ]
  },
  {
   "cell_type": "markdown",
   "metadata": {},
   "source": [
    "In our example, start = 3, so our slice starts from value 400. stop = 8, so the last element of the slice is 800 with index 7. Slicing results in the creation of a new list that is stored in variable `sliced_nums`"
   ]
  },
  {
   "cell_type": "markdown",
   "metadata": {},
   "source": [
    "Note: Here our step size is 1, hence we didn't skip any numbers from the list."
   ]
  },
  {
   "cell_type": "code",
   "execution_count": 14,
   "metadata": {
    "ExecuteTime": {
     "end_time": "2020-06-19T18:17:50.301541Z",
     "start_time": "2020-06-19T18:17:50.297510Z"
    }
   },
   "outputs": [
    {
     "data": {
      "text/plain": [
       "[200, 300, 400, 500]"
      ]
     },
     "execution_count": 14,
     "metadata": {},
     "output_type": "execute_result"
    }
   ],
   "source": [
    "# Another example, to extract arbitrary parts of the list\n",
    "nums[1:5]"
   ]
  },
  {
   "cell_type": "markdown",
   "metadata": {},
   "source": [
    "Here we start from the second element at index 1 and take all the elements in the list till the element with index 4."
   ]
  },
  {
   "cell_type": "markdown",
   "metadata": {},
   "source": [
    "### Slice First N Elements"
   ]
  },
  {
   "cell_type": "code",
   "execution_count": 15,
   "metadata": {
    "ExecuteTime": {
     "end_time": "2020-06-19T18:27:47.298932Z",
     "start_time": "2020-06-19T18:27:47.293945Z"
    }
   },
   "outputs": [
    {
     "name": "stdout",
     "output_type": "stream",
     "text": [
      "[100, 200, 300, 400, 500]\n",
      "[]\n"
     ]
    }
   ],
   "source": [
    "# Notation shortcut -- To slice first N elements of a list, here start position is skipped defaulting to 0\n",
    "print(nums[:5]) # slice first 5 elements\n",
    "print(nums[:0]) # slice no elements (not useful though)"
   ]
  },
  {
   "cell_type": "markdown",
   "metadata": {},
   "source": [
    "### Slice Last N Elements"
   ]
  },
  {
   "cell_type": "code",
   "execution_count": 17,
   "metadata": {
    "ExecuteTime": {
     "end_time": "2020-06-19T18:28:16.651385Z",
     "start_time": "2020-06-19T18:28:16.647396Z"
    }
   },
   "outputs": [
    {
     "name": "stdout",
     "output_type": "stream",
     "text": [
      "[700, 800, 900]\n",
      "[100, 200, 300, 400, 500, 600]\n"
     ]
    }
   ],
   "source": [
    "# Notation shortcut -- To slice last N elements of a list, here end position is skipped defaulting to last element\n",
    "print(nums[-3:])  # slice last 3 elements\n",
    "print(nums[:-3])"
   ]
  },
  {
   "cell_type": "markdown",
   "metadata": {},
   "source": [
    "### Mix and Match (Positive and Negative Indexes)"
   ]
  },
  {
   "cell_type": "code",
   "execution_count": 22,
   "metadata": {
    "ExecuteTime": {
     "end_time": "2020-06-19T18:29:27.753842Z",
     "start_time": "2020-06-19T18:29:27.748855Z"
    }
   },
   "outputs": [
    {
     "data": {
      "text/plain": [
       "[200, 300, 400, 500, 600, 700, 800]"
      ]
     },
     "execution_count": 22,
     "metadata": {},
     "output_type": "execute_result"
    }
   ],
   "source": [
    "# Easily combine negative and positive indexes in start and stop positions\n",
    "nums[1:-1]"
   ]
  },
  {
   "cell_type": "code",
   "execution_count": 23,
   "metadata": {
    "ExecuteTime": {
     "end_time": "2020-06-19T18:29:29.676687Z",
     "start_time": "2020-06-19T18:29:29.672697Z"
    }
   },
   "outputs": [
    {
     "data": {
      "text/plain": [
       "[700, 800]"
      ]
     },
     "execution_count": 23,
     "metadata": {},
     "output_type": "execute_result"
    }
   ],
   "source": [
    " nums[-3:8]"
   ]
  },
  {
   "cell_type": "code",
   "execution_count": 24,
   "metadata": {
    "ExecuteTime": {
     "end_time": "2020-06-19T18:29:29.963085Z",
     "start_time": "2020-06-19T18:29:29.958060Z"
    }
   },
   "outputs": [
    {
     "data": {
      "text/plain": [
       "[500, 600, 700, 800]"
      ]
     },
     "execution_count": 24,
     "metadata": {},
     "output_type": "execute_result"
    }
   ],
   "source": [
    "nums[-5:-1] "
   ]
  },
  {
   "cell_type": "markdown",
   "metadata": {},
   "source": [
    "### All but N Last Elements of a List"
   ]
  },
  {
   "cell_type": "markdown",
   "metadata": {},
   "source": [
    "Another good usage of negative indexes:"
   ]
  },
  {
   "cell_type": "code",
   "execution_count": 19,
   "metadata": {
    "ExecuteTime": {
     "end_time": "2020-06-27T16:50:27.949280Z",
     "start_time": "2020-06-27T16:50:27.944327Z"
    }
   },
   "outputs": [
    {
     "data": {
      "text/plain": [
       "[100, 200, 300, 400, 500, 600, 700]"
      ]
     },
     "execution_count": 19,
     "metadata": {},
     "output_type": "execute_result"
    }
   ],
   "source": [
    "nums[:-2] #We take all but the last two elements of original list."
   ]
  },
  {
   "cell_type": "markdown",
   "metadata": {},
   "source": [
    "### Every Nth-Element of a List"
   ]
  },
  {
   "cell_type": "markdown",
   "metadata": {},
   "source": [
    "What if we want to have only every __third__ element from the list? We use the __step__ parameter,"
   ]
  },
  {
   "cell_type": "code",
   "execution_count": 20,
   "metadata": {
    "ExecuteTime": {
     "end_time": "2020-06-27T16:50:35.293370Z",
     "start_time": "2020-06-27T16:50:35.286386Z"
    }
   },
   "outputs": [
    {
     "data": {
      "text/plain": [
       "[100, 400, 700]"
      ]
     },
     "execution_count": 20,
     "metadata": {},
     "output_type": "execute_result"
    }
   ],
   "source": [
    "nums[::3]"
   ]
  },
  {
   "cell_type": "markdown",
   "metadata": {},
   "source": [
    "Now, we can provide all the three parameters to effectively slice the list!"
   ]
  },
  {
   "cell_type": "code",
   "execution_count": 21,
   "metadata": {
    "ExecuteTime": {
     "end_time": "2020-06-27T16:50:38.335792Z",
     "start_time": "2020-06-27T16:50:38.330806Z"
    }
   },
   "outputs": [
    {
     "data": {
      "text/plain": [
       "[200, 500, 800]"
      ]
     },
     "execution_count": 21,
     "metadata": {},
     "output_type": "execute_result"
    }
   ],
   "source": [
    "nums[1::3]"
   ]
  },
  {
   "cell_type": "code",
   "execution_count": null,
   "metadata": {},
   "outputs": [],
   "source": [
    " nums[1:-3:2]"
   ]
  },
  {
   "cell_type": "markdown",
   "metadata": {},
   "source": [
    "### Negative Step with Reversed List"
   ]
  },
  {
   "cell_type": "markdown",
   "metadata": {},
   "source": [
    "We can use a negative step to obtain a reversed list:"
   ]
  },
  {
   "cell_type": "code",
   "execution_count": null,
   "metadata": {},
   "outputs": [],
   "source": [
    "nums[::-1]"
   ]
  },
  {
   "cell_type": "markdown",
   "metadata": {},
   "source": [
    "While it is possible to use negative steps, we will advice against it use. As it makes the program less readable. Alternately, we can create another list with elements in the reverse order and use positive index."
   ]
  },
  {
   "cell_type": "markdown",
   "metadata": {},
   "source": [
    "## Accessing Values in Lists"
   ]
  },
  {
   "cell_type": "markdown",
   "metadata": {},
   "source": [
    "To access values in lists, use the square brackets for slicing along with the index or indices to obtain value available at that index. For example −\n",
    "\n"
   ]
  },
  {
   "cell_type": "code",
   "execution_count": 22,
   "metadata": {
    "ExecuteTime": {
     "end_time": "2020-06-27T17:06:58.964699Z",
     "start_time": "2020-06-27T17:06:58.959742Z"
    }
   },
   "outputs": [
    {
     "name": "stdout",
     "output_type": "stream",
     "text": [
      "list1[0]:  biology\n",
      "list2[1:5]:  [20, 30, 40, 50]\n"
     ]
    }
   ],
   "source": [
    "list1 = ['biology', 'sociology', 1979, 1998]\n",
    "list2 = [10, 20, 30, 40, 50, 60, 70]\n",
    "print(\"list1[0]: \", list1[0])\n",
    "print(\"list2[1:5]: \", list2[1:5])"
   ]
  },
  {
   "cell_type": "markdown",
   "metadata": {},
   "source": [
    "## Updating Lists"
   ]
  },
  {
   "cell_type": "markdown",
   "metadata": {},
   "source": [
    "Lists can be updated using the assignment operator or with `append()` method"
   ]
  },
  {
   "cell_type": "code",
   "execution_count": 26,
   "metadata": {
    "ExecuteTime": {
     "end_time": "2020-06-19T18:30:29.008819Z",
     "start_time": "2020-06-19T18:30:29.004819Z"
    }
   },
   "outputs": [
    {
     "name": "stdout",
     "output_type": "stream",
     "text": [
      "Value available at index 2 :  1979\n"
     ]
    }
   ],
   "source": [
    "print(\"Value available at index 2 : \", list1[2]) # old results"
   ]
  },
  {
   "cell_type": "code",
   "execution_count": 27,
   "metadata": {
    "ExecuteTime": {
     "end_time": "2020-06-19T18:30:29.342761Z",
     "start_time": "2020-06-19T18:30:29.338772Z"
    }
   },
   "outputs": [],
   "source": [
    "list1[2] = 2001"
   ]
  },
  {
   "cell_type": "code",
   "execution_count": 28,
   "metadata": {
    "ExecuteTime": {
     "end_time": "2020-06-19T18:30:29.644096Z",
     "start_time": "2020-06-19T18:30:29.641103Z"
    }
   },
   "outputs": [
    {
     "name": "stdout",
     "output_type": "stream",
     "text": [
      "New value at index 2 :  2001\n"
     ]
    }
   ],
   "source": [
    "print(\"New value at index 2 : \", list1[2]) # new results"
   ]
  },
  {
   "cell_type": "markdown",
   "metadata": {},
   "source": [
    "## Delete One or More List Elements"
   ]
  },
  {
   "cell_type": "markdown",
   "metadata": {},
   "source": [
    "If you know the exact position of the element to remove than use `del` keyword, otherwise use `remove()` method."
   ]
  },
  {
   "cell_type": "code",
   "execution_count": 23,
   "metadata": {
    "ExecuteTime": {
     "end_time": "2020-06-27T17:07:11.713196Z",
     "start_time": "2020-06-27T17:07:11.709238Z"
    }
   },
   "outputs": [
    {
     "name": "stdout",
     "output_type": "stream",
     "text": [
      "['biology', 'sociology', 1979, 1998]\n"
     ]
    }
   ],
   "source": [
    "print(list1) # Original list\n",
    "del list1[3] # delete the 4th element of list"
   ]
  },
  {
   "cell_type": "code",
   "execution_count": 25,
   "metadata": {
    "ExecuteTime": {
     "end_time": "2020-06-27T17:07:48.982266Z",
     "start_time": "2020-06-27T17:07:48.975282Z"
    }
   },
   "outputs": [
    {
     "name": "stdout",
     "output_type": "stream",
     "text": [
      "['biology', 'sociology', 1979]\n",
      "[]\n"
     ]
    }
   ],
   "source": [
    "print(list1) # After deleting value at index 3 \n",
    "del list1[:3]\n",
    "print(list1)"
   ]
  },
  {
   "cell_type": "markdown",
   "metadata": {},
   "source": [
    "## Basic List Operations"
   ]
  },
  {
   "cell_type": "markdown",
   "metadata": {},
   "source": [
    "Lists support operators such as `+` (concatenation of lists) and `*` (repetition of lists). Following are the operators supported by lists"
   ]
  },
  {
   "cell_type": "markdown",
   "metadata": {},
   "source": [
    " Python Expression            |Results                         |Description  |\n",
    "------------------------------|--------------------------------|-------------|\n",
    " len([1, 2, 3])               |3                               |Length       |\n",
    " [1, 2, 3] + [4, 5, 6]        |[1, 2, 3, 4, 5, 6]              |Concatenation|       \n",
    " ['Hi!'] * 4                  |['Hi!', 'Hi!', 'Hi!', 'Hi!']    |Repetition   |\n",
    " 3 in [1, 2, 3]               |True                            |Membership   |\n",
    " for x in [1, 2, 3]: print (x)|123                             |Iteration    |\n"
   ]
  },
  {
   "cell_type": "markdown",
   "metadata": {},
   "source": [
    "## Built-in List Functions"
   ]
  },
  {
   "cell_type": "code",
   "execution_count": 39,
   "metadata": {
    "ExecuteTime": {
     "end_time": "2020-06-19T18:31:47.463830Z",
     "start_time": "2020-06-19T18:31:47.460876Z"
    }
   },
   "outputs": [],
   "source": [
    "list1 = [4561, 7001, 1200]"
   ]
  },
  {
   "cell_type": "code",
   "execution_count": 40,
   "metadata": {
    "ExecuteTime": {
     "end_time": "2020-06-19T18:31:47.707312Z",
     "start_time": "2020-06-19T18:31:47.702315Z"
    }
   },
   "outputs": [
    {
     "data": {
      "text/plain": [
       "3"
      ]
     },
     "execution_count": 40,
     "metadata": {},
     "output_type": "execute_result"
    }
   ],
   "source": [
    "len(list1) # length"
   ]
  },
  {
   "cell_type": "code",
   "execution_count": 41,
   "metadata": {
    "ExecuteTime": {
     "end_time": "2020-06-19T18:31:47.928089Z",
     "start_time": "2020-06-19T18:31:47.923138Z"
    }
   },
   "outputs": [
    {
     "data": {
      "text/plain": [
       "7001"
      ]
     },
     "execution_count": 41,
     "metadata": {},
     "output_type": "execute_result"
    }
   ],
   "source": [
    "max(list1) # maximum value of list"
   ]
  },
  {
   "cell_type": "code",
   "execution_count": 42,
   "metadata": {
    "ExecuteTime": {
     "end_time": "2020-06-19T18:31:48.313422Z",
     "start_time": "2020-06-19T18:31:48.308393Z"
    }
   },
   "outputs": [
    {
     "data": {
      "text/plain": [
       "1200"
      ]
     },
     "execution_count": 42,
     "metadata": {},
     "output_type": "execute_result"
    }
   ],
   "source": [
    "min(list1) # minimum value of list"
   ]
  },
  {
   "cell_type": "markdown",
   "metadata": {},
   "source": [
    "### `zip()` \n",
    "To loop over two or more sequences at the same time, the entries can be paired with `zip()` function."
   ]
  },
  {
   "cell_type": "code",
   "execution_count": 43,
   "metadata": {
    "ExecuteTime": {
     "end_time": "2020-06-19T18:32:14.721515Z",
     "start_time": "2020-06-19T18:32:14.717526Z"
    }
   },
   "outputs": [
    {
     "name": "stdout",
     "output_type": "stream",
     "text": [
      "A, Red\n",
      "B, Blue\n",
      "C, Green\n"
     ]
    }
   ],
   "source": [
    "l1 = ['A', 'B', 'C']\n",
    "l2 = ['Red', 'Blue', 'Green']\n",
    "for q, a in zip(l1, l2):\n",
    "    print('{0}, {1}'.format(q, a))"
   ]
  },
  {
   "cell_type": "markdown",
   "metadata": {},
   "source": [
    "### `reverse()`\n",
    "Loops over a sequence in reverse"
   ]
  },
  {
   "cell_type": "code",
   "execution_count": 78,
   "metadata": {
    "ExecuteTime": {
     "end_time": "2020-06-20T05:21:55.946440Z",
     "start_time": "2020-06-20T05:21:55.938726Z"
    }
   },
   "outputs": [
    {
     "name": "stdout",
     "output_type": "stream",
     "text": [
      "1\n",
      "3\n",
      "5\n",
      "7\n",
      "9\n"
     ]
    }
   ],
   "source": [
    "for i in range(1, 10, 2): # range (start, stop, step)\n",
    "    print(i)"
   ]
  },
  {
   "cell_type": "code",
   "execution_count": 1,
   "metadata": {},
   "outputs": [
    {
     "name": "stdout",
     "output_type": "stream",
     "text": [
      "9\n",
      "7\n",
      "5\n",
      "3\n",
      "1\n"
     ]
    }
   ],
   "source": [
    "for i in reversed(range(1, 10, 2)):\n",
    "    print(i)"
   ]
  },
  {
   "cell_type": "markdown",
   "metadata": {},
   "source": [
    "### `sorted()`\n",
    "Sorts the list, leaving the source unchanged!"
   ]
  },
  {
   "cell_type": "code",
   "execution_count": 2,
   "metadata": {},
   "outputs": [
    {
     "name": "stdout",
     "output_type": "stream",
     "text": [
      "apple\n",
      "banana\n",
      "orange\n",
      "pear\n"
     ]
    }
   ],
   "source": [
    "basket = ['apple', 'orange', 'apple', 'pear', 'orange', 'banana']\n",
    "for f in sorted(set(basket)):\n",
    "    print(f)"
   ]
  },
  {
   "cell_type": "markdown",
   "metadata": {},
   "source": [
    "## Built-in List Methods\n",
    "\n"
   ]
  },
  {
   "cell_type": "markdown",
   "metadata": {},
   "source": [
    "### `append()`"
   ]
  },
  {
   "cell_type": "markdown",
   "metadata": {},
   "source": [
    "Appends a passed object to the end of the list. Note, we need a list object to invoke `append()`."
   ]
  },
  {
   "cell_type": "code",
   "execution_count": null,
   "metadata": {},
   "outputs": [],
   "source": [
    "# Syntax\n",
    "# list.append(obj)"
   ]
  },
  {
   "cell_type": "markdown",
   "metadata": {},
   "source": [
    "Let's append a number (541) to our existing list"
   ]
  },
  {
   "cell_type": "code",
   "execution_count": 46,
   "metadata": {
    "ExecuteTime": {
     "end_time": "2020-06-19T18:39:10.571177Z",
     "start_time": "2020-06-19T18:39:10.567189Z"
    }
   },
   "outputs": [],
   "source": [
    "list1 = [4561, 7001, 1200]"
   ]
  },
  {
   "cell_type": "code",
   "execution_count": 47,
   "metadata": {
    "ExecuteTime": {
     "end_time": "2020-06-19T18:39:10.957689Z",
     "start_time": "2020-06-19T18:39:10.953700Z"
    }
   },
   "outputs": [],
   "source": [
    "list1.append(541)"
   ]
  },
  {
   "cell_type": "code",
   "execution_count": 48,
   "metadata": {
    "ExecuteTime": {
     "end_time": "2020-06-19T18:39:11.495621Z",
     "start_time": "2020-06-19T18:39:11.492610Z"
    }
   },
   "outputs": [
    {
     "name": "stdout",
     "output_type": "stream",
     "text": [
      "[4561, 7001, 1200, 541]\n"
     ]
    }
   ],
   "source": [
    "print(list1)"
   ]
  },
  {
   "cell_type": "markdown",
   "metadata": {},
   "source": [
    "### `count()`"
   ]
  },
  {
   "cell_type": "markdown",
   "metadata": {},
   "source": [
    "Counts how many times an object occurs in the list"
   ]
  },
  {
   "cell_type": "code",
   "execution_count": 49,
   "metadata": {
    "ExecuteTime": {
     "end_time": "2020-06-19T18:39:27.944594Z",
     "start_time": "2020-06-19T18:39:27.940618Z"
    }
   },
   "outputs": [
    {
     "data": {
      "text/plain": [
       "1"
      ]
     },
     "execution_count": 49,
     "metadata": {},
     "output_type": "execute_result"
    }
   ],
   "source": [
    "list1.count(541)"
   ]
  },
  {
   "cell_type": "code",
   "execution_count": 50,
   "metadata": {
    "ExecuteTime": {
     "end_time": "2020-06-19T18:39:31.160648Z",
     "start_time": "2020-06-19T18:39:31.155620Z"
    }
   },
   "outputs": [
    {
     "data": {
      "text/plain": [
       "2"
      ]
     },
     "execution_count": 50,
     "metadata": {},
     "output_type": "execute_result"
    }
   ],
   "source": [
    "list1.append(541)\n",
    "list1.count(541)"
   ]
  },
  {
   "cell_type": "code",
   "execution_count": 51,
   "metadata": {
    "ExecuteTime": {
     "end_time": "2020-06-19T18:39:32.296915Z",
     "start_time": "2020-06-19T18:39:32.291930Z"
    }
   },
   "outputs": [
    {
     "data": {
      "text/plain": [
       "0"
      ]
     },
     "execution_count": 51,
     "metadata": {},
     "output_type": "execute_result"
    }
   ],
   "source": [
    "list1.count(100)"
   ]
  },
  {
   "cell_type": "markdown",
   "metadata": {},
   "source": [
    "### `extend()`"
   ]
  },
  {
   "cell_type": "markdown",
   "metadata": {},
   "source": [
    "Appends the contents of a sequence to the list. Doesn't return any value."
   ]
  },
  {
   "cell_type": "code",
   "execution_count": 52,
   "metadata": {
    "ExecuteTime": {
     "end_time": "2020-06-19T18:39:40.139576Z",
     "start_time": "2020-06-19T18:39:40.136575Z"
    }
   },
   "outputs": [],
   "source": [
    "# Syntax\n",
    "# list.extend(seq)"
   ]
  },
  {
   "cell_type": "code",
   "execution_count": 53,
   "metadata": {
    "ExecuteTime": {
     "end_time": "2020-06-19T18:39:40.586718Z",
     "start_time": "2020-06-19T18:39:40.582682Z"
    }
   },
   "outputs": [],
   "source": [
    "list2 = [2019, 'Johnny']"
   ]
  },
  {
   "cell_type": "code",
   "execution_count": 54,
   "metadata": {
    "ExecuteTime": {
     "end_time": "2020-06-19T18:39:41.700997Z",
     "start_time": "2020-06-19T18:39:41.698039Z"
    }
   },
   "outputs": [],
   "source": [
    "list1.extend(list2)"
   ]
  },
  {
   "cell_type": "code",
   "execution_count": 55,
   "metadata": {
    "ExecuteTime": {
     "end_time": "2020-06-19T18:39:42.235563Z",
     "start_time": "2020-06-19T18:39:42.231588Z"
    }
   },
   "outputs": [
    {
     "data": {
      "text/plain": [
       "[4561, 7001, 1200, 541, 541, 2019, 'Johnny']"
      ]
     },
     "execution_count": 55,
     "metadata": {},
     "output_type": "execute_result"
    }
   ],
   "source": [
    "list1"
   ]
  },
  {
   "cell_type": "markdown",
   "metadata": {},
   "source": [
    "### `index()`\n",
    "\n",
    "Returns the lowest index in list at which the specified object is found. If the object is not found the method raises an exception."
   ]
  },
  {
   "cell_type": "code",
   "execution_count": null,
   "metadata": {},
   "outputs": [],
   "source": [
    "# Syntax\n",
    "# list.index(obj)"
   ]
  },
  {
   "cell_type": "code",
   "execution_count": 56,
   "metadata": {
    "ExecuteTime": {
     "end_time": "2020-06-19T18:39:59.806062Z",
     "start_time": "2020-06-19T18:39:59.803075Z"
    }
   },
   "outputs": [
    {
     "data": {
      "text/plain": [
       "3"
      ]
     },
     "execution_count": 56,
     "metadata": {},
     "output_type": "execute_result"
    }
   ],
   "source": [
    "list1.index(541)"
   ]
  },
  {
   "cell_type": "markdown",
   "metadata": {},
   "source": [
    "### `insert()`\n",
    "\n",
    "Inserts an object into list at the specified offset index. Doesn't return any value."
   ]
  },
  {
   "cell_type": "code",
   "execution_count": null,
   "metadata": {},
   "outputs": [],
   "source": [
    "# Syntax\n",
    "# list.insert(index, obj)"
   ]
  },
  {
   "cell_type": "code",
   "execution_count": 26,
   "metadata": {
    "ExecuteTime": {
     "end_time": "2020-06-27T17:14:46.333539Z",
     "start_time": "2020-06-27T17:14:46.328550Z"
    }
   },
   "outputs": [
    {
     "name": "stdout",
     "output_type": "stream",
     "text": [
      "[]\n",
      "[3333]\n"
     ]
    }
   ],
   "source": [
    "print(list1)\n",
    "list1.insert(3, 3333)\n",
    "print(list1)"
   ]
  },
  {
   "cell_type": "markdown",
   "metadata": {},
   "source": [
    "### `pop()`\n",
    "\n",
    "Removes and returns the last object from the list."
   ]
  },
  {
   "cell_type": "code",
   "execution_count": null,
   "metadata": {},
   "outputs": [],
   "source": [
    "# Syntax\n",
    "# list.pop(obj = list[-1])"
   ]
  },
  {
   "cell_type": "code",
   "execution_count": 58,
   "metadata": {
    "ExecuteTime": {
     "end_time": "2020-06-19T18:40:21.339923Z",
     "start_time": "2020-06-19T18:40:21.334925Z"
    }
   },
   "outputs": [
    {
     "name": "stdout",
     "output_type": "stream",
     "text": [
      "[4561, 7001, 1200, 3333, 541, 541, 2019, 'Johnny']\n",
      "Johnny\n",
      "[4561, 7001, 1200, 3333, 541, 541, 2019]\n"
     ]
    }
   ],
   "source": [
    "print(list1)\n",
    "print(list1.pop())\n",
    "print(list1)"
   ]
  },
  {
   "cell_type": "code",
   "execution_count": null,
   "metadata": {},
   "outputs": [],
   "source": [
    "# TODO: Can you pop again and see what do you get\n",
    "# TODO: Pop an empty list!"
   ]
  },
  {
   "cell_type": "markdown",
   "metadata": {},
   "source": [
    "### `remove()`\n",
    "\n",
    "Searches for the given element in the list and removes the first matching element. Doesn't return any value."
   ]
  },
  {
   "cell_type": "code",
   "execution_count": null,
   "metadata": {},
   "outputs": [],
   "source": [
    "# Syntax\n",
    "# list.remove(obj)"
   ]
  },
  {
   "cell_type": "code",
   "execution_count": 59,
   "metadata": {
    "ExecuteTime": {
     "end_time": "2020-06-19T18:40:51.711004Z",
     "start_time": "2020-06-19T18:40:51.707056Z"
    }
   },
   "outputs": [
    {
     "name": "stdout",
     "output_type": "stream",
     "text": [
      "None\n",
      "[4561, 7001, 1200, 3333, 541, 2019]\n"
     ]
    }
   ],
   "source": [
    "print(list1.remove(541))\n",
    "print(list1)"
   ]
  },
  {
   "cell_type": "markdown",
   "metadata": {},
   "source": [
    "### `reverse()`\n",
    "\n",
    "Reverses the list in place. Doesn't return any value."
   ]
  },
  {
   "cell_type": "code",
   "execution_count": 60,
   "metadata": {
    "ExecuteTime": {
     "end_time": "2020-06-19T18:40:53.241978Z",
     "start_time": "2020-06-19T18:40:53.238982Z"
    }
   },
   "outputs": [],
   "source": [
    "# Syntax\n",
    "# list.reverse()"
   ]
  },
  {
   "cell_type": "code",
   "execution_count": 61,
   "metadata": {
    "ExecuteTime": {
     "end_time": "2020-06-19T18:40:55.368534Z",
     "start_time": "2020-06-19T18:40:55.364579Z"
    }
   },
   "outputs": [
    {
     "data": {
      "text/plain": [
       "['xyz', 'abc', 'zara', 'xyz', 123]"
      ]
     },
     "execution_count": 61,
     "metadata": {},
     "output_type": "execute_result"
    }
   ],
   "source": [
    "aList = [123, 'xyz', 'zara', 'abc', 'xyz']\n",
    "aList.reverse() #it produces following result \n",
    "aList"
   ]
  },
  {
   "cell_type": "markdown",
   "metadata": {},
   "source": [
    "## Tuples"
   ]
  },
  {
   "cell_type": "markdown",
   "metadata": {},
   "source": [
    "A Tuple is a collection of Python objects separated by commas. In someways a tuple is similar to a list in terms of indexing, nested objects and repetition but a tuple is immutable unlike lists which are mutable. Tuple elements are accessed using parentheses whereas lists are accessed with square brackets."
   ]
  },
  {
   "cell_type": "code",
   "execution_count": 27,
   "metadata": {
    "ExecuteTime": {
     "end_time": "2020-06-27T17:15:08.879774Z",
     "start_time": "2020-06-27T17:15:08.875815Z"
    }
   },
   "outputs": [],
   "source": [
    "tup1 = ('biology', 'sociology', 1979, 1998)\n",
    "tup2 = (11, 12, 13, 14, 15 )\n",
    "tup3 = \"an\", \"bn\", \"cn\", \"dn\"\n",
    "tup4 = ()   # This is an empty tuple\n",
    "tup5 = (550,) # To create a tuple with single element (doens't make good sense though to have a tuple with one element!)"
   ]
  },
  {
   "cell_type": "code",
   "execution_count": 63,
   "metadata": {
    "ExecuteTime": {
     "end_time": "2020-06-19T18:40:59.011517Z",
     "start_time": "2020-06-19T18:40:59.008498Z"
    }
   },
   "outputs": [
    {
     "name": "stdout",
     "output_type": "stream",
     "text": [
      "('biology', 'sociology', 1979, 1998)\n",
      "(11, 12, 13, 14, 15)\n",
      "('an', 'bn', 'cn', 'dn')\n",
      "()\n",
      "(550,)\n"
     ]
    }
   ],
   "source": [
    "print(tup1)\n",
    "print(tup2)\n",
    "print(tup3)\n",
    "print(tup4)\n",
    "print(tup5)"
   ]
  },
  {
   "cell_type": "markdown",
   "metadata": {},
   "source": [
    "### Accessing Tuple Values"
   ]
  },
  {
   "cell_type": "markdown",
   "metadata": {},
   "source": [
    "Like string indices, tuple indices start at 0, and they can also be sliced."
   ]
  },
  {
   "cell_type": "code",
   "execution_count": 64,
   "metadata": {
    "ExecuteTime": {
     "end_time": "2020-06-19T18:41:00.259654Z",
     "start_time": "2020-06-19T18:41:00.255672Z"
    }
   },
   "outputs": [
    {
     "data": {
      "text/plain": [
       "'biology'"
      ]
     },
     "execution_count": 64,
     "metadata": {},
     "output_type": "execute_result"
    }
   ],
   "source": [
    "tup1[0]"
   ]
  },
  {
   "cell_type": "code",
   "execution_count": 65,
   "metadata": {
    "ExecuteTime": {
     "end_time": "2020-06-19T18:41:00.715434Z",
     "start_time": "2020-06-19T18:41:00.711445Z"
    }
   },
   "outputs": [
    {
     "data": {
      "text/plain": [
       "(12, 13, 14, 15)"
      ]
     },
     "execution_count": 65,
     "metadata": {},
     "output_type": "execute_result"
    }
   ],
   "source": [
    "tup2[1:5]"
   ]
  },
  {
   "cell_type": "markdown",
   "metadata": {},
   "source": [
    "### Updating Tuples"
   ]
  },
  {
   "cell_type": "markdown",
   "metadata": {},
   "source": [
    "Tuples are __immutable__, we cannot update or change the tuple. However, we can take portions of existing tuples to create new tuples."
   ]
  },
  {
   "cell_type": "code",
   "execution_count": 28,
   "metadata": {
    "ExecuteTime": {
     "end_time": "2020-06-27T17:15:49.902669Z",
     "start_time": "2020-06-27T17:15:49.897682Z"
    }
   },
   "outputs": [],
   "source": [
    "tup1 = (121, 134.56)\n",
    "tup2 = ('dabc', 'pxyz')"
   ]
  },
  {
   "cell_type": "code",
   "execution_count": 29,
   "metadata": {
    "ExecuteTime": {
     "end_time": "2020-06-27T17:15:58.571912Z",
     "start_time": "2020-06-27T17:15:58.567952Z"
    }
   },
   "outputs": [
    {
     "name": "stdout",
     "output_type": "stream",
     "text": [
      "(121, 134.56, 'dabc', 'pxyz')\n"
     ]
    }
   ],
   "source": [
    "# New tuple by concatenation of two tuples\n",
    "tup3 = tup1 + tup2;\n",
    "print(tup3)"
   ]
  },
  {
   "cell_type": "markdown",
   "metadata": {},
   "source": [
    "### Delete Tuple Elements"
   ]
  },
  {
   "cell_type": "markdown",
   "metadata": {},
   "source": [
    "Individual tuple elements cannot be removed / deleted. We need to create another tuple with the undesired elements removed.\n",
    "`del` is used to remove a tuple completely."
   ]
  },
  {
   "cell_type": "code",
   "execution_count": 68,
   "metadata": {
    "ExecuteTime": {
     "end_time": "2020-06-19T18:41:21.523293Z",
     "start_time": "2020-06-19T18:41:21.519257Z"
    }
   },
   "outputs": [
    {
     "name": "stdout",
     "output_type": "stream",
     "text": [
      "(121, 134.56)\n"
     ]
    }
   ],
   "source": [
    "print(tup1)"
   ]
  },
  {
   "cell_type": "code",
   "execution_count": 69,
   "metadata": {
    "ExecuteTime": {
     "end_time": "2020-06-19T18:41:24.694109Z",
     "start_time": "2020-06-19T18:41:24.691140Z"
    }
   },
   "outputs": [],
   "source": [
    "del tup1"
   ]
  },
  {
   "cell_type": "code",
   "execution_count": 70,
   "metadata": {
    "ExecuteTime": {
     "end_time": "2020-06-19T18:41:25.147674Z",
     "start_time": "2020-06-19T18:41:25.144682Z"
    }
   },
   "outputs": [],
   "source": [
    "# print(tup1) # An exception will be raised!"
   ]
  },
  {
   "cell_type": "markdown",
   "metadata": {},
   "source": [
    "### Basic Tuple Operations"
   ]
  },
  {
   "cell_type": "markdown",
   "metadata": {},
   "source": [
    "Similar to list operators we have following tuple operators!"
   ]
  },
  {
   "cell_type": "markdown",
   "metadata": {},
   "source": [
    " Python Expression            |Results                         |Description  |\n",
    "------------------------------|--------------------------------|-------------|\n",
    " len((1, 2, 3))               |3                               |Length       |\n",
    " (1, 2, 3) + (4, 5, 6)        |(1, 2, 3, 4, 5, 6)              |Concatenation|       \n",
    " ('Hi!') * 4                  |('Hi!', 'Hi!', 'Hi!', 'Hi!')    |Repetition   |\n",
    " 3 in (1, 2, 3)               |True                            |Membership   |\n",
    " for x in (1, 2, 3): print (x)|123                             |Iteration    |\n"
   ]
  },
  {
   "cell_type": "markdown",
   "metadata": {},
   "source": [
    "### Indexing and Slicing"
   ]
  },
  {
   "cell_type": "markdown",
   "metadata": {},
   "source": [
    "Indexing and slicing for tuples is identical to that of the lists! Please see some examples below."
   ]
  },
  {
   "cell_type": "code",
   "execution_count": 71,
   "metadata": {
    "ExecuteTime": {
     "end_time": "2020-06-19T18:41:37.173832Z",
     "start_time": "2020-06-19T18:41:37.170831Z"
    }
   },
   "outputs": [],
   "source": [
    "L = ('spam', 'Spam', 'SPAM!')"
   ]
  },
  {
   "cell_type": "markdown",
   "metadata": {},
   "source": [
    " Python Expression            |Results                         |Description                   |\n",
    "------------------------------|--------------------------------|------------------------------|\n",
    " L[2]                         |'SPAM!'                         |Offsets start at zero         |\n",
    " L[-2]                        |'Spam'                          |Negative: count from the right|       \n",
    " L[1:]                        |['Spam', 'SPAM!']               |Slicing fetches sections      |\n"
   ]
  },
  {
   "cell_type": "markdown",
   "metadata": {},
   "source": [
    "### Built-in Tuple Functions"
   ]
  },
  {
   "cell_type": "markdown",
   "metadata": {},
   "source": [
    " Sr.No.          |Function                        |Description                                     |\n",
    "-----------------|--------------------------------|------------------------------------------------|\n",
    " 1               |cmp(tuple1, tuple2)             |Compares elements of both tuples.               |\n",
    " 2               |len(tuple)                      |Gives the total length of the tuple             |       \n",
    " 3               |max(tuple)                      |Returns item from the tuple with max value.     |\n",
    " 4               |min(tuple)                      |Returns item from the tuple with min value.     |\n",
    " 5               |tuple(seq)                      |Converts a list into tuple.                     |"
   ]
  },
  {
   "cell_type": "markdown",
   "metadata": {},
   "source": [
    "TODO: Try practicing these functions on your own!"
   ]
  },
  {
   "cell_type": "markdown",
   "metadata": {},
   "source": [
    "## Practice Questions for List"
   ]
  },
  {
   "cell_type": "markdown",
   "metadata": {},
   "source": [
    "Q1) Take 10 integer inputs from user and store them in a list and print them on screen.\n",
    "\n",
    "Q2) Take 10 integer inputs from user and store them in a list. Again ask user to give a number. Now, tell user whether that number is present in list or not. (Iterate over list using while loop).\n",
    "\n",
    "Q3) Take 10 integer inputs from user and store them in a list. Now, copy all the elements in another list but in reverse order.\n",
    "\n",
    "Q4) Python Program to find Largest and Smallest Number in a List."
   ]
  },
  {
   "cell_type": "code",
   "execution_count": 35,
   "metadata": {
    "ExecuteTime": {
     "end_time": "2020-06-27T17:36:59.606614Z",
     "start_time": "2020-06-27T17:36:40.198536Z"
    }
   },
   "outputs": [
    {
     "name": "stdout",
     "output_type": "stream",
     "text": [
      "Enter no of elements: 10\n",
      "Enter number: 1\n",
      "Enter number: 2\n",
      "Enter number: 3\n",
      "Enter number: 4\n",
      "Enter number: 5\n",
      "Enter number: 6\n",
      "Enter number: 7\n",
      "Enter number: 8\n",
      "Enter number: 9\n",
      "Enter number: 10\n",
      "[1, 2, 3, 4, 5, 6, 7, 8, 9, 10] Enter no you want to check: 5\n",
      "Present\n",
      "Element is present at index 5\n",
      "Largest no is:  10\n",
      "Smallest no is:  1\n"
     ]
    }
   ],
   "source": [
    "list1=[]\n",
    "for x in range(int(input(\"Enter no of elements: \"))):\n",
    "    list1.append(int(input(\"Enter number: \")))\n",
    "print(list1, end=\" \")\n",
    "x=int(input(\"Enter no you want to check: \"))\n",
    "if(x in list1):\n",
    "    print(\"Present\")\n",
    "else:\n",
    "    print(\"Missing\")\n",
    "i=0\n",
    "m=0\n",
    "while(x!=m):\n",
    "    m=list1[i]\n",
    "    i=i+1\n",
    "print(\"Element is present at index\", i-1)\n",
    "\n",
    "list2=list1[::-1]\n",
    "print(\"Largest no is: \", max(list2))\n",
    "print(\"Smallest no is: \", min(list2))\n"
   ]
  },
  {
   "cell_type": "markdown",
   "metadata": {},
   "source": [
    "## Practice Questions for Tuple"
   ]
  },
  {
   "cell_type": "markdown",
   "metadata": {},
   "source": [
    "Q1) Write a Python program to create a tuple with different data types.\n",
    "\n",
    "Q2) Write a Python program to create a tuple with numbers and print one item.\n",
    "\n",
    "Q3) Write a Python program to add an item in a tuple.\n",
    "\n",
    "Q4)Write a Python program to get the 4th element and 4th element from last of a tuple."
   ]
  },
  {
   "cell_type": "code",
   "execution_count": 37,
   "metadata": {
    "ExecuteTime": {
     "end_time": "2020-06-27T17:39:20.591518Z",
     "start_time": "2020-06-27T17:39:20.587527Z"
    }
   },
   "outputs": [
    {
     "name": "stdout",
     "output_type": "stream",
     "text": [
      "aa\n"
     ]
    }
   ],
   "source": [
    "tup1=(1,2,3,'aa','bb',4.5,6,7)\n",
    "print(tup1[3])"
   ]
  },
  {
   "cell_type": "markdown",
   "metadata": {},
   "source": [
    "## Sources\n",
    "\n",
    "- https://www.geeksforgeeks.org/tuples-in-python/\n",
    "- https://railsware.com/blog/python-for-machine-learning-indexing-and-slicing-for-lists-tuples-strings-and-other-sequential-types/\n",
    "- https://www.tutorialspoint.com/python/python_lists.htm"
   ]
  },
  {
   "cell_type": "code",
   "execution_count": null,
   "metadata": {},
   "outputs": [],
   "source": []
  }
 ],
 "metadata": {
  "kernelspec": {
   "display_name": "Python 3",
   "language": "python",
   "name": "python3"
  },
  "language_info": {
   "codemirror_mode": {
    "name": "ipython",
    "version": 3
   },
   "file_extension": ".py",
   "mimetype": "text/x-python",
   "name": "python",
   "nbconvert_exporter": "python",
   "pygments_lexer": "ipython3",
   "version": "3.7.6"
  },
  "latex_envs": {
   "LaTeX_envs_menu_present": true,
   "autoclose": false,
   "autocomplete": true,
   "bibliofile": "biblio.bib",
   "cite_by": "apalike",
   "current_citInitial": 1,
   "eqLabelWithNumbers": true,
   "eqNumInitial": 1,
   "hotkeys": {
    "equation": "Ctrl-E",
    "itemize": "Ctrl-I"
   },
   "labels_anchors": false,
   "latex_user_defs": false,
   "report_style_numbering": false,
   "user_envs_cfg": false
  },
  "toc": {
   "base_numbering": 1,
   "nav_menu": {},
   "number_sections": true,
   "sideBar": true,
   "skip_h1_title": false,
   "title_cell": "Table of Contents",
   "title_sidebar": "Contents",
   "toc_cell": false,
   "toc_position": {},
   "toc_section_display": true,
   "toc_window_display": false
  }
 },
 "nbformat": 4,
 "nbformat_minor": 2
}
