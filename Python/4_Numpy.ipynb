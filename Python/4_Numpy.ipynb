{
 "cells": [
  {
   "cell_type": "markdown",
   "metadata": {},
   "source": [
    "# NumPy"
   ]
  },
  {
   "cell_type": "markdown",
   "metadata": {},
   "source": [
    "## Introduction\n",
    "\n",
    "- NumPy is a general-purpose array-processing package\n",
    "- Travis Oliphant First Released in 1995 (Released as __Numeric__; Changed to NumPy in 2006). It is written in Python and C\n",
    "- NumPy is cross-platform and BSD-licensed. Often used with packages such as Matplotlib (plotting library) and SciPy (Scientific Python). Sometimes it is seen as an alternative to MATLAB. The term ‘Numpy’ is a portmanteau of the words ‘NUMerical’ and ‘PYthon\n",
    "- It is a library that allows end-users to create **high-performance multidimensional array objects** and manipulate these arrays (objects)\n",
    "- NumPy provides a gamut of high-level functions for mathematical and logical operations, Fourier transforms, array shape manipulations, linear algebra operations, random number generation, etc."
   ]
  },
  {
   "cell_type": "markdown",
   "metadata": {},
   "source": [
    "### Examples of Multi-dimensional Arrays\n",
    "\n",
    "* Values of an experiment/simulation at discrete time steps.\n",
    "* Signal recorded by a measurement device, e.g. sound wave.\n",
    "* Pixels of an image, grey-level or colour.\n",
    "* 3D data measured at different X-Y-Z positions, e.g. MRI scan.\n",
    "* ..."
   ]
  },
  {
   "cell_type": "markdown",
   "metadata": {},
   "source": [
    "The most important object defined in NumPy is an N-dimensional array type called ndarray. It describes the collection of items of the same type. Items in the collection can be accessed using a zero-based index.\n",
    "\n",
    "Every item in an ndarray takes the same size of block in the memory. Each element in ndarray is an object of data-type object (called dtype).\n",
    "\n",
    "Any item extracted from ndarray object (by slicing) is represented by a Python object of one of array scalar types.\n",
    "<p><b>The above constructor takes the following parameters −<b></p>\n",
    "\n",
    "<table>\n",
    "    <tr>\n",
    "        <th>Sr.No.</th>\n",
    "        <th>Parameter & Description</th>\n",
    "    <tr>\n",
    "    <tr>\n",
    "        <td>1. object</td>\n",
    "        <td>Any object exposing the array interface method returns an array, or any (nested) sequence.</td>\n",
    "    </tr>\n",
    "    <tr>\n",
    "        <td>2. dtype</td>\n",
    "        <td>Desired data type of array, optional</td>\n",
    "    </tr>\n",
    "    <tr>\n",
    "        <td>3. copy</td>\n",
    "        <td>Optional. By default (true), the object is copied</td>\n",
    "    </tr>\n",
    "    <tr>\n",
    "        <td>4. order</td>\n",
    "        <td>C (row major) or F (column major) or A (any) (default)</td>\n",
    "    </tr>\n",
    "    <tr>\n",
    "        <td>5. subok</td>\n",
    "        <td>By default, returned array forced to be a base class array. If true, sub-classes passed through</td>\n",
    "    </tr>\n",
    "    <tr>\n",
    "        <td>6. ndmin</td>\n",
    "        <td>Specifies minimum dimensions of resultant array</td>\n",
    "    </tr>\n",
    "</table>"
   ]
  },
  {
   "cell_type": "code",
   "execution_count": null,
   "metadata": {
    "ExecuteTime": {
     "end_time": "2020-07-05T07:42:57.675890Z",
     "start_time": "2020-07-05T07:41:14.572477Z"
    }
   },
   "outputs": [],
   "source": [
    "help('modules')"
   ]
  },
  {
   "cell_type": "markdown",
   "metadata": {},
   "source": [
    "## Numpy Installation\n",
    "\n",
    "Once you have installed `pip`, i.e., the default python package manager; installing numpy is straightforward.\n",
    "\n",
    "`pip install numpy`"
   ]
  },
  {
   "cell_type": "markdown",
   "metadata": {},
   "source": [
    "## Numpy Import\n",
    "\n",
    "Conventionally, numpy is imported as `np` as shown below"
   ]
  },
  {
   "cell_type": "code",
   "execution_count": null,
   "metadata": {
    "ExecuteTime": {
     "end_time": "2020-07-05T08:15:03.406260Z",
     "start_time": "2020-07-05T08:15:03.232856Z"
    }
   },
   "outputs": [],
   "source": [
    "import numpy as np\n",
    "print(np.__version__)    # Check the numpy version"
   ]
  },
  {
   "cell_type": "markdown",
   "metadata": {},
   "source": [
    "## Basic Usage"
   ]
  },
  {
   "cell_type": "code",
   "execution_count": null,
   "metadata": {
    "ExecuteTime": {
     "end_time": "2020-07-05T07:56:31.777033Z",
     "start_time": "2020-07-05T07:56:31.765063Z"
    }
   },
   "outputs": [],
   "source": [
    "# Create a 3 x 3 array, with all elements initialized to 1. Default data type for array is float.\n",
    "b = np.ones((3, 3))\n",
    "print(b)\n",
    "print(type(b))    # print datatype of b\n",
    "print(b.dtype)    # print datatype of elements in b"
   ]
  },
  {
   "cell_type": "code",
   "execution_count": null,
   "metadata": {
    "ExecuteTime": {
     "end_time": "2020-07-05T07:56:59.266535Z",
     "start_time": "2020-07-05T07:56:59.257051Z"
    }
   },
   "outputs": [],
   "source": [
    "# Create a 3 x 3 array, with all elements initialized to 1. Default data type for array is float.\n",
    "b = np.ones((3, 3), dtype=str)\n",
    "print(b)\n",
    "print(type(b))    # print datatype of b\n",
    "print(b.dtype)    # print datatype of elements in b"
   ]
  },
  {
   "cell_type": "code",
   "execution_count": null,
   "metadata": {
    "ExecuteTime": {
     "end_time": "2020-07-05T08:15:10.063123Z",
     "start_time": "2020-07-05T08:15:10.053147Z"
    }
   },
   "outputs": [],
   "source": [
    "# Modify the data type of array elements\n",
    "c = np.ones((5, 5), dtype=int)\n",
    "print(c)\n",
    "print(c.size)\n",
    "c=c*2\n",
    "k=1\n",
    "for i in range(5):\n",
    "    for j in range(5):\n",
    "        k=k+1\n",
    "        c[i][j]=pow(c[i][j],k)\n",
    "print(c)        \n",
    "print(type(c))\n",
    "print(c.dtype)"
   ]
  },
  {
   "cell_type": "code",
   "execution_count": null,
   "metadata": {
    "ExecuteTime": {
     "end_time": "2020-07-05T08:04:08.403708Z",
     "start_time": "2020-07-05T08:04:08.396733Z"
    }
   },
   "outputs": [],
   "source": [
    "d = np.array([11 + 12j, 13 + 14j, 15 + 16j])    # numpy array with complex data type\n",
    "print(d)\n",
    "d.dtype"
   ]
  },
  {
   "cell_type": "code",
   "execution_count": null,
   "metadata": {
    "ExecuteTime": {
     "end_time": "2020-07-05T08:04:18.499450Z",
     "start_time": "2020-07-05T08:04:18.490507Z"
    }
   },
   "outputs": [],
   "source": [
    "e = np.array([False, True, True, False, False, True])    # numpy array with complex data type \n",
    "e.dtype"
   ]
  },
  {
   "cell_type": "code",
   "execution_count": null,
   "metadata": {
    "ExecuteTime": {
     "end_time": "2020-07-05T08:04:30.164776Z",
     "start_time": "2020-07-05T08:04:30.157795Z"
    }
   },
   "outputs": [],
   "source": [
    "f = np.array(['Welcome', 'To', 'Numpy'])\n",
    "f.dtype    # Unicode string of 7 characters"
   ]
  },
  {
   "cell_type": "code",
   "execution_count": null,
   "metadata": {
    "ExecuteTime": {
     "end_time": "2020-07-05T08:04:36.103387Z",
     "start_time": "2020-07-05T08:04:36.097396Z"
    }
   },
   "outputs": [],
   "source": [
    "len(f)    # get the length of the array"
   ]
  },
  {
   "cell_type": "code",
   "execution_count": null,
   "metadata": {
    "ExecuteTime": {
     "end_time": "2020-07-05T08:04:51.649461Z",
     "start_time": "2020-07-05T08:04:51.643476Z"
    }
   },
   "outputs": [],
   "source": [
    "# Shortcut to create an array of numbers\n",
    "ar = np.arange(10)\n",
    "print(ar)"
   ]
  },
  {
   "cell_type": "code",
   "execution_count": null,
   "metadata": {},
   "outputs": [],
   "source": [
    "# Indexing on 1-D array - This is similar to Python lists\n",
    "ar[1], ar[3], ar[-1]"
   ]
  },
  {
   "cell_type": "code",
   "execution_count": null,
   "metadata": {
    "ExecuteTime": {
     "end_time": "2020-07-05T08:06:13.549287Z",
     "start_time": "2020-07-05T08:06:13.537320Z"
    }
   },
   "outputs": [],
   "source": [
    "# Arrays are assigned by reference\n",
    "\n",
    "a = np.array([10, 11, 12, 13]) # create array\n",
    "print(a)       # print a's value\n",
    "print(type(a)) # type of variable a \n",
    "print(id(a))\n",
    "#del a\n",
    "b = a  # reference assignment\n",
    "#del a\n",
    "print(id(b))\n",
    "b[0] = 20\n",
    "print(a[0])"
   ]
  },
  {
   "cell_type": "markdown",
   "metadata": {},
   "source": [
    "## How to Get Help?\n",
    "\n",
    "We encourage you to refer to the help, as often as possible. As it provides in-depth explanation of the functions, its usage and internals. This will help you build better intuition of what's happening behind the scenes. And often, you will need to tweak the arguments to function, specially when dealing with large datasets, to achieve good performance."
   ]
  },
  {
   "cell_type": "code",
   "execution_count": null,
   "metadata": {
    "ExecuteTime": {
     "end_time": "2020-07-05T08:08:01.129006Z",
     "start_time": "2020-07-05T08:08:01.122985Z"
    }
   },
   "outputs": [],
   "source": [
    "help(np.array) # About numpy array"
   ]
  },
  {
   "cell_type": "code",
   "execution_count": null,
   "metadata": {},
   "outputs": [],
   "source": [
    "help('array')  # BTW this is the built-in array and not numpy array"
   ]
  },
  {
   "cell_type": "code",
   "execution_count": null,
   "metadata": {
    "ExecuteTime": {
     "end_time": "2020-07-05T08:08:14.625984Z",
     "start_time": "2020-07-05T08:08:11.230242Z"
    }
   },
   "outputs": [],
   "source": [
    "np.lookfor('array create') # If exact name is not known, search for the topic"
   ]
  },
  {
   "cell_type": "code",
   "execution_count": null,
   "metadata": {
    "ExecuteTime": {
     "end_time": "2020-07-05T08:08:19.601209Z",
     "start_time": "2020-07-05T08:08:19.594228Z"
    },
    "scrolled": true
   },
   "outputs": [],
   "source": [
    "help(np.zeros) # About zeros"
   ]
  },
  {
   "cell_type": "markdown",
   "metadata": {},
   "source": [
    "## NumPy Multi-dimensional Arrays (ndarray)\n",
    "This is one of the most important features of numpy. ndarray is an n-dimensional array, a grid of values of the same data type. To index into this array we have a tuple of nonnegative integers."
   ]
  },
  {
   "cell_type": "code",
   "execution_count": null,
   "metadata": {
    "ExecuteTime": {
     "end_time": "2020-07-05T08:46:26.637703Z",
     "start_time": "2020-07-05T08:46:26.630723Z"
    }
   },
   "outputs": [],
   "source": [
    "# a=np.ones((4,4), dtype=int)\n",
    "# print(a.shape)\n",
    "\n",
    "x=np.array([[[1,2],[3,4]],\n",
    "            [[2,3],[5,5]],\n",
    "            [[6,6],[7,7]]])\n",
    "print(x.shape)\n",
    "print(x)\n",
    "print(x.ndim)"
   ]
  },
  {
   "cell_type": "code",
   "execution_count": null,
   "metadata": {
    "ExecuteTime": {
     "end_time": "2020-07-05T08:09:46.577689Z",
     "start_time": "2020-07-05T08:09:46.545769Z"
    }
   },
   "outputs": [],
   "source": [
    "# Create a 2-D matrix, with 2 rows and 3 columns\n",
    "b = np.array([[1, 2, 3], [4, 5, 6]])\n",
    "print(\"A 2-D matrix\")\n",
    "print(b)\n",
    "print(\"Dimensions:\", b.ndim)  # Number of dimensions, 2 (i.e. rows and columns)\n",
    "print(\"Shape:\", b.shape) # Number of elements in each dimension, i.e. number of rows and number of columns\n",
    "print(\"Rows:\", len(b))  # Number of rows\n",
    "print(\"Cols:\", len(b[0])) # Number of columns\n",
    "print(\"==========\")\n",
    "# Creat a 3-D array, with dimensions 2 x 2 x 2. Consider this as a stack of 2 matrices of dimensions 2 x 2\n",
    "c = np.array([\n",
    "    [[1, 2], [3, 4]],    # Matrix of dimension 2 x 2\n",
    "    [[1, 1], [2, 2]]     # Matrix of dimension 2 x 2\n",
    "    ])\n",
    "print(\"A 3-D matrix\")\n",
    "print(c)\n",
    "print(\"Dimensions:\", c.ndim)\n",
    "print(\"Shape:\", c.shape)\n"
   ]
  },
  {
   "cell_type": "markdown",
   "metadata": {},
   "source": [
    "## Indexing and slicing\n",
    "\n",
    "Indexes are tuples of numbers"
   ]
  },
  {
   "cell_type": "code",
   "execution_count": null,
   "metadata": {
    "ExecuteTime": {
     "end_time": "2020-07-05T08:50:26.311284Z",
     "start_time": "2020-07-05T08:50:26.305299Z"
    }
   },
   "outputs": [],
   "source": [
    "b = np.diag(np.arange(5))\n",
    "print(b)"
   ]
  },
  {
   "cell_type": "code",
   "execution_count": null,
   "metadata": {
    "ExecuteTime": {
     "end_time": "2020-07-05T08:50:10.554282Z",
     "start_time": "2020-07-05T08:50:10.548296Z"
    }
   },
   "outputs": [],
   "source": [
    "a = np.diag(np.arange(3))   # create a 3 by 3 array with diagonal elements set to 0, 1, 2\n",
    "print(a)\n",
    "a[2, 2]    # Indexing starts with 0. Here we are slicing one element in the second row and second column. We used a tuple 1, 1"
   ]
  },
  {
   "cell_type": "code",
   "execution_count": null,
   "metadata": {
    "ExecuteTime": {
     "end_time": "2020-07-05T08:50:40.343131Z",
     "start_time": "2020-07-05T08:50:40.335118Z"
    }
   },
   "outputs": [],
   "source": [
    "a[2, 1] = 10 # Update array element\n",
    "a"
   ]
  },
  {
   "cell_type": "code",
   "execution_count": null,
   "metadata": {
    "ExecuteTime": {
     "end_time": "2020-07-05T08:51:29.308948Z",
     "start_time": "2020-07-05T08:51:29.303970Z"
    }
   },
   "outputs": [],
   "source": [
    "print(a[::-1, 0:2])  # We can use slicing concepts for all the dimensions!"
   ]
  },
  {
   "cell_type": "code",
   "execution_count": null,
   "metadata": {
    "ExecuteTime": {
     "end_time": "2020-07-05T08:52:20.882897Z",
     "start_time": "2020-07-05T08:52:20.875914Z"
    }
   },
   "outputs": [],
   "source": [
    "ar = np.arange(10)\n",
    "print(ar)\n",
    "print(ar[:4])    # Slice, starting from zero and ending at three\n",
    "print(ar[::-1])"
   ]
  },
  {
   "cell_type": "code",
   "execution_count": null,
   "metadata": {
    "ExecuteTime": {
     "end_time": "2020-07-05T08:52:26.775946Z",
     "start_time": "2020-07-05T08:52:26.768967Z"
    }
   },
   "outputs": [],
   "source": [
    "ar[::2]    # Slice every second element, starting from 0"
   ]
  },
  {
   "cell_type": "markdown",
   "metadata": {},
   "source": [
    "## Transpose"
   ]
  },
  {
   "cell_type": "code",
   "execution_count": null,
   "metadata": {},
   "outputs": [],
   "source": [
    "import numpy as np\n",
    "help(np.transpose)"
   ]
  },
  {
   "cell_type": "code",
   "execution_count": null,
   "metadata": {
    "ExecuteTime": {
     "end_time": "2020-07-05T08:52:42.079602Z",
     "start_time": "2020-07-05T08:52:42.071625Z"
    }
   },
   "outputs": [],
   "source": [
    "arr = np.array([[1, 2, 3], [4, 5, 6]])\n",
    "print(\"Array shape:\", arr.shape)\n",
    "print(arr)\n",
    "arr_transp = np.transpose(arr)\n",
    "print(\"Transpose array shape:\", arr_transp.shape)\n",
    "print(arr_transp)\n",
    "# + np.transpose([np.arange(0, 51, 10)])"
   ]
  },
  {
   "cell_type": "markdown",
   "metadata": {},
   "source": [
    "## Updating Array Values"
   ]
  },
  {
   "cell_type": "code",
   "execution_count": null,
   "metadata": {
    "ExecuteTime": {
     "end_time": "2020-07-05T08:57:26.433228Z",
     "start_time": "2020-07-05T08:57:26.426243Z"
    }
   },
   "outputs": [],
   "source": [
    "arr[1][1] = 2\n",
    "print(arr)    # value 5 is updated by 2\n",
    "\n",
    "arr_transp[1, 1] = 2  # value 5 updated by 2\n",
    "print(arr_transp)"
   ]
  },
  {
   "cell_type": "markdown",
   "metadata": {},
   "source": [
    "## Total Number of Elements in the Array"
   ]
  },
  {
   "cell_type": "code",
   "execution_count": null,
   "metadata": {},
   "outputs": [],
   "source": [
    "import numpy as np \n",
    "help(np.size)"
   ]
  },
  {
   "cell_type": "code",
   "execution_count": null,
   "metadata": {
    "ExecuteTime": {
     "end_time": "2020-07-05T08:57:33.868849Z",
     "start_time": "2020-07-05T08:57:33.861897Z"
    }
   },
   "outputs": [],
   "source": [
    "arr.size "
   ]
  },
  {
   "cell_type": "markdown",
   "metadata": {},
   "source": [
    "## Array of Random Numbers"
   ]
  },
  {
   "cell_type": "code",
   "execution_count": null,
   "metadata": {},
   "outputs": [],
   "source": [
    "import numpy as np\n",
    "help(np.random.random)"
   ]
  },
  {
   "cell_type": "code",
   "execution_count": null,
   "metadata": {
    "ExecuteTime": {
     "end_time": "2020-07-05T08:57:43.220557Z",
     "start_time": "2020-07-05T08:57:43.208622Z"
    }
   },
   "outputs": [],
   "source": [
    "nr = np.random.random((3, 3)) # 2 dimensional array of 3 rows and 3 columns with random numbers \n",
    "# Elements in array are randomly generated using the random function.\n",
    "print(nr)      "
   ]
  },
  {
   "cell_type": "code",
   "execution_count": null,
   "metadata": {},
   "outputs": [],
   "source": [
    "# TRY THIS OUT!\n",
    "# a = np.random.random((1000, 1000))  # It will create an array of size 1k by 1k with random values inside it \n",
    "# print(a)"
   ]
  },
  {
   "cell_type": "markdown",
   "metadata": {},
   "source": [
    "## Array Functions"
   ]
  },
  {
   "cell_type": "markdown",
   "metadata": {},
   "source": [
    "### `np.ones()`\n",
    "\n",
    "Returns a new array of given shape and data type, where all the elements are set to 1.\n",
    "\n",
    "`ones(shape, dtype=None, order='C')`\n",
    "\n",
    "The shape is an int or tuple of ints to define the size of the array. If we just specify an int variable, a one-dimensional array will be returned. For a tuple of ints, the array of given shape will be returned.<br>\n",
    "The dtype is an optional parameter with default value as a float. It’s used to specify the data type of the array, for example, int. <br>\n",
    "The order defines the whether to store multi-dimensional array in row-major (C-style) or column-major (Fortran-style) order in memory."
   ]
  },
  {
   "cell_type": "code",
   "execution_count": null,
   "metadata": {},
   "outputs": [],
   "source": [
    "help(np.ones)"
   ]
  },
  {
   "cell_type": "code",
   "execution_count": null,
   "metadata": {
    "ExecuteTime": {
     "end_time": "2020-07-05T08:58:12.523798Z",
     "start_time": "2020-07-05T08:58:12.516360Z"
    }
   },
   "outputs": [],
   "source": [
    "c = np.ones((3, 2))\n",
    "print(c)"
   ]
  },
  {
   "cell_type": "markdown",
   "metadata": {},
   "source": [
    "### `np.zeros()`\n",
    "\n",
    "It is identical to `np.ones()`, except that all the elements are initialized to zero."
   ]
  },
  {
   "cell_type": "code",
   "execution_count": null,
   "metadata": {},
   "outputs": [],
   "source": [
    "import numpy as np\n",
    "help(np.zeros)"
   ]
  },
  {
   "cell_type": "code",
   "execution_count": null,
   "metadata": {
    "ExecuteTime": {
     "end_time": "2020-07-05T08:58:20.412189Z",
     "start_time": "2020-07-05T08:58:20.407199Z"
    }
   },
   "outputs": [],
   "source": [
    "d = np.zeros((2, 3))\n",
    "print(d)"
   ]
  },
  {
   "cell_type": "markdown",
   "metadata": {},
   "source": [
    "### `np.eye()`\n",
    "\n",
    "Returns an array where all the elements are equal to zero, except diagonal elements that are initialized to 1."
   ]
  },
  {
   "cell_type": "code",
   "execution_count": null,
   "metadata": {},
   "outputs": [],
   "source": [
    "import numpy as np\n",
    "help(np.eye)"
   ]
  },
  {
   "cell_type": "code",
   "execution_count": null,
   "metadata": {},
   "outputs": [],
   "source": [
    "e = np.eye((3))  # This creates the popularly known Identity Matrix!\n",
    "print(e)"
   ]
  },
  {
   "cell_type": "code",
   "execution_count": null,
   "metadata": {
    "ExecuteTime": {
     "end_time": "2020-07-05T08:59:52.087330Z",
     "start_time": "2020-07-05T08:59:52.068379Z"
    }
   },
   "outputs": [],
   "source": [
    "# Different dimensions of arrays created with np.eye\n",
    "print(np.eye(5))\n",
    "print()\n",
    "print(np.eye(2,3))\n",
    "print()\n",
    "print(np.eye(3,3))\n",
    "print()\n",
    "print(np.eye(4, k=1))\n",
    "print()\n",
    "print(np.eye(5, k=2))\n",
    "print()\n",
    "print(np.eye(2, 3))\n",
    "print()\n",
    "print(np.eye(5, dtype=int))"
   ]
  },
  {
   "cell_type": "markdown",
   "metadata": {},
   "source": [
    "### `full()`\n",
    "Returns a new array with the same shape and type as a given, filled with the fill_value.\n",
    "    \n",
    "Syntax:\n",
    "\n",
    "`full(shape, fill_value, dtype = None, order = 'C')`"
   ]
  },
  {
   "cell_type": "code",
   "execution_count": null,
   "metadata": {
    "ExecuteTime": {
     "end_time": "2020-07-05T09:00:32.071243Z",
     "start_time": "2020-07-05T09:00:32.067226Z"
    }
   },
   "outputs": [],
   "source": [
    "help(np.full)"
   ]
  },
  {
   "cell_type": "code",
   "execution_count": null,
   "metadata": {
    "ExecuteTime": {
     "end_time": "2020-07-05T09:02:13.686111Z",
     "start_time": "2020-07-05T09:02:13.682118Z"
    }
   },
   "outputs": [],
   "source": [
    "e = np.full((5, 4), 7, dtype=float, order = 'C') # Matrix of constant numbers\n",
    "print(e)"
   ]
  },
  {
   "cell_type": "markdown",
   "metadata": {},
   "source": [
    "### `np.linspace()`\n",
    "\n",
    "Returns number spaces evenly w.r.t the given interval start and stop. This functions is similar to arange but instead of step size it uses a sample number.\n",
    "\n",
    "Syntax:\n",
    "\n",
    "`numpy.linspace(start, stop, num = 50, endpoint = True, retstep = False, dtype = None)"
   ]
  },
  {
   "cell_type": "code",
   "execution_count": null,
   "metadata": {
    "ExecuteTime": {
     "end_time": "2020-07-05T09:05:07.374609Z",
     "start_time": "2020-07-05T09:05:07.368625Z"
    }
   },
   "outputs": [],
   "source": [
    "import numpy as np \n",
    "help(np.linspace)"
   ]
  },
  {
   "cell_type": "code",
   "execution_count": null,
   "metadata": {
    "ExecuteTime": {
     "end_time": "2020-07-05T09:08:32.022019Z",
     "start_time": "2020-07-05T09:08:32.017071Z"
    }
   },
   "outputs": [],
   "source": [
    "f = np.linspace(1, 10, 4) # Generate 4 equally spaced values between 1 and 10\n",
    "print(f)"
   ]
  },
  {
   "cell_type": "code",
   "execution_count": null,
   "metadata": {
    "ExecuteTime": {
     "end_time": "2020-07-05T09:12:13.830868Z",
     "start_time": "2020-07-05T09:12:13.815874Z"
    }
   },
   "outputs": [],
   "source": [
    "# Sample other variations of linspace\n",
    "print(np.linspace(1, 50, 30, retstep=True)) #ret --> steps or spacing b\n",
    "print()\n",
    "print(np.linspace(1, 100, num=5, retstep=True)) #default num is 50, how many nos to generate\n",
    "print()\n",
    "a = np.linspace(1, 100, num=5, endpoint=True, retstep=True)\n",
    "print(a)\n",
    "print(a[0][0])\n",
    "np.linspace(1, 100, num=5, retstep=True)\n",
    "np.linspace(1, 100, num=5, dtype=int)"
   ]
  },
  {
   "cell_type": "code",
   "execution_count": null,
   "metadata": {
    "ExecuteTime": {
     "end_time": "2020-07-05T09:10:58.120916Z",
     "start_time": "2020-07-05T09:10:58.113966Z"
    }
   },
   "outputs": [],
   "source": [
    "1 + 1.6896551724137931"
   ]
  },
  {
   "cell_type": "markdown",
   "metadata": {},
   "source": [
    "### `np.empty()`\n",
    "\n",
    "Return a new array of given shape and type, without initializing entries."
   ]
  },
  {
   "cell_type": "code",
   "execution_count": null,
   "metadata": {
    "ExecuteTime": {
     "end_time": "2020-07-05T09:13:23.672569Z",
     "start_time": "2020-07-05T09:13:23.667582Z"
    }
   },
   "outputs": [],
   "source": [
    "import numpy as np\n",
    "help(np.empty)"
   ]
  },
  {
   "cell_type": "code",
   "execution_count": null,
   "metadata": {
    "ExecuteTime": {
     "end_time": "2020-07-05T09:13:05.232554Z",
     "start_time": "2020-07-05T09:13:05.227566Z"
    }
   },
   "outputs": [],
   "source": [
    "# empty, unlike zeros,it does not set the array values to zero\n",
    "g1 = np.empty([2, 2], dtype=int) # Creates an empty array \n",
    "print(g1)"
   ]
  },
  {
   "cell_type": "markdown",
   "metadata": {},
   "source": [
    "### Minimum Dimensions\n",
    "\n",
    "Specifies minimum dimensions of the resultant array"
   ]
  },
  {
   "cell_type": "code",
   "execution_count": null,
   "metadata": {
    "ExecuteTime": {
     "end_time": "2020-07-05T09:18:05.015545Z",
     "start_time": "2020-07-05T09:18:05.007567Z"
    }
   },
   "outputs": [],
   "source": [
    "h = np.array([1, 2, 3], ndmin=3) # ndmin provides minimum dimension\n",
    "print(h)\n",
    "print(h.ndim)\n",
    "h = np.array([1, 2, 3]) # ndmin provides minimum dimension\n",
    "print(h)\n",
    "print(h.ndim)"
   ]
  },
  {
   "cell_type": "markdown",
   "metadata": {},
   "source": [
    "### Complex Datatype "
   ]
  },
  {
   "cell_type": "code",
   "execution_count": null,
   "metadata": {
    "ExecuteTime": {
     "end_time": "2020-07-05T09:18:57.596356Z",
     "start_time": "2020-07-05T09:18:57.590372Z"
    }
   },
   "outputs": [],
   "source": [
    "i = np.array([1, 3, 4], dtype=complex) # It creates the array with the complex values.\n",
    "print(i)\n",
    "i = np.array([1, 3, 4]) # If datatype is not provided then numpy decides the datatype for us.\n",
    "print(i)"
   ]
  },
  {
   "cell_type": "markdown",
   "metadata": {},
   "source": [
    "### reshape()"
   ]
  },
  {
   "cell_type": "code",
   "execution_count": null,
   "metadata": {},
   "outputs": [],
   "source": [
    "import numpy as np\n",
    "help(np.reshape)"
   ]
  },
  {
   "cell_type": "code",
   "execution_count": null,
   "metadata": {
    "ExecuteTime": {
     "end_time": "2020-07-05T09:21:22.973727Z",
     "start_time": "2020-07-05T09:21:22.962553Z"
    }
   },
   "outputs": [],
   "source": [
    "j = np.array([[1, 2, 3], [4, 5, 6]])\n",
    "print(j)\n",
    "print()\n",
    "print(j.reshape(3,1,2)) # It will change the shape of the array with 3 rows and two columns"
   ]
  },
  {
   "cell_type": "markdown",
   "metadata": {},
   "source": [
    "### Creating a Row or Column Vector"
   ]
  },
  {
   "cell_type": "code",
   "execution_count": null,
   "metadata": {
    "ExecuteTime": {
     "end_time": "2020-07-05T09:21:39.792442Z",
     "start_time": "2020-07-05T09:21:39.787456Z"
    }
   },
   "outputs": [],
   "source": [
    "vec_row = np.array([1, 2, 3])\n",
    "vec_col = np.array([[4], [5], [6]])\n",
    "print(\"Row vector: \", vec_row)\n",
    "print(\"Column vector \", vec_col)"
   ]
  },
  {
   "cell_type": "markdown",
   "metadata": {},
   "source": [
    "### Create a Matrix with `np.mat()`"
   ]
  },
  {
   "cell_type": "code",
   "execution_count": null,
   "metadata": {},
   "outputs": [],
   "source": [
    "help(np.mat)"
   ]
  },
  {
   "cell_type": "code",
   "execution_count": null,
   "metadata": {
    "ExecuteTime": {
     "end_time": "2020-07-05T09:22:28.658482Z",
     "start_time": "2020-07-05T09:22:28.653461Z"
    }
   },
   "outputs": [],
   "source": [
    "matrix = np.array([[1,2],[3,4],[5,6,]])\n",
    "print(matrix)\n",
    "print(type(matrix))\n",
    "\n",
    "matrix = np.mat([[1,2],[3,4],[5,6]])\n",
    "print(matrix)\n",
    "print(type(matrix))"
   ]
  },
  {
   "cell_type": "markdown",
   "metadata": {},
   "source": [
    "### Creating a Sparse Matrix\n",
    "\n",
    "For many problems with large datasets, we may have to create sparse matrices, where a lot of element values are missing (not available)."
   ]
  },
  {
   "cell_type": "code",
   "execution_count": null,
   "metadata": {
    "ExecuteTime": {
     "end_time": "2020-07-05T09:27:57.504220Z",
     "start_time": "2020-07-05T09:27:56.353531Z"
    }
   },
   "outputs": [],
   "source": [
    "from scipy import sparse\n",
    "matrix = np.mat([[1,1],[2,2],[3,3]])\n",
    "print(matrix)\n",
    "\n",
    "sparse_matrix = sparse.csr_matrix(matrix) # It is a compressed Sparse matrix \n",
    "print(sparse_matrix) # The output will have the position of the element and the element too"
   ]
  },
  {
   "cell_type": "markdown",
   "metadata": {},
   "source": [
    "## Copies and Views\n",
    "\n",
    "* Slicing creates a *view*, not a copy\n",
    "* Modifying a view also modifies the original\n",
    "* You can force a copy with `.copy()`"
   ]
  },
  {
   "cell_type": "code",
   "execution_count": null,
   "metadata": {
    "ExecuteTime": {
     "end_time": "2020-07-05T09:28:56.122634Z",
     "start_time": "2020-07-05T09:28:56.116651Z"
    }
   },
   "outputs": [],
   "source": [
    "a = np.arange(10)\n",
    "b = a[::2]    # This is a view\n",
    "a, b"
   ]
  },
  {
   "cell_type": "code",
   "execution_count": null,
   "metadata": {
    "ExecuteTime": {
     "end_time": "2020-07-05T09:30:34.944784Z",
     "start_time": "2020-07-05T09:30:34.939798Z"
    }
   },
   "outputs": [],
   "source": [
    "b[0] = 14    # Modify the view and the original also gets affected\n",
    "a, b"
   ]
  },
  {
   "cell_type": "code",
   "execution_count": null,
   "metadata": {
    "ExecuteTime": {
     "end_time": "2020-07-05T09:30:36.686471Z",
     "start_time": "2020-07-05T09:30:36.677469Z"
    }
   },
   "outputs": [],
   "source": [
    "a = np.arange(10)\n",
    "b = a[::2].copy()  # This creates a new copy of the array\n",
    "b[0] = 14          # This update doesn't impact the original\n",
    "a, b"
   ]
  },
  {
   "cell_type": "markdown",
   "metadata": {},
   "source": [
    "### Conditional and Logical Selection"
   ]
  },
  {
   "cell_type": "code",
   "execution_count": null,
   "metadata": {
    "ExecuteTime": {
     "end_time": "2020-07-05T09:31:49.323945Z",
     "start_time": "2020-07-05T09:31:49.314970Z"
    }
   },
   "outputs": [],
   "source": [
    "# Conditional and Logical selection \n",
    "ar = [[34, 23, 56, 78], [76, 98, 6, 3], [23, 54, 77, 45]]\n",
    "ar = np.array(ar)\n",
    "ar > 60 # Compares each element in the array with the number 60 and returns true / false"
   ]
  },
  {
   "cell_type": "code",
   "execution_count": null,
   "metadata": {
    "ExecuteTime": {
     "end_time": "2020-07-05T09:31:57.251350Z",
     "start_time": "2020-07-05T09:31:57.244366Z"
    }
   },
   "outputs": [],
   "source": [
    "# The good part is that we can use the above result and get the elements that are > 60\n",
    "print(ar[(ar > 60)])    # Get all the values that are greater than 60\n",
    "\n",
    "print(ar[(ar > 30) & (ar < 60)])    # We can have logical operations to generate index of elements to retrieve from the array"
   ]
  },
  {
   "cell_type": "code",
   "execution_count": null,
   "metadata": {
    "ExecuteTime": {
     "end_time": "2020-07-05T09:32:46.243510Z",
     "start_time": "2020-07-05T09:32:46.237554Z"
    }
   },
   "outputs": [],
   "source": [
    "print(ar[ar>20])"
   ]
  },
  {
   "cell_type": "code",
   "execution_count": null,
   "metadata": {
    "ExecuteTime": {
     "end_time": "2020-07-05T09:33:04.661581Z",
     "start_time": "2020-07-05T09:33:04.652606Z"
    }
   },
   "outputs": [],
   "source": [
    "# Broadcasting: to change multiple elements at once\n",
    "arr3 = np.array([[23, 54, 65, 77]])\n",
    "print(arr3)\n",
    "arr3[:1,:3] = 40\n",
    "print(arr3)"
   ]
  },
  {
   "cell_type": "markdown",
   "metadata": {},
   "source": [
    "## Operations on Matrix Elements"
   ]
  },
  {
   "cell_type": "code",
   "execution_count": null,
   "metadata": {
    "ExecuteTime": {
     "end_time": "2020-07-05T09:46:13.923492Z",
     "start_time": "2020-07-05T09:46:13.913513Z"
    }
   },
   "outputs": [],
   "source": [
    "matrix = np.mat([[1, 2, 3], [3, 4, 2], [4, 4, 6]])\n",
    "add_100 = lambda i: i + 100\n",
    "vectorized_mat = np.vectorize(add_100) # create a vectorize variable\n",
    "#print(np.vectorize(add_100))\n",
    "vectorized_mat(matrix) # Apply the vectorization effect on the defined matrix\n"
   ]
  },
  {
   "cell_type": "code",
   "execution_count": null,
   "metadata": {
    "ExecuteTime": {
     "end_time": "2020-07-05T09:47:22.630955Z",
     "start_time": "2020-07-05T09:47:22.626999Z"
    }
   },
   "outputs": [],
   "source": [
    "add = lambda a,:a*10\n",
    "print(add(4))"
   ]
  },
  {
   "cell_type": "markdown",
   "metadata": {},
   "source": [
    "### Finding Maximum and Minimum Values\n"
   ]
  },
  {
   "cell_type": "code",
   "execution_count": null,
   "metadata": {},
   "outputs": [],
   "source": [
    "matrix = np.mat([[1, 2, 3], [3, 5, 4], [9, 8, 7]])\n",
    "print(\"Max:\", np.max(matrix))    # Returns the maximum element of the matrix\n",
    "print(\"Min:\", np.min(matrix))    # Returns the minimum elemnt of the matrix"
   ]
  },
  {
   "cell_type": "markdown",
   "metadata": {},
   "source": [
    "### Applying Operations along a Specific Axis\n",
    "Using the axis parameter we can also apply the operation along a certain axis:<br>\n",
    "axis=0 means on each column <br>\n",
    "axis=1 means on each row"
   ]
  },
  {
   "cell_type": "code",
   "execution_count": null,
   "metadata": {
    "ExecuteTime": {
     "end_time": "2020-07-05T09:48:01.608129Z",
     "start_time": "2020-07-05T09:48:01.600151Z"
    }
   },
   "outputs": [],
   "source": [
    "matrix = np.mat([[1, 2, 3], [0, 1, 2], [3, 0, 2]])\n",
    "print(matrix)\n",
    "print(\"Max (axis=0):\", np.max(matrix, axis=0))# Returns the maximum element of each row\n",
    "print(\"Max (axis=1):\", np.max(matrix, axis=1))"
   ]
  },
  {
   "cell_type": "markdown",
   "metadata": {},
   "source": [
    "### Calculating Average Variance and Standard Deviation "
   ]
  },
  {
   "cell_type": "code",
   "execution_count": null,
   "metadata": {
    "ExecuteTime": {
     "end_time": "2020-07-05T09:48:25.645333Z",
     "start_time": "2020-07-05T09:48:25.637386Z"
    }
   },
   "outputs": [],
   "source": [
    "import numpy as np\n",
    "matrix=np.array([[1,2,3],[6,4,5],[8,9,7]])\n",
    "print(\"The mean of the matrix is :\" ,np.mean(matrix))# It will give the mean of the matrix\n",
    "print()\n",
    "print(\"The variance of the matrix is :\" ,np.var(matrix))# It will give the variance of the matrix\n",
    "print()\n",
    "print(\"The standard deviation of the matrix is :\" ,np.std(matrix))# It will give the standard Deviation of the matrix"
   ]
  },
  {
   "cell_type": "markdown",
   "metadata": {},
   "source": [
    "### Reshaping of the arrays or matrix"
   ]
  },
  {
   "cell_type": "code",
   "execution_count": null,
   "metadata": {
    "ExecuteTime": {
     "end_time": "2020-07-05T09:48:42.050724Z",
     "start_time": "2020-07-05T09:48:42.042748Z"
    }
   },
   "outputs": [],
   "source": [
    "import numpy as np\n",
    "matrix=np.array([[1,2,3],[4,5,6],[7,8,9],[10,11,12]])\n",
    "print(matrix.reshape(6,2))# Change the shape of the matrix\n",
    "print()\n",
    "print(matrix.reshape(2,6))# Change the shape of the matrix\n",
    "print()\n",
    "print(matrix.reshape(1, -1))# Change it to 2 D row array\n",
    "print()\n",
    "print(matrix.reshape(12))# provides a row array of 1 D"
   ]
  },
  {
   "cell_type": "markdown",
   "metadata": {},
   "source": [
    "### Transposing a vector or matrix"
   ]
  },
  {
   "cell_type": "code",
   "execution_count": null,
   "metadata": {
    "ExecuteTime": {
     "end_time": "2020-07-05T09:49:19.953393Z",
     "start_time": "2020-07-05T09:49:19.946447Z"
    }
   },
   "outputs": [],
   "source": [
    "import numpy as np \n",
    "matr=np.array([[1,2,3],[3,4,5],[6,8,9]])\n",
    "print(\"The original Matrix is :\\n\", matr)\n",
    "print()\n",
    "print(\"The Transposed Matrix is :\\n\",matr.T)\n",
    "print()"
   ]
  },
  {
   "cell_type": "code",
   "execution_count": null,
   "metadata": {
    "ExecuteTime": {
     "end_time": "2020-07-05T09:52:22.407142Z",
     "start_time": "2020-07-05T09:52:22.399134Z"
    }
   },
   "outputs": [],
   "source": [
    "import numpy as np\n",
    "def numpysum(n):\n",
    "    a = np.arange(n) ** 2\n",
    "    b = np.arange(n) ** 3\n",
    "    print(a)\n",
    "    print(b)\n",
    "    c = a + b\n",
    "    return c\n",
    "print(numpysum(10))"
   ]
  },
  {
   "cell_type": "code",
   "execution_count": null,
   "metadata": {
    "ExecuteTime": {
     "end_time": "2020-07-05T09:52:24.272932Z",
     "start_time": "2020-07-05T09:52:24.267944Z"
    }
   },
   "outputs": [],
   "source": [
    "import numpy as np\n",
    "myarray=np.mat([[1,2,3,4],[4,3,2,1]],dtype=np.int64)\n",
    "print(myarray)"
   ]
  },
  {
   "cell_type": "markdown",
   "metadata": {},
   "source": [
    "#### To create a np arrays using lists"
   ]
  },
  {
   "cell_type": "code",
   "execution_count": null,
   "metadata": {
    "ExecuteTime": {
     "end_time": "2020-07-05T09:52:38.384125Z",
     "start_time": "2020-07-05T09:52:38.376147Z"
    }
   },
   "outputs": [],
   "source": [
    "import numpy as np\n",
    "alist=[\"a\",\"Ram\",8] # Define a list \n",
    "arr=np.array(alist) # conver a list to array\n",
    "print(arr)# print the array\n",
    "print(arr.dtype)# prints the data type for more information refer numpy documentation\n",
    "print(arr.ndim) # Provides the dimension of the array\n",
    "print(arr.shape)# if it is 1 D then you will just get the number of values as a tuple"
   ]
  },
  {
   "cell_type": "markdown",
   "metadata": {},
   "source": [
    "#### To create a Matrix"
   ]
  },
  {
   "cell_type": "code",
   "execution_count": null,
   "metadata": {
    "ExecuteTime": {
     "end_time": "2020-07-05T09:53:17.801328Z",
     "start_time": "2020-07-05T09:53:17.795351Z"
    }
   },
   "outputs": [],
   "source": [
    "arr_l=[[[1,2,3],[4,5,6],[7,8,'kk']],[[1,1,1],[3,3,3],[2,1,5]]]# Define a list of values \n",
    "matr=np.array(arr_l) # convert it into matrix \n",
    "#print(arr_l)\n",
    "print(matr)# print matrix\n",
    "#matr\n",
    "print(matr.dtype)# print the data type of matrix\n",
    "#matr.dtype\n",
    "print(matr.ndim) # print the dimension of matrix\n",
    "#matr.ndim\n",
    "print(matr.shape) # print the shape of matrix\n",
    "#matr.shape"
   ]
  },
  {
   "cell_type": "code",
   "execution_count": null,
   "metadata": {
    "ExecuteTime": {
     "end_time": "2020-07-05T09:56:38.273491Z",
     "start_time": "2020-07-05T09:56:38.267541Z"
    }
   },
   "outputs": [],
   "source": [
    "a_list=[[\"x:Y\"],{\"name:Ram\"}] \n",
    "arr=np.array(a_list)\n",
    "print(arr)\n",
    "print(arr.dtype)\n",
    "print(arr.shape)"
   ]
  },
  {
   "cell_type": "code",
   "execution_count": null,
   "metadata": {
    "ExecuteTime": {
     "end_time": "2020-07-05T10:01:04.634033Z",
     "start_time": "2020-07-05T10:01:04.628059Z"
    }
   },
   "outputs": [],
   "source": [
    "import numpy as np \n",
    "arr6=np.random.randint(2,8,(2,4,7))\n",
    "print(arr6)"
   ]
  },
  {
   "cell_type": "code",
   "execution_count": null,
   "metadata": {
    "ExecuteTime": {
     "end_time": "2020-07-05T10:00:45.679657Z",
     "start_time": "2020-07-05T10:00:45.673667Z"
    }
   },
   "outputs": [],
   "source": [
    "arr88 = np.random.randint(1,10,(3,3))\n",
    "print(arr88)"
   ]
  },
  {
   "cell_type": "code",
   "execution_count": null,
   "metadata": {
    "ExecuteTime": {
     "end_time": "2020-07-05T10:15:01.311031Z",
     "start_time": "2020-07-05T10:15:01.306043Z"
    }
   },
   "outputs": [],
   "source": [
    "arr89 = np.random.randn(2,6)\n",
    "print(arr89)\n",
    "#print(arr89.reshape(2,2))"
   ]
  },
  {
   "cell_type": "markdown",
   "metadata": {},
   "source": [
    "**numpy.random.randn()** in Python\n",
    "\n",
    "**About:** numpy.random.randn(d0, d1, …, dn) : creates an array of specified shape and fills it with random values as per standard normal distribution.\n",
    "\n",
    "If positive arguments are provided, randn generates an array of shape (d0, d1, …, dn), filled with random floats sampled from a univariate “normal” (Gaussian) distribution of mean 0 and variance 1 (if any of the d_i are floats, they are first converted to integers by truncation). A single float randomly sampled from the distribution is returned if no argument is provided.\n"
   ]
  },
  {
   "cell_type": "code",
   "execution_count": null,
   "metadata": {
    "ExecuteTime": {
     "end_time": "2020-07-05T10:18:45.871577Z",
     "start_time": "2020-07-05T10:18:45.866590Z"
    }
   },
   "outputs": [],
   "source": [
    "import numpy as np \n",
    "arr7=np.random.randn(6)\n",
    "print(arr7)"
   ]
  },
  {
   "cell_type": "code",
   "execution_count": null,
   "metadata": {
    "ExecuteTime": {
     "end_time": "2020-07-05T10:18:49.678509Z",
     "start_time": "2020-07-05T10:18:49.672524Z"
    }
   },
   "outputs": [],
   "source": [
    "import numpy as np \n",
    "arr8 =np.random.randn(3,2)\n",
    "print(arr8)"
   ]
  },
  {
   "cell_type": "code",
   "execution_count": null,
   "metadata": {
    "ExecuteTime": {
     "end_time": "2020-07-05T10:18:57.695284Z",
     "start_time": "2020-07-05T10:18:57.687309Z"
    }
   },
   "outputs": [],
   "source": [
    "import numpy as np \n",
    "arr9=np.random.randn(2,4,4)\n",
    "print(arr9)\n",
    "print()\n",
    "arr10=np.random.randn(2,4,4)*2+3\n",
    "print(arr10)"
   ]
  },
  {
   "cell_type": "code",
   "execution_count": null,
   "metadata": {
    "ExecuteTime": {
     "end_time": "2020-07-05T10:19:15.463095Z",
     "start_time": "2020-07-05T10:19:15.455114Z"
    }
   },
   "outputs": [],
   "source": [
    "a=np.array([1,2,3],float)\n",
    "b=a\n",
    "c=a.copy()\n",
    "a[0]=0\n",
    "print(a)\n",
    "print(b)\n",
    "print(c)"
   ]
  },
  {
   "cell_type": "code",
   "execution_count": null,
   "metadata": {
    "ExecuteTime": {
     "end_time": "2020-07-05T10:19:55.281906Z",
     "start_time": "2020-07-05T10:19:55.273928Z"
    }
   },
   "outputs": [],
   "source": [
    "import numpy as np \n",
    "b=np.array([1,2,3],float)\n",
    "print(b)\n",
    "b.fill(0)\n",
    "print(b)"
   ]
  },
  {
   "cell_type": "code",
   "execution_count": null,
   "metadata": {
    "ExecuteTime": {
     "end_time": "2020-07-05T10:21:22.336863Z",
     "start_time": "2020-07-05T10:21:22.328883Z"
    }
   },
   "outputs": [],
   "source": [
    "a=np.array(range(6),float).reshape((2,3))\n",
    "print(a)\n",
    "a.transpose()"
   ]
  },
  {
   "cell_type": "markdown",
   "metadata": {},
   "source": [
    "### One-dimensional versions of multi-dimensional arrays can be generated with flatten:"
   ]
  },
  {
   "cell_type": "code",
   "execution_count": null,
   "metadata": {
    "ExecuteTime": {
     "end_time": "2020-07-05T10:21:38.724935Z",
     "start_time": "2020-07-05T10:21:38.716961Z"
    }
   },
   "outputs": [],
   "source": [
    "b=np.array([[1,2,3],[4,5,6]],float)\n",
    "print(b)\n",
    "print(b.flatten())"
   ]
  },
  {
   "cell_type": "markdown",
   "metadata": {},
   "source": [
    "### Two or more arrays can be concatenated together using the concatenate function with a tuple of the arrays to be joined:"
   ]
  },
  {
   "cell_type": "code",
   "execution_count": null,
   "metadata": {
    "ExecuteTime": {
     "end_time": "2020-07-05T10:21:50.884047Z",
     "start_time": "2020-07-05T10:21:50.877070Z"
    }
   },
   "outputs": [],
   "source": [
    "a=np.array([1,2],float)\n",
    "b=np.array([3,4,5,6],float)\n",
    "c=np.array([7,8,9],float)\n",
    "np.concatenate((a,b,c))"
   ]
  },
  {
   "cell_type": "code",
   "execution_count": null,
   "metadata": {
    "ExecuteTime": {
     "end_time": "2020-07-05T10:21:55.894932Z",
     "start_time": "2020-07-05T10:21:55.876984Z"
    }
   },
   "outputs": [],
   "source": [
    "a=np.array([[1,2],[3,4]],float)\n",
    "b=np.array([[5,6],[8,0]],float)\n",
    "print(np.concatenate((a,b)))\n",
    "print()\n",
    "print(np.concatenate((a,b),axis=0))\n",
    "print()\n",
    "print(np.concatenate((a,b),axis=1))"
   ]
  },
  {
   "cell_type": "markdown",
   "metadata": {},
   "source": [
    "### Finally, the dimensionality of an array can be increased using the newaxis constant in bracket notation:"
   ]
  },
  {
   "cell_type": "code",
   "execution_count": null,
   "metadata": {
    "ExecuteTime": {
     "end_time": "2020-07-05T10:22:22.844860Z",
     "start_time": "2020-07-05T10:22:22.833891Z"
    }
   },
   "outputs": [],
   "source": [
    "a=np.array([1,2,3],float)\n",
    "print(a)\n",
    "print()\n",
    "print()\n",
    "print(a[:,np.newaxis])\n",
    "print()\n",
    "print()\n",
    "print(a[:,np.newaxis].shape)\n",
    "print()\n",
    "print()\n",
    "print(a[np.newaxis,:])\n",
    "print()\n",
    "print()\n",
    "print(a[np.newaxis,:].shape)"
   ]
  },
  {
   "cell_type": "code",
   "execution_count": null,
   "metadata": {
    "ExecuteTime": {
     "end_time": "2020-07-05T10:25:48.994969Z",
     "start_time": "2020-07-05T10:25:48.989985Z"
    }
   },
   "outputs": [],
   "source": [
    "import numpy as np \n",
    "a=np.array((1,2,3))\n",
    "a"
   ]
  },
  {
   "cell_type": "code",
   "execution_count": null,
   "metadata": {
    "ExecuteTime": {
     "end_time": "2020-07-05T10:25:58.550003Z",
     "start_time": "2020-07-05T10:25:58.545015Z"
    }
   },
   "outputs": [],
   "source": [
    "import numpy as np\n",
    "x=np.linspace(0,75,num=6,retstep=True)\n",
    "print(x)"
   ]
  },
  {
   "cell_type": "code",
   "execution_count": null,
   "metadata": {
    "ExecuteTime": {
     "end_time": "2020-07-05T10:26:06.625450Z",
     "start_time": "2020-07-05T10:26:06.617474Z"
    }
   },
   "outputs": [],
   "source": [
    "6*60"
   ]
  },
  {
   "cell_type": "markdown",
   "metadata": {},
   "source": [
    "## TASK"
   ]
  },
  {
   "cell_type": "markdown",
   "metadata": {},
   "source": [
    "#### Which among the following will produce the same result as:\n",
    "1. np.linspace(1,10,10,dtype='int32')\n",
    "2. np.arange(1,11)\n",
    "3. np.random.randint(1,11)\n",
    "4. np.array(range(1,11))"
   ]
  },
  {
   "cell_type": "code",
   "execution_count": null,
   "metadata": {
    "ExecuteTime": {
     "end_time": "2020-07-05T10:29:39.880728Z",
     "start_time": "2020-07-05T10:29:39.873777Z"
    }
   },
   "outputs": [],
   "source": [
    "print(np.linspace(1,10,10,dtype='int32'))\n",
    "print()\n",
    "print(np.arange(1,11))\n",
    "print()\n",
    "print(np.random.randint(1,11,10))\n",
    "print()\n",
    "print(np.array(range(1,11)))"
   ]
  },
  {
   "cell_type": "markdown",
   "metadata": {},
   "source": [
    "### Conversion and other function"
   ]
  },
  {
   "cell_type": "code",
   "execution_count": null,
   "metadata": {
    "ExecuteTime": {
     "end_time": "2020-07-05T10:30:12.283310Z",
     "start_time": "2020-07-05T10:30:12.274339Z"
    }
   },
   "outputs": [],
   "source": [
    "#Converting a 1-D array to a 2-D array using reshape() \n",
    "#Returns an array containing the same data with a new shape.\n",
    "arr_co1=np.linspace(20,30,6,dtype='int32')\n",
    "print(arr_co1.reshape(6))#(2,3)\n",
    "print(arr_co1.reshape(2,3))#(2,3)\n",
    "print()\n",
    "print()\n",
    "x=np.random.randint(5,10,(2,3))\n",
    "print(x)\n",
    "print()\n",
    "y=x.reshape(3,2)\n",
    "print(y)"
   ]
  },
  {
   "cell_type": "code",
   "execution_count": null,
   "metadata": {
    "ExecuteTime": {
     "end_time": "2020-07-05T10:33:00.777270Z",
     "start_time": "2020-07-05T10:33:00.769291Z"
    }
   },
   "outputs": [],
   "source": [
    "arr_co2=np.random.randint(-20,20,20).reshape(2,10)\n",
    "#arr_co2=np.arange(1,21).reshape(2,10)\n",
    "print(arr_co2)\n",
    "print(arr_co2.max())#axis=None is default gives max value\n",
    "print(arr_co2.min())# gives min value\n",
    "print(arr_co2.argmax())# gives the value at which maximum value from the function is attend\n",
    "print(arr_co2.argmin())# gives the value at which minimum value from the function is attend"
   ]
  },
  {
   "cell_type": "code",
   "execution_count": null,
   "metadata": {
    "ExecuteTime": {
     "end_time": "2020-07-05T10:33:38.585198Z",
     "start_time": "2020-07-05T10:33:38.572236Z"
    }
   },
   "outputs": [],
   "source": [
    "a=np.random.randint(10,100,(2,3))# Creates a 2 by 3 matrix of values between 10 and 100\n",
    "print(a)\n",
    "print()\n",
    "print()\n",
    "print(a.max(axis=1))#axis=0/1(row)\n",
    "print()\n",
    "print()\n",
    "print(a.min(axis=0))# columnwise\n",
    "print()\n",
    "print()\n",
    "print(a.argmax(axis=1)) #\n",
    "print()\n",
    "print()\n",
    "print(a.argmax(axis=0))#"
   ]
  },
  {
   "cell_type": "markdown",
   "metadata": {},
   "source": [
    "### Practice Work"
   ]
  },
  {
   "cell_type": "markdown",
   "metadata": {},
   "source": [
    "### Write a NumPy program to test whether none of the elements of a given array is zero."
   ]
  },
  {
   "cell_type": "code",
   "execution_count": 9,
   "metadata": {
    "ExecuteTime": {
     "end_time": "2020-07-05T10:49:10.131502Z",
     "start_time": "2020-07-05T10:49:10.124552Z"
    }
   },
   "outputs": [
    {
     "name": "stdout",
     "output_type": "stream",
     "text": [
      "False\n"
     ]
    }
   ],
   "source": [
    "import numpy as np\n",
    "x=np.array([[1,2,3],[4,0,6],[7,8,9]])\n",
    "print(x.all())\n",
    "            "
   ]
  },
  {
   "cell_type": "markdown",
   "metadata": {},
   "source": [
    "### Write a NumPy program to test if any of the elements of a given array is non-zero"
   ]
  },
  {
   "cell_type": "code",
   "execution_count": 10,
   "metadata": {
    "ExecuteTime": {
     "end_time": "2020-07-05T10:49:40.337881Z",
     "start_time": "2020-07-05T10:49:40.330901Z"
    }
   },
   "outputs": [
    {
     "name": "stdout",
     "output_type": "stream",
     "text": [
      "False\n"
     ]
    }
   ],
   "source": [
    "import numpy as np\n",
    "x=np.array([[1,2,3],[4,0,6],[7,8,9]])\n",
    "print(x.all())\n",
    "            "
   ]
  },
  {
   "cell_type": "markdown",
   "metadata": {},
   "source": [
    "### Write a NumPy program to generate five random numbers from the normal distribution."
   ]
  },
  {
   "cell_type": "code",
   "execution_count": 11,
   "metadata": {
    "ExecuteTime": {
     "end_time": "2020-07-05T10:50:04.963144Z",
     "start_time": "2020-07-05T10:50:04.956163Z"
    }
   },
   "outputs": [
    {
     "name": "stdout",
     "output_type": "stream",
     "text": [
      "[ 1.89522413  1.37165801 -1.25301524  0.25114411  0.05156743]\n"
     ]
    }
   ],
   "source": [
    "print(np.random.randn(5))"
   ]
  },
  {
   "cell_type": "markdown",
   "metadata": {},
   "source": [
    "### Write a NumPy program to generate six random integers between 10 and 30."
   ]
  },
  {
   "cell_type": "code",
   "execution_count": 13,
   "metadata": {
    "ExecuteTime": {
     "end_time": "2020-07-05T10:50:50.159721Z",
     "start_time": "2020-07-05T10:50:50.153736Z"
    }
   },
   "outputs": [
    {
     "name": "stdout",
     "output_type": "stream",
     "text": [
      "[18 24 29 28 27 23]\n"
     ]
    }
   ],
   "source": [
    "print(np.random.randint(10,30,6))"
   ]
  },
  {
   "cell_type": "markdown",
   "metadata": {},
   "source": [
    "### Write a NumPy program to get the numpy version and show numpy build configuration."
   ]
  },
  {
   "cell_type": "code",
   "execution_count": 14,
   "metadata": {
    "ExecuteTime": {
     "end_time": "2020-07-05T10:51:10.809518Z",
     "start_time": "2020-07-05T10:51:10.803535Z"
    }
   },
   "outputs": [
    {
     "name": "stdout",
     "output_type": "stream",
     "text": [
      "1.18.1\n"
     ]
    }
   ],
   "source": [
    "print(np.__version__)"
   ]
  },
  {
   "cell_type": "markdown",
   "metadata": {},
   "source": [
    "### Write a NumPy program to  get help on the add function."
   ]
  },
  {
   "cell_type": "code",
   "execution_count": 17,
   "metadata": {
    "ExecuteTime": {
     "end_time": "2020-07-05T10:53:41.493159Z",
     "start_time": "2020-07-05T10:53:41.488172Z"
    }
   },
   "outputs": [
    {
     "name": "stdout",
     "output_type": "stream",
     "text": [
      "add(x1, x2, /, out=None, *, where=True, casting='same_kind', order='K', dtype=None, subok=True[, signature, extobj])\n",
      "\n",
      "Add arguments element-wise.\n",
      "\n",
      "Parameters\n",
      "----------\n",
      "x1, x2 : array_like\n",
      "    The arrays to be added. If ``x1.shape != x2.shape``, they must be broadcastable to a common shape (which becomes the shape of the output).\n",
      "out : ndarray, None, or tuple of ndarray and None, optional\n",
      "    A location into which the result is stored. If provided, it must have\n",
      "    a shape that the inputs broadcast to. If not provided or None,\n",
      "    a freshly-allocated array is returned. A tuple (possible only as a\n",
      "    keyword argument) must have length equal to the number of outputs.\n",
      "where : array_like, optional\n",
      "    This condition is broadcast over the input. At locations where the\n",
      "    condition is True, the `out` array will be set to the ufunc result.\n",
      "    Elsewhere, the `out` array will retain its original value.\n",
      "    Note that if an uninitialized `out` array is created via the default\n",
      "    ``out=None``, locations within it where the condition is False will\n",
      "    remain uninitialized.\n",
      "**kwargs\n",
      "    For other keyword-only arguments, see the\n",
      "    :ref:`ufunc docs <ufuncs.kwargs>`.\n",
      "\n",
      "Returns\n",
      "-------\n",
      "add : ndarray or scalar\n",
      "    The sum of `x1` and `x2`, element-wise.\n",
      "    This is a scalar if both `x1` and `x2` are scalars.\n",
      "\n",
      "Notes\n",
      "-----\n",
      "Equivalent to `x1` + `x2` in terms of array broadcasting.\n",
      "\n",
      "Examples\n",
      "--------\n",
      ">>> np.add(1.0, 4.0)\n",
      "5.0\n",
      ">>> x1 = np.arange(9.0).reshape((3, 3))\n",
      ">>> x2 = np.arange(3.0)\n",
      ">>> np.add(x1, x2)\n",
      "array([[  0.,   2.,   4.],\n",
      "       [  3.,   5.,   7.],\n",
      "       [  6.,   8.,  10.]])\n"
     ]
    }
   ],
   "source": [
    "np.info(np.add)"
   ]
  },
  {
   "cell_type": "markdown",
   "metadata": {},
   "source": [
    "### create Numpy Array\n",
    "\n",
    "To create a NumPy array we need to pass list of element values inside a square bracket as an argument to the np.array() function."
   ]
  },
  {
   "cell_type": "code",
   "execution_count": 20,
   "metadata": {
    "ExecuteTime": {
     "end_time": "2020-07-05T10:58:37.836504Z",
     "start_time": "2020-07-05T10:58:37.828524Z"
    }
   },
   "outputs": [
    {
     "name": "stdout",
     "output_type": "stream",
     "text": [
      "[1 2 3 4 5]\n",
      "----------\n",
      "[[1 2 3]\n",
      " [4 5 6]]\n",
      "----------\n",
      "[[[ 1  2  3]\n",
      "  [ 4  5  6]]\n",
      "\n",
      " [[ 7  8  9]\n",
      "  [10 11 12]]]\n",
      "(2, 2, 3)\n"
     ]
    }
   ],
   "source": [
    "### A 3d array is a matrix of 2d array. \n",
    "### A 3d array can also be called as a list of lists where every element is again a list of elements.\n",
    "\n",
    "import numpy as np \n",
    "ar1=np.array([1,2,3,4,5])\n",
    "ar2=np.array([[1,2,3],[4,5,6]])\n",
    "ar3=np.array([[[1,2,3],[4,5,6]],[[7,8,9],[10,11,12]]])\n",
    "print(ar1)\n",
    "print(\"-\"*10)\n",
    "print(ar2)\n",
    "print(\"-\"*10)\n",
    "print(ar3)\n",
    "print(ar3.shape)"
   ]
  },
  {
   "cell_type": "markdown",
   "metadata": {},
   "source": [
    "**Shape:**\tA tuple that specifies the number of elements for each dimension of the array.<br>\n",
    "**Size:**\tThe total number elements in the array.<br>\n",
    "**Ndim:**\tDetermines the dimension an array.<br>\n",
    "**nbytes:**\tNumber of bytes used to store the data.<br>\n",
    "**dtype:**\tDetermines the datatype of elements stored in array.<br>"
   ]
  },
  {
   "cell_type": "markdown",
   "metadata": {},
   "source": [
    "Data Types Supported by NumPy\n",
    "The dtype method determines the datatype of elements stored in NumPy array. You can also explicitly define the data type using the dtype option as an argument of array function.\n",
    "\n",
    "dtype\t    |            Variants                |  Description\n",
    "------------|------------------------------------|-------------------------\n",
    "int\t        | int8, int16, int32, int64          |  Integers\n",
    "uint        | uint8, uint16, uint32, uint64\t     |  Unsigned (nonnegative) integers\n",
    "bool        | Bool\t                             |  Boolean (True or False)\n",
    "code>float  | float16, float32, float64, float128|  Floating-point numbers\n",
    "complex\t    | complex64, complex128, complex256  |  Complex-valued floating-point numbers"
   ]
  },
  {
   "cell_type": "markdown",
   "metadata": {},
   "source": [
    "# Numeric data manipulation, taublar dataframe and data visualization"
   ]
  },
  {
   "cell_type": "markdown",
   "metadata": {},
   "source": [
    "### Core features of numpy\n",
    "We will start by looking at the api to create arrays, delete array, access element of arrays, delete element of arrays.\n",
    "\n",
    "### Arrays creation\n",
    "Arrays can be created in different ways. Here are some examples:"
   ]
  },
  {
   "cell_type": "code",
   "execution_count": 3,
   "metadata": {
    "ExecuteTime": {
     "end_time": "2020-07-11T06:01:17.582082Z",
     "start_time": "2020-07-11T06:01:17.571113Z"
    }
   },
   "outputs": [
    {
     "name": "stdout",
     "output_type": "stream",
     "text": [
      "[1 2 3]\n",
      "[4 5 6]\n",
      "[7 8 9]\n"
     ]
    }
   ],
   "source": [
    "# create an array from an existing list, tuple or generator\n",
    "l = [1, 2, 3]\n",
    "t = [4, 5, 6]\n",
    "g = range(7, 10)\n",
    "\n",
    "a = np.array(l); print(a)\n",
    "a = np.array(t); print(a)\n",
    "a = np.array(g); print(a)"
   ]
  },
  {
   "cell_type": "code",
   "execution_count": 2,
   "metadata": {
    "ExecuteTime": {
     "end_time": "2020-07-11T06:01:17.091066Z",
     "start_time": "2020-07-11T06:01:14.240519Z"
    }
   },
   "outputs": [],
   "source": [
    "import numpy as np"
   ]
  },
  {
   "cell_type": "code",
   "execution_count": 8,
   "metadata": {
    "ExecuteTime": {
     "end_time": "2020-07-11T06:03:31.160108Z",
     "start_time": "2020-07-11T06:03:31.152128Z"
    }
   },
   "outputs": [
    {
     "name": "stdout",
     "output_type": "stream",
     "text": [
      "[0.  0.1 0.2 0.3 0.4 0.5 0.6 0.7 0.8 0.9]\n",
      "[[0.         0.55555556]\n",
      " [1.11111111 1.66666667]\n",
      " [2.22222222 2.77777778]\n",
      " [3.33333333 3.88888889]\n",
      " [4.44444444 5.        ]]\n",
      "[0.         0.55555556 1.11111111 1.66666667 2.22222222 2.77777778\n",
      " 3.33333333 3.88888889 4.44444444 5.        ]\n",
      "[0. 0. 0. 0. 0. 0. 0. 0. 0. 0.]\n",
      "[3. 3. 3. 3. 3. 3. 3. 3. 3. 3.]\n",
      "[0.13257961 0.99994971 0.58897059 0.25479458 0.4887622  0.22977009\n",
      " 0.34845222 0.62290061 0.61217296 0.79995517]\n"
     ]
    }
   ],
   "source": [
    "# generate array from a particular function\n",
    "a = np.arange(0, 1, 0.1) # from 0 to 1 with 0.1 steps\n",
    "print(a)\n",
    "b = np.linspace(0, 5, 10) # from 0 to 5 such that there are 10 elements\n",
    "print(b.reshape(5,2))\n",
    "c = np.empty(10) # 10 elements with random values inside\n",
    "print(c)\n",
    "d = np.zeros(10) # 10 elements with 0s inside\n",
    "print(d)\n",
    "e = np.full_like(d, 3) # array big like d but with 3 elements inside\n",
    "print(e)\n",
    "f = np.random.random(10)  # array of random elements\n",
    "print(f)"
   ]
  },
  {
   "cell_type": "markdown",
   "metadata": {},
   "source": [
    "## Accessing elements of arrays\n",
    "\n",
    "Accessing elements of array is similar to python syntax for lists but it can be extended to a more powerful behaviour"
   ]
  },
  {
   "cell_type": "code",
   "execution_count": 14,
   "metadata": {
    "ExecuteTime": {
     "end_time": "2020-07-11T06:04:36.416243Z",
     "start_time": "2020-07-11T06:04:36.412250Z"
    }
   },
   "outputs": [
    {
     "data": {
      "text/plain": [
       "array([ 5,  6,  7,  8,  9, 10, 11, 12, 13, 14])"
      ]
     },
     "execution_count": 14,
     "metadata": {},
     "output_type": "execute_result"
    }
   ],
   "source": [
    "a = np.array(range(5, 15))  # 10 elements from 5 to 15 excluded\n",
    "a"
   ]
  },
  {
   "cell_type": "code",
   "execution_count": 15,
   "metadata": {
    "ExecuteTime": {
     "end_time": "2020-07-11T06:04:40.831815Z",
     "start_time": "2020-07-11T06:04:40.825831Z"
    }
   },
   "outputs": [],
   "source": [
    "first = a[0]  # access the first element\n",
    "last = a[-1]  # access the last element\n",
    "slice1 = a[:4] # access element from 0 to 4 excluded (0, 1, 2, 3)\n",
    "slice2 = a[1:3] # access elements from 1 included to 3 excluded (1, 2)\n",
    "slice3 = a[-3:-1]  # access element from the third last included to the last exclued (-3, -2)\n",
    "slice4 = a[4:]  # access elements from 4 included until the end\n",
    "slice5 = a[1:8:2]  # access from 1 inclued to 8 excluded with steps of 2 (1, 3, 5, 7)\n",
    "slice6 = a[::3] # access every third element (0, 3, 6, 9)\n",
    "# bonus: reverse an array\n",
    "slice7 = a[::-1]"
   ]
  },
  {
   "cell_type": "code",
   "execution_count": 16,
   "metadata": {
    "ExecuteTime": {
     "end_time": "2020-07-11T06:05:19.277626Z",
     "start_time": "2020-07-11T06:05:19.271608Z"
    }
   },
   "outputs": [
    {
     "data": {
      "text/plain": [
       "array([ 5,  6,  7,  8,  9, 10, 11, 12, 13, 14])"
      ]
     },
     "execution_count": 16,
     "metadata": {},
     "output_type": "execute_result"
    }
   ],
   "source": [
    "a"
   ]
  },
  {
   "cell_type": "code",
   "execution_count": 19,
   "metadata": {
    "ExecuteTime": {
     "end_time": "2020-07-11T06:06:30.964521Z",
     "start_time": "2020-07-11T06:06:30.957541Z"
    }
   },
   "outputs": [
    {
     "name": "stdout",
     "output_type": "stream",
     "text": [
      "[False False False False  True  True  True  True  True  True]\n"
     ]
    },
    {
     "data": {
      "text/plain": [
       "array([ 9, 10, 11, 12, 13, 14])"
      ]
     },
     "execution_count": 19,
     "metadata": {},
     "output_type": "execute_result"
    }
   ],
   "source": [
    "mask = a > 8\n",
    "print(mask)\n",
    "a[a>8]"
   ]
  },
  {
   "cell_type": "code",
   "execution_count": 20,
   "metadata": {
    "ExecuteTime": {
     "end_time": "2020-07-11T06:07:51.163251Z",
     "start_time": "2020-07-11T06:07:51.134332Z"
    }
   },
   "outputs": [
    {
     "name": "stdout",
     "output_type": "stream",
     "text": [
      "[False False False False  True  True  True  True  True  True]\n",
      "[ 9 10 11 12 13 14] [ 9 10 11 12 13 14]\n"
     ]
    }
   ],
   "source": [
    "# more indexing methods\n",
    "submask = [1, 3, 7, 9] \n",
    "slice8 = a[submask]  # access the elements in the positions described by submask\n",
    "\n",
    "# boolean indexing.\n",
    "mask = a > 8  # mask is a variable of booleans\n",
    "print(mask)\n",
    "slice9 = a[mask]  # a boolean maks can be used to select only certain element\n",
    "slice10 = a[a > 8]  # alternative syntax\n",
    "\n",
    "print(slice9, slice10)"
   ]
  },
  {
   "cell_type": "markdown",
   "metadata": {},
   "source": [
    "## Some interesting numpy functions\n",
    "\n",
    "### Math functions\n",
    "numpy has a fairly big set of functions to for mathematical operations"
   ]
  },
  {
   "cell_type": "code",
   "execution_count": 21,
   "metadata": {
    "ExecuteTime": {
     "end_time": "2020-07-11T06:08:17.476231Z",
     "start_time": "2020-07-11T06:08:17.467252Z"
    }
   },
   "outputs": [
    {
     "name": "stdout",
     "output_type": "stream",
     "text": [
      "Mean:  9.0\n",
      "Standard deviation:  0.816496580927726\n",
      "Max:  10\n",
      "Min:  8\n",
      "Ix Max:  0\n",
      "Ix Min:  1\n"
     ]
    }
   ],
   "source": [
    "# standard math functions, like mean, standard deviations, max, min, etc. \n",
    "# are all available\n",
    "a = np.array([10, 8, 9])\n",
    "print('Mean: ', np.mean(a))\n",
    "print('Standard deviation: ', np.std(a))\n",
    "print('Max: ', np.max(a))\n",
    "print('Min: ', np.min(a))\n",
    "print('Ix Max: ', np.argmax(a))\n",
    "print('Ix Min: ', np.argmin(a))"
   ]
  },
  {
   "cell_type": "markdown",
   "metadata": {},
   "source": [
    "### Inserting and deleting elements\n",
    "\n",
    "numpy are blocks of memory with a different layout than the list. For this reason it's not possible to append and element like a list, thoug similar functions are provided"
   ]
  },
  {
   "cell_type": "code",
   "execution_count": 3,
   "metadata": {
    "ExecuteTime": {
     "end_time": "2020-07-11T06:09:45.444065Z",
     "start_time": "2020-07-11T06:09:45.435089Z"
    }
   },
   "outputs": [
    {
     "name": "stdout",
     "output_type": "stream",
     "text": [
      "[1 2 3 3]\n",
      "[ 1  2 12  3]\n",
      "[1 3]\n"
     ]
    }
   ],
   "source": [
    "import numpy as np\n",
    "a = np.array([1, 2, 3])\n",
    "# print(b)\n",
    "b = np.append(a, 3); print(b) # insert the number 3 at the end\n",
    "c = np.insert(a, 2, 12); print(c)  # insert the value 12 at index 2\n",
    "d = np.delete(a, 1); print(d) # delete the value at index 1"
   ]
  },
  {
   "cell_type": "markdown",
   "metadata": {},
   "source": [
    "## Vectorization and broadcasting\n",
    "\n",
    "These following two concepts are probably the most powerful concepts used in numpy. Sometimes they're used without we notice it. Let's consider the following examples"
   ]
  },
  {
   "cell_type": "code",
   "execution_count": 4,
   "metadata": {
    "ExecuteTime": {
     "end_time": "2020-07-11T06:10:18.889981Z",
     "start_time": "2020-07-11T06:10:18.883997Z"
    }
   },
   "outputs": [
    {
     "name": "stdout",
     "output_type": "stream",
     "text": [
      "[1 4 9]\n",
      "[  1  64 729]\n",
      "[  1  64 729]\n",
      "[0.33333333 0.66666667 1.        ]\n",
      "[-1  0  1]\n"
     ]
    }
   ],
   "source": [
    "a = np.array([1, 2, 3])\n",
    "\n",
    "# I want the square of each element: there is the dedicated function\n",
    "print(np.square(a))\n",
    "# I want each element to the power of 6 for example:\n",
    "print(np.power(a, 6)); print(a ** 6)\n",
    "# I want to divide each element by 3\n",
    "print(a / 3)\n",
    "# I want to subtract 2 from each element\n",
    "print(a - 2)"
   ]
  },
  {
   "cell_type": "markdown",
   "metadata": {},
   "source": [
    "The operations between an array/vector and a scalar value are possible because numpy can smartly understand the dimension of both variables and apply the operator to each value of the first element using the value of the second."
   ]
  },
  {
   "cell_type": "code",
   "execution_count": 6,
   "metadata": {
    "ExecuteTime": {
     "end_time": "2020-07-11T06:11:00.190502Z",
     "start_time": "2020-07-11T06:11:00.185515Z"
    }
   },
   "outputs": [
    {
     "name": "stdout",
     "output_type": "stream",
     "text": [
      "[2 3 9]\n"
     ]
    }
   ],
   "source": [
    "x = np.array([1, 1, 3])\n",
    "y = np.array([2, 3, 3])\n",
    "\n",
    "# I  want to mulitply each element of x by the correspndding element of y\n",
    "print(x * y)"
   ]
  },
  {
   "cell_type": "markdown",
   "metadata": {},
   "source": [
    "So if there are two array with the same dimension (1d in this case) the operation are applied element-wise. If there is a 1d array and a scalar then the scalr is applied to each element of the array."
   ]
  },
  {
   "cell_type": "markdown",
   "metadata": {},
   "source": [
    "## Multi dimensional array\n",
    "\n",
    "Sometimes we want to work with n-dimensional arrays. Let's see some examples"
   ]
  },
  {
   "cell_type": "markdown",
   "metadata": {
    "ExecuteTime": {
     "end_time": "2020-07-11T06:12:19.995740Z",
     "start_time": "2020-07-11T06:12:19.967816Z"
    }
   },
   "source": [
    "# Create a 2d array 2x2 of random elements\n",
    "m = np.random.randint()\n",
    "m"
   ]
  },
  {
   "cell_type": "code",
   "execution_count": 15,
   "metadata": {
    "ExecuteTime": {
     "end_time": "2020-07-11T06:13:58.438192Z",
     "start_time": "2020-07-11T06:13:58.430214Z"
    }
   },
   "outputs": [
    {
     "data": {
      "text/plain": [
       "array([[2, 3],\n",
       "       [0, 0]])"
      ]
     },
     "execution_count": 15,
     "metadata": {},
     "output_type": "execute_result"
    }
   ],
   "source": [
    "m = np.random.randint(0,4,4)\n",
    "m.reshape(2,2)"
   ]
  },
  {
   "cell_type": "code",
   "execution_count": 16,
   "metadata": {
    "ExecuteTime": {
     "end_time": "2020-07-11T06:14:03.957370Z",
     "start_time": "2020-07-11T06:14:03.950387Z"
    }
   },
   "outputs": [
    {
     "name": "stdout",
     "output_type": "stream",
     "text": [
      "[ 1  2  3  4  5  6  7  8  9 10 11 12 13 14 15 16 17 18 19 20 21 22 23 24]\n"
     ]
    },
    {
     "data": {
      "text/plain": [
       "array([[ 1,  2,  3,  4,  5,  6],\n",
       "       [ 7,  8,  9, 10, 11, 12],\n",
       "       [13, 14, 15, 16, 17, 18],\n",
       "       [19, 20, 21, 22, 23, 24]])"
      ]
     },
     "execution_count": 16,
     "metadata": {},
     "output_type": "execute_result"
    }
   ],
   "source": [
    "# create a 4x6 array of elements from 1 to 24\n",
    "m = np.arange(1, 25)\n",
    "print(m)\n",
    "m = m.reshape((4, 6))\n",
    "m"
   ]
  },
  {
   "cell_type": "code",
   "execution_count": 17,
   "metadata": {
    "ExecuteTime": {
     "end_time": "2020-07-11T06:14:20.552168Z",
     "start_time": "2020-07-11T06:14:20.540199Z"
    }
   },
   "outputs": [
    {
     "ename": "ValueError",
     "evalue": "cannot reshape array of size 25 into shape (4,6)",
     "output_type": "error",
     "traceback": [
      "\u001b[1;31m---------------------------------------------------------------------------\u001b[0m",
      "\u001b[1;31mValueError\u001b[0m                                Traceback (most recent call last)",
      "\u001b[1;32m<ipython-input-17-cce8bcffcf17>\u001b[0m in \u001b[0;36m<module>\u001b[1;34m\u001b[0m\n\u001b[0;32m      2\u001b[0m \u001b[1;31m# I can't create a matrix of 4 rows\u001b[0m\u001b[1;33m\u001b[0m\u001b[1;33m\u001b[0m\u001b[1;33m\u001b[0m\u001b[0m\n\u001b[0;32m      3\u001b[0m \u001b[0mm\u001b[0m \u001b[1;33m=\u001b[0m \u001b[0mnp\u001b[0m\u001b[1;33m.\u001b[0m\u001b[0marange\u001b[0m\u001b[1;33m(\u001b[0m\u001b[1;36m0\u001b[0m\u001b[1;33m,\u001b[0m \u001b[1;36m25\u001b[0m\u001b[1;33m)\u001b[0m\u001b[1;33m\u001b[0m\u001b[1;33m\u001b[0m\u001b[0m\n\u001b[1;32m----> 4\u001b[1;33m \u001b[0mm\u001b[0m \u001b[1;33m=\u001b[0m \u001b[0mm\u001b[0m\u001b[1;33m.\u001b[0m\u001b[0mreshape\u001b[0m\u001b[1;33m(\u001b[0m\u001b[1;33m(\u001b[0m\u001b[1;36m4\u001b[0m\u001b[1;33m,\u001b[0m \u001b[1;36m6\u001b[0m\u001b[1;33m)\u001b[0m\u001b[1;33m)\u001b[0m\u001b[1;33m\u001b[0m\u001b[1;33m\u001b[0m\u001b[0m\n\u001b[0m",
      "\u001b[1;31mValueError\u001b[0m: cannot reshape array of size 25 into shape (4,6)"
     ]
    }
   ],
   "source": [
    "# example of error: 25 elements are not divisible by 4 so \n",
    "# I can't create a matrix of 4 rows\n",
    "m = np.arange(0, 25)\n",
    "m = m.reshape((4, 6))"
   ]
  },
  {
   "cell_type": "code",
   "execution_count": 26,
   "metadata": {
    "ExecuteTime": {
     "end_time": "2020-07-11T06:16:31.427257Z",
     "start_time": "2020-07-11T06:16:31.422301Z"
    }
   },
   "outputs": [
    {
     "name": "stdout",
     "output_type": "stream",
     "text": [
      "(30, 2)\n",
      "[[[ 0  1  2  3  4]\n",
      "  [ 5  6  7  8  9]\n",
      "  [10 11 12 13 14]\n",
      "  [15 16 17 18 19]\n",
      "  [20 21 22 23 24]\n",
      "  [25 26 27 28 29]]\n",
      "\n",
      " [[30 31 32 33 34]\n",
      "  [35 36 37 38 39]\n",
      "  [40 41 42 43 44]\n",
      "  [45 46 47 48 49]\n",
      "  [50 51 52 53 54]\n",
      "  [55 56 57 58 59]]]\n"
     ]
    }
   ],
   "source": [
    "# sometimes we only need to reshape an array knowing the number of rows \n",
    "# but we don't know the number od columns (or viceversa). In this case\n",
    "# we can use -1 in the reshape function\n",
    "m = np.arange(0, 60)\n",
    "reshape1 = m.reshape((-1, 2)) # it will create a 30x2\n",
    "print(reshape1.shape)\n",
    "reshape2 = m.reshape((2, -1)) # it will create a 2x30\n",
    "reshape3 = m.reshape((2, 6, -1)) # it will create a 2x6x5\n",
    "print(reshape3)"
   ]
  },
  {
   "cell_type": "markdown",
   "metadata": {},
   "source": [
    "## The axis arguments\n",
    "\n",
    "some numpy functions accepts an `axis` argument. This is used in multidimensional array to apply the operation over a particular axis. Let's see a simple example:\n",
    "\n",
    "**School grades**\n",
    "There three students attending the physics class. Their marks over time are saved into a simple .txt file"
   ]
  },
  {
   "cell_type": "code",
   "execution_count": 27,
   "metadata": {
    "ExecuteTime": {
     "end_time": "2020-07-11T06:17:22.937060Z",
     "start_time": "2020-07-11T06:17:22.930078Z"
    }
   },
   "outputs": [
    {
     "name": "stdout",
     "output_type": "stream",
     "text": [
      "Writing school_grades.txt\n"
     ]
    }
   ],
   "source": [
    "%%writefile school_grades.txt\n",
    "tizio, caio, sempronio\n",
    "9, 9, 10\n",
    "8, 6, 9\n",
    "10, 9, 9\n",
    "7, 7, 8"
   ]
  },
  {
   "cell_type": "code",
   "execution_count": 31,
   "metadata": {
    "ExecuteTime": {
     "end_time": "2020-07-11T06:18:20.129649Z",
     "start_time": "2020-07-11T06:18:20.123666Z"
    }
   },
   "outputs": [
    {
     "data": {
      "text/plain": [
       "array([[ 9.,  9., 10.],\n",
       "       [ 8.,  6.,  9.],\n",
       "       [10.,  9.,  9.],\n",
       "       [ 7.,  7.,  8.]])"
      ]
     },
     "execution_count": 31,
     "metadata": {},
     "output_type": "execute_result"
    }
   ],
   "source": [
    "# read the data into a single array\n",
    "grades = np.genfromtxt('school_grades.txt', skip_header=1, delimiter=',')\n",
    "# grades = np.genfromtxt('school_grades.txt', skip_header=0, delimiter=',', dtype=str)\n",
    "grades"
   ]
  },
  {
   "cell_type": "code",
   "execution_count": 32,
   "metadata": {
    "ExecuteTime": {
     "end_time": "2020-07-11T06:18:24.174755Z",
     "start_time": "2020-07-11T06:18:24.167804Z"
    }
   },
   "outputs": [
    {
     "data": {
      "text/plain": [
       "(4, 3)"
      ]
     },
     "execution_count": 32,
     "metadata": {},
     "output_type": "execute_result"
    }
   ],
   "source": [
    "# the shape of the array is \n",
    "grades.shape"
   ]
  },
  {
   "cell_type": "code",
   "execution_count": 33,
   "metadata": {
    "ExecuteTime": {
     "end_time": "2020-07-11T06:18:34.383733Z",
     "start_time": "2020-07-11T06:18:34.378747Z"
    }
   },
   "outputs": [
    {
     "data": {
      "text/plain": [
       "array([8.5 , 7.75, 9.  ])"
      ]
     },
     "execution_count": 33,
     "metadata": {},
     "output_type": "execute_result"
    }
   ],
   "source": [
    "# I want the global average mark for each student\n",
    "mean_marks_per_student = np.mean(grades, axis=0)\n",
    "mean_marks_per_student"
   ]
  },
  {
   "cell_type": "code",
   "execution_count": 34,
   "metadata": {
    "ExecuteTime": {
     "end_time": "2020-07-11T06:19:05.182089Z",
     "start_time": "2020-07-11T06:19:05.174142Z"
    }
   },
   "outputs": [
    {
     "data": {
      "text/plain": [
       "array([9.33333333, 7.66666667, 9.33333333, 7.33333333])"
      ]
     },
     "execution_count": 34,
     "metadata": {},
     "output_type": "execute_result"
    }
   ],
   "source": [
    "# I want the average mark between the students for each test\n",
    "mean_marks_per_test = np.mean(grades, axis=1)\n",
    "mean_marks_per_test"
   ]
  },
  {
   "cell_type": "markdown",
   "metadata": {},
   "source": [
    "So the array has a *4* rows and *3* columns. The shape can be accessed by the attribute `grades.shape` and returns a tuple `(nrows, ncolumns)`. The axis argument can be used to apply a function over an axis and it works this way:\n",
    "\n",
    "* If the axis is 0 it will collpase the axis at the 0-th position in the shape of the array. This means from `(nrows, ncolumns)` -> `(ncolumns)`\n",
    "* If the axis is 1 it will collapse the axis at the 1-st position in the shape of the array. This means that `(nrows, ncolumns)` -> `(nrows)`\n",
    "* In general if we have an array of the shape `(s1, s2, s3, ...)` the axis is an integer number (or a tuple) from 0 to `ndim-1`. The number specified in the `axis` arguments will be the dimensions the will collapse.\n",
    "\n",
    "```\n",
    "a = np.array([...])\n",
    "a.shape = (s1, s2, s3, s4)\n",
    "           0,  1,  2,  3\n",
    "           \n",
    "np.mean(a, axis=0) -> (s2, s3, s4)\n",
    "np.mean(a, axis=(0, 1)) -> (s3, s4)\n",
    "np.mean(a, axis=3) -> (s1, s2, s3)\n",
    "```"
   ]
  },
  {
   "cell_type": "code",
   "execution_count": 35,
   "metadata": {
    "ExecuteTime": {
     "end_time": "2020-07-11T06:20:35.885818Z",
     "start_time": "2020-07-11T06:20:35.878835Z"
    }
   },
   "outputs": [
    {
     "name": "stdout",
     "output_type": "stream",
     "text": [
      "(420,)\n",
      "(2, 3, 2, 5, 7)\n",
      "(2, 2, 5, 7)\n",
      "(3, 2, 5, 7)\n",
      "(2, 3, 7)\n",
      "(2, 3, 2, 5)\n"
     ]
    }
   ],
   "source": [
    "a = np.random.random(420)\n",
    "print(a.shape)\n",
    "a = a.reshape((2, 3, 2, 5, 7))\n",
    "#              0, 1, 2, 3, 4\n",
    "print(a.shape)\n",
    "\n",
    "print(a.mean(axis=1).shape) # 0, 2, 3, 4\n",
    "print(a.mean(axis=0).shape) # 1, 2, 3, 4\n",
    "print(a.mean(axis=(2, 3)).shape) # 0, 1, 4\n",
    "print(a.mean(axis=-1).shape) # 0, 1, 2, 3"
   ]
  },
  {
   "cell_type": "markdown",
   "metadata": {},
   "source": [
    "<h1 style=\"color:green\" align='center'>Numpy tutorial: iterate numpy array using nditer</h1>"
   ]
  },
  {
   "cell_type": "code",
   "execution_count": null,
   "metadata": {},
   "outputs": [],
   "source": [
    "import numpy as np"
   ]
  },
  {
   "cell_type": "code",
   "execution_count": 36,
   "metadata": {
    "ExecuteTime": {
     "end_time": "2020-07-11T06:27:46.708032Z",
     "start_time": "2020-07-11T06:27:46.700055Z"
    }
   },
   "outputs": [
    {
     "data": {
      "text/plain": [
       "array([[ 0,  1,  2,  3],\n",
       "       [ 4,  5,  6,  7],\n",
       "       [ 8,  9, 10, 11]])"
      ]
     },
     "execution_count": 36,
     "metadata": {},
     "output_type": "execute_result"
    }
   ],
   "source": [
    "a = np.arange(12).reshape(3,4)\n",
    "a"
   ]
  },
  {
   "cell_type": "markdown",
   "metadata": {},
   "source": [
    "<h3 style=\"color:purple\">Using normal for loop iteration</h3>"
   ]
  },
  {
   "cell_type": "code",
   "execution_count": 37,
   "metadata": {
    "ExecuteTime": {
     "end_time": "2020-07-11T06:28:13.242596Z",
     "start_time": "2020-07-11T06:28:13.236612Z"
    }
   },
   "outputs": [
    {
     "name": "stdout",
     "output_type": "stream",
     "text": [
      "0\n",
      "1\n",
      "2\n",
      "3\n",
      "4\n",
      "5\n",
      "6\n",
      "7\n",
      "8\n",
      "9\n",
      "10\n",
      "11\n"
     ]
    }
   ],
   "source": [
    "for row in a:\n",
    "    for cell in row:\n",
    "        print(cell)"
   ]
  },
  {
   "cell_type": "markdown",
   "metadata": {},
   "source": [
    "<h3 style=\"color:purple\">For loop with flatten</h3>"
   ]
  },
  {
   "cell_type": "code",
   "execution_count": 43,
   "metadata": {
    "ExecuteTime": {
     "end_time": "2020-07-11T06:29:06.964378Z",
     "start_time": "2020-07-11T06:29:06.959405Z"
    }
   },
   "outputs": [
    {
     "name": "stdout",
     "output_type": "stream",
     "text": [
      "0 1 2 3 4 5 6 7 8 9 10 11 "
     ]
    }
   ],
   "source": [
    "for cell in a.flatten():\n",
    "    print(cell, end=\" \")"
   ]
  },
  {
   "cell_type": "markdown",
   "metadata": {},
   "source": [
    "### tutorial"
   ]
  },
  {
   "cell_type": "code",
   "execution_count": 45,
   "metadata": {
    "ExecuteTime": {
     "end_time": "2020-07-11T06:29:28.071401Z",
     "start_time": "2020-07-11T06:29:28.066413Z"
    }
   },
   "outputs": [
    {
     "data": {
      "text/plain": [
       "array([[1, 2, 3],\n",
       "       [4, 5, 6]])"
      ]
     },
     "execution_count": 45,
     "metadata": {},
     "output_type": "execute_result"
    }
   ],
   "source": [
    "import numpy as np\n",
    "\n",
    "a=np.array([[1,2,3],[4,5,6]])\n",
    "a"
   ]
  },
  {
   "cell_type": "code",
   "execution_count": 46,
   "metadata": {
    "ExecuteTime": {
     "end_time": "2020-07-11T06:30:47.669266Z",
     "start_time": "2020-07-11T06:30:47.514657Z"
    }
   },
   "outputs": [
    {
     "name": "stdout",
     "output_type": "stream",
     "text": [
      "python list took:  120.67580223083496\n",
      "numpy took:  17.95196533203125\n"
     ]
    }
   ],
   "source": [
    "import numpy as np\n",
    "import time\n",
    "import sys\n",
    "SIZE = 1000000\n",
    "l1 = range(SIZE)\n",
    "l2 = range(SIZE)\n",
    "a1=np.arange(SIZE)\n",
    "a2=np.arange(SIZE)\n",
    "\n",
    "# python list\n",
    "start = time.time()\n",
    "result = [(x+y) for x,y in zip(l1,l2)]\n",
    "print(\"python list took: \",(time.time()-start)*1000)\n",
    "# numpy array\n",
    "start= time.time()\n",
    "result = a1 + a2\n",
    "print(\"numpy took: \", (time.time()-start)*1000)"
   ]
  },
  {
   "cell_type": "markdown",
   "metadata": {},
   "source": [
    "# Linear algebra with Numpy\n",
    "\n",
    "It is possible to do symbolic linear algebrea with [Sympy](http://www.sympy.org/en/index.html) but for numeric computations [Numpy](http://www.numpy.org/) is a high performance library that should be used. \n",
    "\n",
    "Here is how it is described: \n",
    "\n",
    "> NumPy is the fundamental package for scientific computing with Python. It contains among other things: [...]\n",
    " useful linear algebra, Fourier transform, and random number capabilities.\n",
    "\n",
    "In this section we will see how to:\n",
    "\n",
    "- Manipulate matrices;\n",
    "- Solve Matrix equations;\n",
    "- Calculate Matrix inverse and determinants.\n",
    "\n",
    "## Manipulating matrices\n",
    "\n",
    "It is straightforward to create a Matrix using Numpy. Let us consider the following as a examples:\n",
    "\n",
    "$$\n",
    "A = \\begin{pmatrix}\n",
    "5 & 6 & 2\\\\\n",
    "4 & 7 & 19\\\\\n",
    "0 & 3 & 12\n",
    "\\end{pmatrix}\n",
    "$$\n",
    "\n",
    "$$\n",
    "B = \\begin{pmatrix}\n",
    "14 & -2 & 12\\\\\n",
    "4 & 4 & 5\\\\\n",
    "5 & 5 & 1\n",
    "\\end{pmatrix}\n",
    "$$\n",
    "\n",
    "\n",
    "First, similarly to Sympy, we need to import Numpy:"
   ]
  },
  {
   "cell_type": "code",
   "execution_count": null,
   "metadata": {},
   "outputs": [],
   "source": [
    "import numpy as np"
   ]
  },
  {
   "cell_type": "markdown",
   "metadata": {},
   "source": [
    "Now we can define A:"
   ]
  },
  {
   "cell_type": "code",
   "execution_count": 47,
   "metadata": {
    "ExecuteTime": {
     "end_time": "2020-07-11T06:31:32.098936Z",
     "start_time": "2020-07-11T06:31:32.091955Z"
    }
   },
   "outputs": [
    {
     "data": {
      "text/plain": [
       "matrix([[ 5,  6,  2],\n",
       "        [ 4,  7, 19],\n",
       "        [ 0,  3, 12]])"
      ]
     },
     "execution_count": 47,
     "metadata": {},
     "output_type": "execute_result"
    }
   ],
   "source": [
    "A = np.matrix([[5, 6, 2],\n",
    "               [4, 7, 19],\n",
    "               [0, 3, 12]])\n",
    "A"
   ]
  },
  {
   "cell_type": "code",
   "execution_count": 48,
   "metadata": {
    "ExecuteTime": {
     "end_time": "2020-07-11T06:31:33.753175Z",
     "start_time": "2020-07-11T06:31:33.747189Z"
    }
   },
   "outputs": [
    {
     "data": {
      "text/plain": [
       "matrix([[14, -2, 12],\n",
       "        [ 4,  4,  5],\n",
       "        [ 5,  5,  1]])"
      ]
     },
     "execution_count": 48,
     "metadata": {},
     "output_type": "execute_result"
    }
   ],
   "source": [
    "B = np.matrix([[14, -2, 12],\n",
    "               [4, 4, 5],\n",
    "               [5, 5, 1]])\n",
    "B"
   ]
  },
  {
   "cell_type": "code",
   "execution_count": 58,
   "metadata": {
    "ExecuteTime": {
     "end_time": "2020-07-11T06:33:53.857107Z",
     "start_time": "2020-07-11T06:33:53.851127Z"
    }
   },
   "outputs": [
    {
     "name": "stdout",
     "output_type": "stream",
     "text": [
      "[[1 1 1 1 1]\n",
      " [1 1 1 1 1]\n",
      " [1 1 1 1 1]\n",
      " [1 1 1 1 1]\n",
      " [1 1 1 1 1]]\n",
      "[[1 1 1 1 1]\n",
      " [1 1 1 1 1]\n",
      " [1 1 1 1 1]\n",
      " [1 1 1 1 1]\n",
      " [1 1 1 1 1]]\n"
     ]
    }
   ],
   "source": [
    "c=np.ones((5,5), dtype=int)\n",
    "#print(c)\n",
    "d=np.matrix(c)\n",
    "print(d)"
   ]
  },
  {
   "cell_type": "markdown",
   "metadata": {},
   "source": [
    "We can obtain the following straightforwardly:\n",
    "\n",
    "- **5A** (or any other scalar multiple of **A**);\n",
    "- **A ^ 3** (or any other exponent of **A**);\n",
    "- **A + B**;\n",
    "- **A - B**;\n",
    "- **AB**"
   ]
  },
  {
   "cell_type": "code",
   "execution_count": 61,
   "metadata": {
    "ExecuteTime": {
     "end_time": "2020-07-11T06:34:35.458244Z",
     "start_time": "2020-07-11T06:34:35.454255Z"
    }
   },
   "outputs": [
    {
     "name": "stdout",
     "output_type": "stream",
     "text": [
      "[[25 30 10]\n",
      " [20 35 95]\n",
      " [ 0 15 60]]\n",
      "[[5 5 5 5 5]\n",
      " [5 5 5 5 5]\n",
      " [5 5 5 5 5]\n",
      " [5 5 5 5 5]\n",
      " [5 5 5 5 5]]\n"
     ]
    }
   ],
   "source": [
    "print(5 * A)\n",
    "print(5*d)"
   ]
  },
  {
   "cell_type": "code",
   "execution_count": 62,
   "metadata": {
    "ExecuteTime": {
     "end_time": "2020-07-11T06:34:46.168280Z",
     "start_time": "2020-07-11T06:34:46.163294Z"
    }
   },
   "outputs": [
    {
     "data": {
      "text/plain": [
       "matrix([[ 557, 1284, 3356],\n",
       "        [ 760, 2305, 6994],\n",
       "        [ 288, 1074, 3519]])"
      ]
     },
     "execution_count": 62,
     "metadata": {},
     "output_type": "execute_result"
    }
   ],
   "source": [
    "A ** 3"
   ]
  },
  {
   "cell_type": "code",
   "execution_count": null,
   "metadata": {},
   "outputs": [],
   "source": [
    "A + B"
   ]
  },
  {
   "cell_type": "code",
   "execution_count": null,
   "metadata": {},
   "outputs": [],
   "source": [
    "A - B"
   ]
  },
  {
   "cell_type": "code",
   "execution_count": 63,
   "metadata": {
    "ExecuteTime": {
     "end_time": "2020-07-11T06:34:50.043152Z",
     "start_time": "2020-07-11T06:34:50.038166Z"
    }
   },
   "outputs": [
    {
     "data": {
      "text/plain": [
       "matrix([[104,  24,  92],\n",
       "        [179, 115, 102],\n",
       "        [ 72,  72,  27]])"
      ]
     },
     "execution_count": 63,
     "metadata": {},
     "output_type": "execute_result"
    }
   ],
   "source": [
    "A * B"
   ]
  },
  {
   "cell_type": "markdown",
   "metadata": {},
   "source": [
    "---\n",
    "\n",
    "**EXERCISE** Compute $A ^ 2 - 2 A + 3$ with:\n",
    "\n",
    "$$A = \n",
    "\\begin{pmatrix}\n",
    "1 & -1\\\\\n",
    "2 & 1\n",
    "\\end{pmatrix}\n",
    "$$\n",
    "\n",
    "---\n",
    "\n",
    "## Solving Matrix equations\n",
    "\n",
    "We can use Numpy to (efficiently) solve large systems of equations of the form:\n",
    "\n",
    "$$Ax=b$$\n",
    "\n",
    "Let us illustrate that with:\n",
    "\n",
    "$$\n",
    "A = \\begin{pmatrix}\n",
    "5 & 6 & 2\\\\\n",
    "4 & 7 & 19\\\\\n",
    "0 & 3 & 12\n",
    "\\end{pmatrix}\n",
    "$$\n",
    "\n",
    "$$\n",
    "b = \\begin{pmatrix}\n",
    "-1\\\\\n",
    "2\\\\\n",
    "1 \n",
    "\\end{pmatrix}\n",
    "$$"
   ]
  },
  {
   "cell_type": "code",
   "execution_count": 64,
   "metadata": {
    "ExecuteTime": {
     "end_time": "2020-07-11T06:36:00.698876Z",
     "start_time": "2020-07-11T06:36:00.694884Z"
    }
   },
   "outputs": [],
   "source": [
    "A = np.matrix([[5, 6, 2],\n",
    "               [4, 7, 19],\n",
    "               [0, 3, 12]])\n",
    "b = np.matrix([[-1], [2], [1]])"
   ]
  },
  {
   "cell_type": "markdown",
   "metadata": {},
   "source": [
    "We use the `linalg.solve` command:"
   ]
  },
  {
   "cell_type": "code",
   "execution_count": 65,
   "metadata": {
    "ExecuteTime": {
     "end_time": "2020-07-11T06:36:09.297494Z",
     "start_time": "2020-07-11T06:36:09.051530Z"
    }
   },
   "outputs": [
    {
     "data": {
      "text/plain": [
       "matrix([[ 0.45736434],\n",
       "        [-0.62790698],\n",
       "        [ 0.24031008]])"
      ]
     },
     "execution_count": 65,
     "metadata": {},
     "output_type": "execute_result"
    }
   ],
   "source": [
    "x = np.linalg.solve(A, b)\n",
    "x"
   ]
  },
  {
   "cell_type": "markdown",
   "metadata": {},
   "source": [
    "We can verify our result:"
   ]
  },
  {
   "cell_type": "code",
   "execution_count": null,
   "metadata": {},
   "outputs": [],
   "source": [
    "A * x"
   ]
  },
  {
   "cell_type": "markdown",
   "metadata": {},
   "source": [
    "---\n",
    "\n",
    "**EXERCISE** Compute the solutions to the matrix equation $Bx=b$ (using the $B$ defined earlier).\n",
    "\n",
    "---\n",
    "\n",
    "## Matrix inversion and determinants\n",
    "\n",
    "Computing the inverse of a matrix is straightforward:"
   ]
  },
  {
   "cell_type": "code",
   "execution_count": 66,
   "metadata": {
    "ExecuteTime": {
     "end_time": "2020-07-11T06:38:55.870278Z",
     "start_time": "2020-07-11T06:38:55.861303Z"
    }
   },
   "outputs": [
    {
     "data": {
      "text/plain": [
       "matrix([[-0.20930233,  0.51162791, -0.7751938 ],\n",
       "        [ 0.37209302, -0.46511628,  0.6744186 ],\n",
       "        [-0.09302326,  0.11627907, -0.08527132]])"
      ]
     },
     "execution_count": 66,
     "metadata": {},
     "output_type": "execute_result"
    }
   ],
   "source": [
    "Ainv = np.linalg.inv(A)\n",
    "Ainv"
   ]
  },
  {
   "cell_type": "markdown",
   "metadata": {},
   "source": [
    "We can verify that $A^{-1}A=\\mathbb{1}$:"
   ]
  },
  {
   "cell_type": "code",
   "execution_count": 88,
   "metadata": {
    "ExecuteTime": {
     "end_time": "2020-07-11T06:52:39.990122Z",
     "start_time": "2020-07-11T06:52:39.971171Z"
    }
   },
   "outputs": [
    {
     "name": "stdout",
     "output_type": "stream",
     "text": [
      "[[ 1.00000000e+00  2.77555756e-17  3.05311332e-16]\n",
      " [-2.08166817e-16  1.00000000e+00 -2.08166817e-16]\n",
      " [ 5.55111512e-17 -5.55111512e-17  1.00000000e+00]]\n",
      "\n",
      "[[1.00000000e+00 2.77555756e-17 3.05311332e-16]]\n",
      "[[2.08166817e-16 1.00000000e+00 2.08166817e-16]]\n",
      "[[5.55111512e-17 5.55111512e-17 1.00000000e+00]]\n",
      "\n",
      "[[2. 1. 1.]]\n",
      "[[-0.  1. -0.]]\n",
      "[[ 1. -0.  1.]]\n",
      "\n",
      "[[1. 0. 0.]]\n",
      "[[-1.  1. -1.]]\n",
      "[[ 0. -1.  1.]]\n",
      "\n",
      "[[1. 0. 0.]]\n",
      "[[-0.  1. -0.]]\n",
      "[[ 0. -0.  1.]]\n",
      "\n",
      "<class 'numpy.matrix'>\n",
      "<class 'numpy.matrix'>\n",
      "<class 'numpy.matrix'>\n"
     ]
    }
   ],
   "source": [
    "print(A * Ainv)\n",
    "print()\n",
    "for row in A*Ainv:\n",
    "    for element in row:\n",
    "        print(abs(element))\n",
    "print()\n",
    "for row in A*Ainv:\n",
    "    for element in row:\n",
    "        print(np.ceil(element))\n",
    "print()\n",
    "for row in A*Ainv:\n",
    "    for element in row:\n",
    "        print(np.floor(element))\n",
    "print()\n",
    "for row in A*Ainv:\n",
    "    for element in row:\n",
    "        print(np.round(element,0))\n",
    "print()\n",
    "for row in A*Ainv:\n",
    "    for element in row:\n",
    "        print(type(element))"
   ]
  },
  {
   "cell_type": "markdown",
   "metadata": {},
   "source": [
    "The above might not look like the identity matrix but if you look closer you see that the diagonals are all `1` and the off diagonals are a **very** small number (which from a computer's point of view is `0`)."
   ]
  },
  {
   "cell_type": "markdown",
   "metadata": {},
   "source": [
    "To calculate the determinant:"
   ]
  },
  {
   "cell_type": "code",
   "execution_count": 82,
   "metadata": {
    "ExecuteTime": {
     "end_time": "2020-07-11T06:43:54.089491Z",
     "start_time": "2020-07-11T06:43:54.067581Z"
    }
   },
   "outputs": [
    {
     "data": {
      "text/plain": [
       "-128.99999999999997"
      ]
     },
     "execution_count": 82,
     "metadata": {},
     "output_type": "execute_result"
    }
   ],
   "source": [
    "np.linalg.det(A)"
   ]
  },
  {
   "cell_type": "markdown",
   "metadata": {},
   "source": [
    "---\n",
    "\n",
    "**EXERCISE** Compute the inverse and determinant of $B$ (defined previously).\n",
    "\n",
    "---\n",
    "\n",
    "## Summary\n",
    "\n",
    "In this section we have seen how to using Numpy:\n",
    "\n",
    "- Manipulate matrices;\n",
    "- Solve linear systems;\n",
    "- Compute Matrix inverses and determinants.\n",
    "\n",
    "This again just touches on the capabilities of Numpy.\n",
    "\n",
    "Let us take a look at [Pandas](03 - Data analysis with Pandas.ipynb) for data analysis."
   ]
  },
  {
   "cell_type": "markdown",
   "metadata": {},
   "source": [
    "## Source(s): \n",
    "* https://numpy.org/devdocs/user/quickstart.html\n",
    "* https://www.tutorialspoint.com/numpy/index.htm"
   ]
  }
 ],
 "metadata": {
  "kernelspec": {
   "display_name": "Python 3",
   "language": "python",
   "name": "python3"
  },
  "language_info": {
   "codemirror_mode": {
    "name": "ipython",
    "version": 3
   },
   "file_extension": ".py",
   "mimetype": "text/x-python",
   "name": "python",
   "nbconvert_exporter": "python",
   "pygments_lexer": "ipython3",
   "version": "3.7.6"
  },
  "latex_envs": {
   "LaTeX_envs_menu_present": true,
   "autoclose": false,
   "autocomplete": true,
   "bibliofile": "biblio.bib",
   "cite_by": "apalike",
   "current_citInitial": 1,
   "eqLabelWithNumbers": true,
   "eqNumInitial": 1,
   "hotkeys": {
    "equation": "Ctrl-E",
    "itemize": "Ctrl-I"
   },
   "labels_anchors": false,
   "latex_user_defs": false,
   "report_style_numbering": false,
   "user_envs_cfg": false
  },
  "toc": {
   "base_numbering": 1,
   "nav_menu": {},
   "number_sections": true,
   "sideBar": true,
   "skip_h1_title": false,
   "title_cell": "Table of Contents",
   "title_sidebar": "Contents",
   "toc_cell": false,
   "toc_position": {},
   "toc_section_display": true,
   "toc_window_display": false
  }
 },
 "nbformat": 4,
 "nbformat_minor": 2
}
