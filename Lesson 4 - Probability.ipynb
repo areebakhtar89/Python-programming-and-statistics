{
 "cells": [
  {
   "cell_type": "markdown",
   "metadata": {
    "hidden": true
   },
   "source": [
    "# Conditional Probability"
   ]
  },
  {
   "cell_type": "raw",
   "metadata": {},
   "source": [
    "company     model    rating   type\n",
    "\n",
    "0   ford       mustang     A      coupe\n",
    "\n",
    "1   chevy      camaro      B      coupe\n",
    "\n",
    "2   ford       fiesta      C      sedan\n",
    "\n",
    "3   ford       focus       A      sedan\n",
    "\n",
    "4   ford       taurus      B      sedan\n",
    "\n",
    "5   toyota     camry       B      sedan"
   ]
  },
  {
   "cell_type": "code",
   "execution_count": null,
   "metadata": {
    "ExecuteTime": {
     "end_time": "2020-08-15T17:39:22.017517Z",
     "start_time": "2020-08-15T17:39:01.326801Z"
    }
   },
   "outputs": [],
   "source": [
    "import pandas as pd"
   ]
  },
  {
   "cell_type": "code",
   "execution_count": null,
   "metadata": {
    "ExecuteTime": {
     "end_time": "2020-08-15T17:39:22.048766Z",
     "start_time": "2020-08-15T17:39:22.019248Z"
    },
    "hidden": true
   },
   "outputs": [],
   "source": [
    "# Create the dataframe\n",
    "df = pd.DataFrame({'company': ['ford', 'chevy', 'ford', 'ford', 'ford', 'toyota'],\n",
    "                     'model': ['mustang', 'camaro', 'fiesta', 'focus', 'taurus', 'camry'],\n",
    "                     'rating': ['A', 'B', 'C', 'A', 'B', 'B'],\n",
    "                     'type': ['coupe', 'coupe', 'sedan', 'sedan', 'sedan', 'sedan']})\n",
    "df"
   ]
  },
  {
   "cell_type": "code",
   "execution_count": null,
   "metadata": {
    "ExecuteTime": {
     "end_time": "2020-08-15T17:57:58.002496Z",
     "start_time": "2020-08-15T17:57:57.990529Z"
    },
    "hidden": true
   },
   "outputs": [],
   "source": [
    "#Find the probability of ratings A, B, C\n",
    "print(df.groupby('rating').count()['model'])\n",
    "print(\"-\"*40)\n",
    "print(df.groupby('rating').count()['model'] / len(df))"
   ]
  },
  {
   "cell_type": "markdown",
   "metadata": {
    "hidden": true
   },
   "source": [
    "Prob(rating=A) = 0.333333 \n",
    "\n",
    "Prob(rating=B) = 0.500000 \n",
    "\n",
    "Prob(rating=C) = 0.166667 "
   ]
  },
  {
   "cell_type": "code",
   "execution_count": null,
   "metadata": {
    "ExecuteTime": {
     "end_time": "2020-08-15T17:58:12.138049Z",
     "start_time": "2020-08-15T17:58:12.118061Z"
    },
    "hidden": true
   },
   "outputs": [],
   "source": [
    " (df.groupby(['rating', 'type']).count() / df.groupby('rating').count())['model']"
   ]
  },
  {
   "cell_type": "markdown",
   "metadata": {
    "hidden": true
   },
   "source": [
    "Prob(type=coupe|rating=A) = 0.500000 \n",
    "\n",
    "Prob(type=sedan|rating=A) = 0.500000 \n",
    "\n",
    "Prob(type=coupe|rating=B) = 0.333333 \n",
    "\n",
    "Prob(type=sedan|rating=B) = 0.666667 \n",
    "\n",
    "Prob(type=coupe|rating=C) = 0.000000 \n",
    "\n",
    "Prob(type=sedan|rating=C) = 1.000000 "
   ]
  },
  {
   "cell_type": "markdown",
   "metadata": {},
   "source": [
    "## Bayes Theorem"
   ]
  },
  {
   "cell_type": "code",
   "execution_count": null,
   "metadata": {
    "ExecuteTime": {
     "end_time": "2020-08-15T17:59:49.157024Z",
     "start_time": "2020-08-15T17:59:49.137462Z"
    }
   },
   "outputs": [],
   "source": [
    "# calculate P(A|B) given P(B|A), P(A) and P(B)\n",
    "def bayes_theorem(p_a, p_b, p_b_given_a):\n",
    "    # calculate P(A|B) = P(B|A) * P(A) / P(B)\n",
    "    p_a_given_b = (p_b_given_a * p_a) / p_b\n",
    "    return p_a_given_b"
   ]
  },
  {
   "cell_type": "markdown",
   "metadata": {},
   "source": [
    "Consider the case where an elderly person (over 80 years of age) falls; what is the probability that they will die from the fall?\n",
    "\n",
    "Let’s assume that the base rate of someone elderly dying P(A) is 10%, and the base rate for elderly people falling P(B) is 5%, and from all elderly people, 7% of those that die had a fall P(B|A).\n",
    "\n",
    "Let’s plug what we know into the theorem:\n",
    "\n",
    "P(A|B) = P(B|A) * P(A) / P(B)\n",
    "P(Die|Fall) = P(Fall|Die) * P(Die) / P(Fall)\n",
    "or\n",
    "\n",
    "P(Die|Fall) = 0.07 * 0.10 / 0.05\n",
    "P(Die|Fall) = 0.14\n",
    "That is, if an elderly person falls, then there is a 14 percent probability that they will die from the fall."
   ]
  },
  {
   "cell_type": "code",
   "execution_count": null,
   "metadata": {
    "ExecuteTime": {
     "end_time": "2020-08-15T17:59:54.924378Z",
     "start_time": "2020-08-15T17:59:54.914405Z"
    }
   },
   "outputs": [],
   "source": [
    "# P(A)\n",
    "p_a = 0.1\n",
    "\n",
    "# P(B)\n",
    "p_b = 0.05\n",
    "\n",
    "# P(B|A)\n",
    "p_b_given_a = 0.07\n",
    "\n",
    "# calculate P(A|B)\n",
    "result = bayes_theorem(p_a, p_b, p_b_given_a)\n",
    "\n",
    "# summarize\n",
    "print('P(A|B) = %.3f%%' % (result * 100))"
   ]
  },
  {
   "cell_type": "markdown",
   "metadata": {},
   "source": [
    "# Probability Distribution"
   ]
  },
  {
   "cell_type": "markdown",
   "metadata": {
    "heading_collapsed": true
   },
   "source": [
    "## Uniform Distribution"
   ]
  },
  {
   "cell_type": "code",
   "execution_count": null,
   "metadata": {},
   "outputs": [],
   "source": [
    "%config IPCompleter.greedy=True"
   ]
  },
  {
   "cell_type": "code",
   "execution_count": null,
   "metadata": {
    "ExecuteTime": {
     "end_time": "2020-08-15T18:08:34.701696Z",
     "start_time": "2020-08-15T18:08:34.691731Z"
    },
    "hidden": true
   },
   "outputs": [],
   "source": [
    "# import matplotlib\n",
    "import matplotlib.pyplot as plt\n",
    "# for inline plots in jupyter\n",
    "%matplotlib inline\n",
    "plt.rcParams[\"figure.figsize\"] = (17,7)\n",
    "\n",
    "# import seaborn\n",
    "import seaborn as sns\n",
    "\n",
    "# import uniform distribution\n",
    "from scipy.stats import uniform"
   ]
  },
  {
   "cell_type": "code",
   "execution_count": null,
   "metadata": {
    "ExecuteTime": {
     "end_time": "2020-08-15T18:08:35.269328Z",
     "start_time": "2020-08-15T18:08:34.989071Z"
    },
    "hidden": true
   },
   "outputs": [],
   "source": [
    "# random numbers from uniform distribution\n",
    "n = 1000\n",
    "start = 10\n",
    "width = 20\n",
    "uniform_data = uniform.rvs(size=n, loc = start, scale=width)\n",
    "\n",
    "ax = sns.distplot(uniform_data,\n",
    "                  bins=100,\n",
    "                  kde=True,\n",
    "                  color='blue',\n",
    "                  hist_kws={\"linewidth\": 10,'alpha':1})\n",
    "ax.set(xlabel='Uniform Distribution ', ylabel='Frequency')\n",
    "\n",
    "# NEXT: Show how the plot changes by varying parameters (start, width)\n",
    "# Encourage students to read help on these functions"
   ]
  },
  {
   "cell_type": "markdown",
   "metadata": {
    "heading_collapsed": true
   },
   "source": [
    "## Poisson Distribution"
   ]
  },
  {
   "cell_type": "code",
   "execution_count": null,
   "metadata": {
    "ExecuteTime": {
     "end_time": "2020-08-15T18:08:49.928303Z",
     "start_time": "2020-08-15T18:08:49.751788Z"
    },
    "hidden": true
   },
   "outputs": [],
   "source": [
    "from scipy.stats import poisson\n",
    "poisson_data = poisson.rvs(mu=3, size=1000)\n",
    "\n",
    "ax = sns.distplot(poisson_data,\n",
    "                  bins=30,\n",
    "                  kde=False,\n",
    "                  color='red',\n",
    "                  hist_kws={\"linewidth\": 10,'alpha':1})\n",
    "ax.set(xlabel='Poisson Distribution', ylabel='Frequency')\n",
    "\n",
    "# NEXT: Show how the plot changes by varying parameters (mu) of the poisson_data\n",
    "# Encourage students to read help on these functions"
   ]
  },
  {
   "cell_type": "markdown",
   "metadata": {
    "heading_collapsed": true
   },
   "source": [
    "## Binomial Distribution"
   ]
  },
  {
   "cell_type": "code",
   "execution_count": null,
   "metadata": {
    "ExecuteTime": {
     "end_time": "2020-08-15T18:09:13.237340Z",
     "start_time": "2020-08-15T18:09:13.047234Z"
    },
    "hidden": true
   },
   "outputs": [],
   "source": [
    "from scipy.stats import binom\n",
    "binom_data = binom.rvs(n=10,p=0.8,size=1000)\n",
    "\n",
    "ax = sns.distplot(binom_data,\n",
    "                  kde=False,\n",
    "                  color='grey',\n",
    "                  hist_kws={\"linewidth\": 10,'alpha':1})\n",
    "ax.set(xlabel='Binomial Distribution', ylabel='Frequency')\n",
    "\n",
    "# NEXT: Show how the plot changes by varying parameters (n, p)\n",
    "# Encourage students to read help on these functions"
   ]
  },
  {
   "cell_type": "markdown",
   "metadata": {
    "heading_collapsed": true
   },
   "source": [
    "## Normal Distribution"
   ]
  },
  {
   "cell_type": "code",
   "execution_count": null,
   "metadata": {
    "ExecuteTime": {
     "end_time": "2020-08-15T18:09:18.480609Z",
     "start_time": "2020-08-15T18:09:18.161348Z"
    },
    "hidden": true
   },
   "outputs": [],
   "source": [
    "from scipy.stats import norm\n",
    "# generate random numbers from N(0,1)\n",
    "normal_data = norm.rvs(size=1000,loc=0,scale=1)\n",
    "\n",
    "ax = sns.distplot(normal_data,\n",
    "                  bins=100,\n",
    "                  kde=True,\n",
    "                  color='green',\n",
    "                  hist_kws={\"linewidth\": 10,'alpha':1})\n",
    "ax.set(xlabel='Normal Distribution', ylabel='Frequency')\n",
    "\n",
    "# NEXT: Show how the plot changes by varying parameters\n",
    "# Encourage students to read help on these functions"
   ]
  },
  {
   "cell_type": "code",
   "execution_count": null,
   "metadata": {},
   "outputs": [],
   "source": []
  }
 ],
 "metadata": {
  "kernelspec": {
   "display_name": "Python 3",
   "language": "python",
   "name": "python3"
  },
  "language_info": {
   "codemirror_mode": {
    "name": "ipython",
    "version": 3
   },
   "file_extension": ".py",
   "mimetype": "text/x-python",
   "name": "python",
   "nbconvert_exporter": "python",
   "pygments_lexer": "ipython3",
   "version": "3.7.4"
  },
  "latex_envs": {
   "LaTeX_envs_menu_present": true,
   "autoclose": false,
   "autocomplete": true,
   "bibliofile": "biblio.bib",
   "cite_by": "apalike",
   "current_citInitial": 1,
   "eqLabelWithNumbers": true,
   "eqNumInitial": 1,
   "hotkeys": {
    "equation": "Ctrl-E",
    "itemize": "Ctrl-I"
   },
   "labels_anchors": false,
   "latex_user_defs": false,
   "report_style_numbering": false,
   "user_envs_cfg": false
  },
  "toc": {
   "base_numbering": 1,
   "nav_menu": {},
   "number_sections": true,
   "sideBar": true,
   "skip_h1_title": false,
   "title_cell": "Table of Contents",
   "title_sidebar": "Contents",
   "toc_cell": false,
   "toc_position": {},
   "toc_section_display": true,
   "toc_window_display": false
  }
 },
 "nbformat": 4,
 "nbformat_minor": 2
}
