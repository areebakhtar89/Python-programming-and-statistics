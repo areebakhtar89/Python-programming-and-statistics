{
 "cells": [
  {
   "cell_type": "markdown",
   "metadata": {},
   "source": [
    "# Descriptive Statistics"
   ]
  },
  {
   "cell_type": "code",
   "execution_count": 1,
   "metadata": {
    "ExecuteTime": {
     "end_time": "2020-08-23T10:25:31.001282Z",
     "start_time": "2020-08-23T10:25:20.809513Z"
    }
   },
   "outputs": [],
   "source": [
    "import pandas as pd"
   ]
  },
  {
   "cell_type": "code",
   "execution_count": 2,
   "metadata": {
    "ExecuteTime": {
     "end_time": "2020-08-23T10:25:33.103213Z",
     "start_time": "2020-08-23T10:25:33.036360Z"
    }
   },
   "outputs": [],
   "source": [
    "data = pd.read_csv(\"Salary_data.csv\")"
   ]
  },
  {
   "cell_type": "code",
   "execution_count": 3,
   "metadata": {
    "ExecuteTime": {
     "end_time": "2020-08-23T10:25:36.878325Z",
     "start_time": "2020-08-23T10:25:36.818351Z"
    }
   },
   "outputs": [
    {
     "data": {
      "text/html": [
       "<div>\n",
       "<style scoped>\n",
       "    .dataframe tbody tr th:only-of-type {\n",
       "        vertical-align: middle;\n",
       "    }\n",
       "\n",
       "    .dataframe tbody tr th {\n",
       "        vertical-align: top;\n",
       "    }\n",
       "\n",
       "    .dataframe thead th {\n",
       "        text-align: right;\n",
       "    }\n",
       "</style>\n",
       "<table border=\"1\" class=\"dataframe\">\n",
       "  <thead>\n",
       "    <tr style=\"text-align: right;\">\n",
       "      <th></th>\n",
       "      <th>YearsExperience</th>\n",
       "      <th>Salary</th>\n",
       "      <th>Department</th>\n",
       "    </tr>\n",
       "  </thead>\n",
       "  <tbody>\n",
       "    <tr>\n",
       "      <th>0</th>\n",
       "      <td>1.1</td>\n",
       "      <td>39343</td>\n",
       "      <td>Admin</td>\n",
       "    </tr>\n",
       "    <tr>\n",
       "      <th>1</th>\n",
       "      <td>1.3</td>\n",
       "      <td>46205</td>\n",
       "      <td>HR</td>\n",
       "    </tr>\n",
       "    <tr>\n",
       "      <th>2</th>\n",
       "      <td>1.5</td>\n",
       "      <td>37731</td>\n",
       "      <td>IT</td>\n",
       "    </tr>\n",
       "    <tr>\n",
       "      <th>3</th>\n",
       "      <td>2.0</td>\n",
       "      <td>43525</td>\n",
       "      <td>Admin</td>\n",
       "    </tr>\n",
       "    <tr>\n",
       "      <th>4</th>\n",
       "      <td>2.2</td>\n",
       "      <td>39891</td>\n",
       "      <td>Admin</td>\n",
       "    </tr>\n",
       "    <tr>\n",
       "      <th>5</th>\n",
       "      <td>2.9</td>\n",
       "      <td>56642</td>\n",
       "      <td>Admin</td>\n",
       "    </tr>\n",
       "    <tr>\n",
       "      <th>6</th>\n",
       "      <td>3.0</td>\n",
       "      <td>60150</td>\n",
       "      <td>Admin</td>\n",
       "    </tr>\n",
       "    <tr>\n",
       "      <th>7</th>\n",
       "      <td>3.2</td>\n",
       "      <td>54445</td>\n",
       "      <td>Admin</td>\n",
       "    </tr>\n",
       "    <tr>\n",
       "      <th>8</th>\n",
       "      <td>3.2</td>\n",
       "      <td>64445</td>\n",
       "      <td>HR</td>\n",
       "    </tr>\n",
       "    <tr>\n",
       "      <th>9</th>\n",
       "      <td>3.7</td>\n",
       "      <td>57189</td>\n",
       "      <td>HR</td>\n",
       "    </tr>\n",
       "    <tr>\n",
       "      <th>10</th>\n",
       "      <td>3.9</td>\n",
       "      <td>63218</td>\n",
       "      <td>HR</td>\n",
       "    </tr>\n",
       "    <tr>\n",
       "      <th>11</th>\n",
       "      <td>4.0</td>\n",
       "      <td>55794</td>\n",
       "      <td>IT</td>\n",
       "    </tr>\n",
       "    <tr>\n",
       "      <th>12</th>\n",
       "      <td>4.0</td>\n",
       "      <td>56957</td>\n",
       "      <td>IT</td>\n",
       "    </tr>\n",
       "    <tr>\n",
       "      <th>13</th>\n",
       "      <td>4.1</td>\n",
       "      <td>57081</td>\n",
       "      <td>Admin</td>\n",
       "    </tr>\n",
       "    <tr>\n",
       "      <th>14</th>\n",
       "      <td>4.5</td>\n",
       "      <td>61111</td>\n",
       "      <td>IT</td>\n",
       "    </tr>\n",
       "    <tr>\n",
       "      <th>15</th>\n",
       "      <td>4.9</td>\n",
       "      <td>67938</td>\n",
       "      <td>Admin</td>\n",
       "    </tr>\n",
       "    <tr>\n",
       "      <th>16</th>\n",
       "      <td>5.1</td>\n",
       "      <td>66029</td>\n",
       "      <td>Admin</td>\n",
       "    </tr>\n",
       "    <tr>\n",
       "      <th>17</th>\n",
       "      <td>5.3</td>\n",
       "      <td>83088</td>\n",
       "      <td>Admin</td>\n",
       "    </tr>\n",
       "    <tr>\n",
       "      <th>18</th>\n",
       "      <td>5.9</td>\n",
       "      <td>81363</td>\n",
       "      <td>IT</td>\n",
       "    </tr>\n",
       "    <tr>\n",
       "      <th>19</th>\n",
       "      <td>6.0</td>\n",
       "      <td>93940</td>\n",
       "      <td>HR</td>\n",
       "    </tr>\n",
       "    <tr>\n",
       "      <th>20</th>\n",
       "      <td>6.8</td>\n",
       "      <td>91738</td>\n",
       "      <td>HR</td>\n",
       "    </tr>\n",
       "    <tr>\n",
       "      <th>21</th>\n",
       "      <td>7.1</td>\n",
       "      <td>98273</td>\n",
       "      <td>Admin</td>\n",
       "    </tr>\n",
       "    <tr>\n",
       "      <th>22</th>\n",
       "      <td>7.9</td>\n",
       "      <td>101302</td>\n",
       "      <td>HR</td>\n",
       "    </tr>\n",
       "    <tr>\n",
       "      <th>23</th>\n",
       "      <td>8.2</td>\n",
       "      <td>113812</td>\n",
       "      <td>IT</td>\n",
       "    </tr>\n",
       "    <tr>\n",
       "      <th>24</th>\n",
       "      <td>8.7</td>\n",
       "      <td>109431</td>\n",
       "      <td>IT</td>\n",
       "    </tr>\n",
       "    <tr>\n",
       "      <th>25</th>\n",
       "      <td>9.0</td>\n",
       "      <td>105582</td>\n",
       "      <td>HR</td>\n",
       "    </tr>\n",
       "    <tr>\n",
       "      <th>26</th>\n",
       "      <td>9.5</td>\n",
       "      <td>116969</td>\n",
       "      <td>HR</td>\n",
       "    </tr>\n",
       "    <tr>\n",
       "      <th>27</th>\n",
       "      <td>9.6</td>\n",
       "      <td>112635</td>\n",
       "      <td>Admin</td>\n",
       "    </tr>\n",
       "    <tr>\n",
       "      <th>28</th>\n",
       "      <td>10.3</td>\n",
       "      <td>122391</td>\n",
       "      <td>HR</td>\n",
       "    </tr>\n",
       "    <tr>\n",
       "      <th>29</th>\n",
       "      <td>10.5</td>\n",
       "      <td>121872</td>\n",
       "      <td>IT</td>\n",
       "    </tr>\n",
       "  </tbody>\n",
       "</table>\n",
       "</div>"
      ],
      "text/plain": [
       "    YearsExperience  Salary Department\n",
       "0               1.1   39343      Admin\n",
       "1               1.3   46205         HR\n",
       "2               1.5   37731         IT\n",
       "3               2.0   43525      Admin\n",
       "4               2.2   39891      Admin\n",
       "5               2.9   56642      Admin\n",
       "6               3.0   60150      Admin\n",
       "7               3.2   54445      Admin\n",
       "8               3.2   64445         HR\n",
       "9               3.7   57189         HR\n",
       "10              3.9   63218         HR\n",
       "11              4.0   55794         IT\n",
       "12              4.0   56957         IT\n",
       "13              4.1   57081      Admin\n",
       "14              4.5   61111         IT\n",
       "15              4.9   67938      Admin\n",
       "16              5.1   66029      Admin\n",
       "17              5.3   83088      Admin\n",
       "18              5.9   81363         IT\n",
       "19              6.0   93940         HR\n",
       "20              6.8   91738         HR\n",
       "21              7.1   98273      Admin\n",
       "22              7.9  101302         HR\n",
       "23              8.2  113812         IT\n",
       "24              8.7  109431         IT\n",
       "25              9.0  105582         HR\n",
       "26              9.5  116969         HR\n",
       "27              9.6  112635      Admin\n",
       "28             10.3  122391         HR\n",
       "29             10.5  121872         IT"
      ]
     },
     "execution_count": 3,
     "metadata": {},
     "output_type": "execute_result"
    }
   ],
   "source": [
    "data"
   ]
  },
  {
   "cell_type": "code",
   "execution_count": 4,
   "metadata": {
    "ExecuteTime": {
     "end_time": "2020-08-23T10:25:43.940874Z",
     "start_time": "2020-08-23T10:25:43.681567Z"
    }
   },
   "outputs": [
    {
     "data": {
      "text/html": [
       "<div>\n",
       "<style scoped>\n",
       "    .dataframe tbody tr th:only-of-type {\n",
       "        vertical-align: middle;\n",
       "    }\n",
       "\n",
       "    .dataframe tbody tr th {\n",
       "        vertical-align: top;\n",
       "    }\n",
       "\n",
       "    .dataframe thead th {\n",
       "        text-align: right;\n",
       "    }\n",
       "</style>\n",
       "<table border=\"1\" class=\"dataframe\">\n",
       "  <thead>\n",
       "    <tr style=\"text-align: right;\">\n",
       "      <th></th>\n",
       "      <th>YearsExperience</th>\n",
       "      <th>Salary</th>\n",
       "      <th>Department</th>\n",
       "    </tr>\n",
       "  </thead>\n",
       "  <tbody>\n",
       "    <tr>\n",
       "      <th>count</th>\n",
       "      <td>30.000000</td>\n",
       "      <td>30.000000</td>\n",
       "      <td>30</td>\n",
       "    </tr>\n",
       "    <tr>\n",
       "      <th>unique</th>\n",
       "      <td>NaN</td>\n",
       "      <td>NaN</td>\n",
       "      <td>3</td>\n",
       "    </tr>\n",
       "    <tr>\n",
       "      <th>top</th>\n",
       "      <td>NaN</td>\n",
       "      <td>NaN</td>\n",
       "      <td>Admin</td>\n",
       "    </tr>\n",
       "    <tr>\n",
       "      <th>freq</th>\n",
       "      <td>NaN</td>\n",
       "      <td>NaN</td>\n",
       "      <td>12</td>\n",
       "    </tr>\n",
       "    <tr>\n",
       "      <th>mean</th>\n",
       "      <td>5.313333</td>\n",
       "      <td>76003.000000</td>\n",
       "      <td>NaN</td>\n",
       "    </tr>\n",
       "    <tr>\n",
       "      <th>std</th>\n",
       "      <td>2.837888</td>\n",
       "      <td>27414.429785</td>\n",
       "      <td>NaN</td>\n",
       "    </tr>\n",
       "    <tr>\n",
       "      <th>min</th>\n",
       "      <td>1.100000</td>\n",
       "      <td>37731.000000</td>\n",
       "      <td>NaN</td>\n",
       "    </tr>\n",
       "    <tr>\n",
       "      <th>25%</th>\n",
       "      <td>3.200000</td>\n",
       "      <td>56720.750000</td>\n",
       "      <td>NaN</td>\n",
       "    </tr>\n",
       "    <tr>\n",
       "      <th>50%</th>\n",
       "      <td>4.700000</td>\n",
       "      <td>65237.000000</td>\n",
       "      <td>NaN</td>\n",
       "    </tr>\n",
       "    <tr>\n",
       "      <th>75%</th>\n",
       "      <td>7.700000</td>\n",
       "      <td>100544.750000</td>\n",
       "      <td>NaN</td>\n",
       "    </tr>\n",
       "    <tr>\n",
       "      <th>max</th>\n",
       "      <td>10.500000</td>\n",
       "      <td>122391.000000</td>\n",
       "      <td>NaN</td>\n",
       "    </tr>\n",
       "  </tbody>\n",
       "</table>\n",
       "</div>"
      ],
      "text/plain": [
       "        YearsExperience         Salary Department\n",
       "count         30.000000      30.000000         30\n",
       "unique              NaN            NaN          3\n",
       "top                 NaN            NaN      Admin\n",
       "freq                NaN            NaN         12\n",
       "mean           5.313333   76003.000000        NaN\n",
       "std            2.837888   27414.429785        NaN\n",
       "min            1.100000   37731.000000        NaN\n",
       "25%            3.200000   56720.750000        NaN\n",
       "50%            4.700000   65237.000000        NaN\n",
       "75%            7.700000  100544.750000        NaN\n",
       "max           10.500000  122391.000000        NaN"
      ]
     },
     "execution_count": 4,
     "metadata": {},
     "output_type": "execute_result"
    }
   ],
   "source": [
    "data.describe(include='all')"
   ]
  },
  {
   "cell_type": "code",
   "execution_count": 5,
   "metadata": {
    "ExecuteTime": {
     "end_time": "2020-08-23T10:25:53.124332Z",
     "start_time": "2020-08-23T10:25:53.117349Z"
    }
   },
   "outputs": [
    {
     "data": {
      "text/plain": [
       "65237.0"
      ]
     },
     "execution_count": 5,
     "metadata": {},
     "output_type": "execute_result"
    }
   ],
   "source": [
    "data.Salary.median()"
   ]
  },
  {
   "cell_type": "code",
   "execution_count": 6,
   "metadata": {
    "ExecuteTime": {
     "end_time": "2020-08-23T10:25:54.819255Z",
     "start_time": "2020-08-23T10:25:54.810277Z"
    }
   },
   "outputs": [
    {
     "data": {
      "text/plain": [
       "Admin    12\n",
       "HR       10\n",
       "IT        8\n",
       "Name: Department, dtype: int64"
      ]
     },
     "execution_count": 6,
     "metadata": {},
     "output_type": "execute_result"
    }
   ],
   "source": [
    "data.Department.value_counts()"
   ]
  },
  {
   "cell_type": "code",
   "execution_count": 7,
   "metadata": {
    "ExecuteTime": {
     "end_time": "2020-08-23T10:25:56.723138Z",
     "start_time": "2020-08-23T10:25:56.709184Z"
    }
   },
   "outputs": [
    {
     "data": {
      "text/plain": [
       "0.25     56720.75\n",
       "0.50     65237.00\n",
       "0.75    100544.75\n",
       "Name: Salary, dtype: float64"
      ]
     },
     "execution_count": 7,
     "metadata": {},
     "output_type": "execute_result"
    }
   ],
   "source": [
    "data.Salary.quantile([0.25,0.5,0.75])"
   ]
  },
  {
   "cell_type": "code",
   "execution_count": null,
   "metadata": {
    "ExecuteTime": {
     "end_time": "2020-08-22T09:42:11.992718Z",
     "start_time": "2020-08-22T09:42:11.981918Z"
    }
   },
   "outputs": [],
   "source": [
    "# You are encouraged to do the above computations manually and validate your answers with these values"
   ]
  },
  {
   "cell_type": "markdown",
   "metadata": {},
   "source": [
    "# Central Limit Theorem"
   ]
  },
  {
   "cell_type": "code",
   "execution_count": 8,
   "metadata": {
    "ExecuteTime": {
     "end_time": "2020-08-23T10:26:09.050536Z",
     "start_time": "2020-08-23T10:26:09.025604Z"
    }
   },
   "outputs": [],
   "source": [
    "wall_data = pd.read_csv(\"Clt-data.csv\")"
   ]
  },
  {
   "cell_type": "code",
   "execution_count": 9,
   "metadata": {
    "ExecuteTime": {
     "end_time": "2020-08-23T10:26:10.627580Z",
     "start_time": "2020-08-23T10:26:10.608634Z"
    }
   },
   "outputs": [
    {
     "data": {
      "text/html": [
       "<div>\n",
       "<style scoped>\n",
       "    .dataframe tbody tr th:only-of-type {\n",
       "        vertical-align: middle;\n",
       "    }\n",
       "\n",
       "    .dataframe tbody tr th {\n",
       "        vertical-align: top;\n",
       "    }\n",
       "\n",
       "    .dataframe thead th {\n",
       "        text-align: right;\n",
       "    }\n",
       "</style>\n",
       "<table border=\"1\" class=\"dataframe\">\n",
       "  <thead>\n",
       "    <tr style=\"text-align: right;\">\n",
       "      <th></th>\n",
       "      <th>Wall Thickness</th>\n",
       "    </tr>\n",
       "  </thead>\n",
       "  <tbody>\n",
       "    <tr>\n",
       "      <th>0</th>\n",
       "      <td>12.354875</td>\n",
       "    </tr>\n",
       "    <tr>\n",
       "      <th>1</th>\n",
       "      <td>12.617417</td>\n",
       "    </tr>\n",
       "    <tr>\n",
       "      <th>2</th>\n",
       "      <td>12.369719</td>\n",
       "    </tr>\n",
       "    <tr>\n",
       "      <th>3</th>\n",
       "      <td>13.223345</td>\n",
       "    </tr>\n",
       "    <tr>\n",
       "      <th>4</th>\n",
       "      <td>13.159193</td>\n",
       "    </tr>\n",
       "  </tbody>\n",
       "</table>\n",
       "</div>"
      ],
      "text/plain": [
       "   Wall Thickness\n",
       "0       12.354875\n",
       "1       12.617417\n",
       "2       12.369719\n",
       "3       13.223345\n",
       "4       13.159193"
      ]
     },
     "execution_count": 9,
     "metadata": {},
     "output_type": "execute_result"
    }
   ],
   "source": [
    "wall_data.head()"
   ]
  },
  {
   "cell_type": "code",
   "execution_count": 10,
   "metadata": {
    "ExecuteTime": {
     "end_time": "2020-08-23T10:26:15.823405Z",
     "start_time": "2020-08-23T10:26:15.819387Z"
    }
   },
   "outputs": [
    {
     "data": {
      "text/plain": [
       "(9000, 1)"
      ]
     },
     "execution_count": 10,
     "metadata": {},
     "output_type": "execute_result"
    }
   ],
   "source": [
    "wall_data.shape"
   ]
  },
  {
   "cell_type": "code",
   "execution_count": 11,
   "metadata": {
    "ExecuteTime": {
     "end_time": "2020-08-23T10:26:29.714392Z",
     "start_time": "2020-08-23T10:26:29.707374Z"
    }
   },
   "outputs": [
    {
     "data": {
      "text/plain": [
       "12.802049245535596"
      ]
     },
     "execution_count": 11,
     "metadata": {},
     "output_type": "execute_result"
    }
   ],
   "source": [
    "wall_data[\"Wall Thickness\"].mean()"
   ]
  },
  {
   "cell_type": "code",
   "execution_count": 12,
   "metadata": {
    "ExecuteTime": {
     "end_time": "2020-08-23T10:26:36.219210Z",
     "start_time": "2020-08-23T10:26:33.633078Z"
    }
   },
   "outputs": [],
   "source": [
    "from matplotlib import pyplot as plt\n",
    "plt.rcParams[\"figure.figsize\"] = (17,7)\n",
    "#%matplotlib inline"
   ]
  },
  {
   "cell_type": "code",
   "execution_count": 15,
   "metadata": {
    "ExecuteTime": {
     "end_time": "2020-08-23T10:27:10.053036Z",
     "start_time": "2020-08-23T10:27:09.887480Z"
    }
   },
   "outputs": [
    {
     "data": {
      "text/plain": [
       "(array([900., 894., 879., 941., 850., 903., 915., 912., 864., 942.]),\n",
       " array([12.30028106, 12.40025272, 12.50022438, 12.60019604, 12.7001677 ,\n",
       "        12.80013935, 12.90011101, 13.00008267, 13.10005433, 13.20002599,\n",
       "        13.29999765]),\n",
       " <a list of 10 Patch objects>)"
      ]
     },
     "execution_count": 15,
     "metadata": {},
     "output_type": "execute_result"
    },
    {
     "data": {
      "image/png": "[encoded data removed]",
      "text/plain": [
       "<Figure size 1224x504 with 1 Axes>"
      ]
     },
     "metadata": {
      "needs_background": "light"
     },
     "output_type": "display_data"
    }
   ],
   "source": [
    "plt.hist(wall_data[\"Wall Thickness\"])"
   ]
  },
  {
   "cell_type": "code",
   "execution_count": 16,
   "metadata": {
    "ExecuteTime": {
     "end_time": "2020-08-23T10:27:15.120193Z",
     "start_time": "2020-08-23T10:27:15.116206Z"
    }
   },
   "outputs": [],
   "source": [
    "import numpy as np"
   ]
  },
  {
   "cell_type": "code",
   "execution_count": 25,
   "metadata": {
    "ExecuteTime": {
     "end_time": "2020-08-23T10:34:26.264549Z",
     "start_time": "2020-08-23T10:34:23.992910Z"
    }
   },
   "outputs": [
    {
     "name": "stdout",
     "output_type": "stream",
     "text": [
      "5000\n"
     ]
    },
    {
     "data": {
      "text/plain": [
       "(array([  24.,   96.,  335.,  831., 1221., 1200.,  809.,  368.,  100.,\n",
       "          16.]),\n",
       " array([12.49582083, 12.55695529, 12.61808975, 12.67922421, 12.74035867,\n",
       "        12.80149313, 12.86262758, 12.92376204, 12.9848965 , 13.04603096,\n",
       "        13.10716542]),\n",
       " <a list of 10 Patch objects>)"
      ]
     },
     "execution_count": 25,
     "metadata": {},
     "output_type": "execute_result"
    },
    {
     "data": {
      "image/png": "[encoded data removed]",
      "text/plain": [
       "<Figure size 1224x504 with 1 Axes>"
      ]
     },
     "metadata": {
      "needs_background": "light"
     },
     "output_type": "display_data"
    }
   ],
   "source": [
    "# Lets take 5000 samples, with sample size = 10\n",
    "count=0\n",
    "sampleMeans10 = []\n",
    "for _ in range(5000):\n",
    "    samples = wall_data['Wall Thickness'].sample(n=10)\n",
    "#     print(samples)\n",
    "#     count=count+1\n",
    "    sampleMean = np.mean(samples)\n",
    "    sampleMeans10.append(sampleMean)\n",
    "print(len(sampleMeans10))\n",
    "# Now plot list of sample means. It should be normally distributed\n",
    "plt.hist(sampleMeans10)"
   ]
  },
  {
   "cell_type": "code",
   "execution_count": 26,
   "metadata": {
    "ExecuteTime": {
     "end_time": "2020-08-23T10:34:57.580126Z",
     "start_time": "2020-08-23T10:34:55.309555Z"
    }
   },
   "outputs": [
    {
     "data": {
      "text/plain": [
       "(array([   8.,   51.,  233.,  742., 1344., 1387.,  830.,  326.,   72.,\n",
       "           7.]),\n",
       " array([12.64557546, 12.67629842, 12.70702137, 12.73774433, 12.76846728,\n",
       "        12.79919024, 12.82991319, 12.86063615, 12.8913591 , 12.92208206,\n",
       "        12.95280501]),\n",
       " <a list of 10 Patch objects>)"
      ]
     },
     "execution_count": 26,
     "metadata": {},
     "output_type": "execute_result"
    },
    {
     "data": {
      "image/png": "[encoded data removed]",
      "text/plain": [
       "<Figure size 1224x504 with 1 Axes>"
      ]
     },
     "metadata": {
      "needs_background": "light"
     },
     "output_type": "display_data"
    }
   ],
   "source": [
    "# Lets take 5000 samples, with sample size = 50\n",
    "\n",
    "sampleMeans50 = []\n",
    "for _ in range(5000):\n",
    "    samples = wall_data['Wall Thickness'].sample(n=50)\n",
    "    sampleMean = np.mean(samples)\n",
    "    sampleMeans50.append(sampleMean)\n",
    "\n",
    "# Now plot list of sample means. It should be normally distributed\n",
    "plt.hist(sampleMeans50)"
   ]
  },
  {
   "cell_type": "code",
   "execution_count": 27,
   "metadata": {
    "ExecuteTime": {
     "end_time": "2020-08-23T10:35:06.340950Z",
     "start_time": "2020-08-23T10:35:03.996227Z"
    }
   },
   "outputs": [
    {
     "data": {
      "text/plain": [
       "(array([  13.,   76.,  315.,  852., 1317., 1311.,  743.,  292.,   67.,\n",
       "          14.]),\n",
       " array([12.70078833, 12.7212991 , 12.74180987, 12.76232063, 12.7828314 ,\n",
       "        12.80334216, 12.82385293, 12.8443637 , 12.86487446, 12.88538523,\n",
       "        12.90589599]),\n",
       " <a list of 10 Patch objects>)"
      ]
     },
     "execution_count": 27,
     "metadata": {},
     "output_type": "execute_result"
    },
    {
     "data": {
      "image/png": "[encoded data removed]",
      "text/plain": [
       "<Figure size 1224x504 with 1 Axes>"
      ]
     },
     "metadata": {
      "needs_background": "light"
     },
     "output_type": "display_data"
    }
   ],
   "source": [
    "# Lets take 5000 samples, with sample size = 100\n",
    "\n",
    "sampleMeans100 = []\n",
    "for _ in range(5000):\n",
    "    samples = wall_data['Wall Thickness'].sample(n=100)\n",
    "    sampleMean = np.mean(samples)\n",
    "    sampleMeans100.append(sampleMean)\n",
    "\n",
    "# Now plot list of sample means. It should be normally distributed\n",
    "plt.hist(sampleMeans100)"
   ]
  },
  {
   "cell_type": "code",
   "execution_count": 29,
   "metadata": {
    "ExecuteTime": {
     "end_time": "2020-08-23T10:35:27.043212Z",
     "start_time": "2020-08-23T10:35:26.497033Z"
    }
   },
   "outputs": [
    {
     "data": {
      "image/png": "[encoded data removed]",
      "text/plain": [
       "<Figure size 1224x504 with 3 Axes>"
      ]
     },
     "metadata": {
      "needs_background": "light"
     },
     "output_type": "display_data"
    }
   ],
   "source": [
    "plt.subplot(1, 3, 1)\n",
    "plt.hist(sampleMeans10)\n",
    "plt.subplot(1, 3, 2)\n",
    "plt.hist(sampleMeans50)\n",
    "plt.subplot(1, 3, 3)\n",
    "plt.hist(sampleMeans100)\n",
    "plt.tight_layout(w_pad=1)\n",
    "plt.show()"
   ]
  },
  {
   "cell_type": "code",
   "execution_count": null,
   "metadata": {
    "ExecuteTime": {
     "end_time": "2020-08-22T09:49:32.981819Z",
     "start_time": "2020-08-22T09:49:32.974815Z"
    }
   },
   "outputs": [],
   "source": [
    "# Get help\n",
    "plt.tight_layout?"
   ]
  },
  {
   "cell_type": "markdown",
   "metadata": {},
   "source": [
    "# Additional Practice Problem"
   ]
  },
  {
   "cell_type": "markdown",
   "metadata": {},
   "source": [
    "The dataset given (diabetic_data.csv) includes observations from 130 U.S. hospitals\n",
    "\n",
    "Find the Measures of Central Tendency & Measures of Dispersion for the columns \n",
    "- Time_in_hospital\n",
    "- Num_lab_procedures\n",
    "- Num_procedures\n",
    "- Num_medications\n",
    "\n",
    "Plot the histogram to find the frequency of time spent in Hospital and apply CLT for sample sizes 10, 20, 50, 100 "
   ]
  },
  {
   "cell_type": "code",
   "execution_count": 31,
   "metadata": {
    "ExecuteTime": {
     "end_time": "2020-08-23T10:36:37.204645Z",
     "start_time": "2020-08-23T10:36:36.179988Z"
    }
   },
   "outputs": [],
   "source": [
    "df=pd.read_csv('diabetic_data.csv')"
   ]
  },
  {
   "cell_type": "code",
   "execution_count": 32,
   "metadata": {
    "ExecuteTime": {
     "end_time": "2020-08-23T10:36:40.993109Z",
     "start_time": "2020-08-23T10:36:40.827554Z"
    }
   },
   "outputs": [
    {
     "data": {
      "text/html": [
       "<div>\n",
       "<style scoped>\n",
       "    .dataframe tbody tr th:only-of-type {\n",
       "        vertical-align: middle;\n",
       "    }\n",
       "\n",
       "    .dataframe tbody tr th {\n",
       "        vertical-align: top;\n",
       "    }\n",
       "\n",
       "    .dataframe thead th {\n",
       "        text-align: right;\n",
       "    }\n",
       "</style>\n",
       "<table border=\"1\" class=\"dataframe\">\n",
       "  <thead>\n",
       "    <tr style=\"text-align: right;\">\n",
       "      <th></th>\n",
       "      <th>encounter_id</th>\n",
       "      <th>patient_nbr</th>\n",
       "      <th>race</th>\n",
       "      <th>gender</th>\n",
       "      <th>age</th>\n",
       "      <th>weight</th>\n",
       "      <th>admission_type_id</th>\n",
       "      <th>discharge_disposition_id</th>\n",
       "      <th>admission_source_id</th>\n",
       "      <th>time_in_hospital</th>\n",
       "      <th>...</th>\n",
       "      <th>citoglipton</th>\n",
       "      <th>insulin</th>\n",
       "      <th>glyburide-metformin</th>\n",
       "      <th>glipizide-metformin</th>\n",
       "      <th>glimepiride-pioglitazone</th>\n",
       "      <th>metformin-rosiglitazone</th>\n",
       "      <th>metformin-pioglitazone</th>\n",
       "      <th>change</th>\n",
       "      <th>diabetesMed</th>\n",
       "      <th>readmitted</th>\n",
       "    </tr>\n",
       "  </thead>\n",
       "  <tbody>\n",
       "    <tr>\n",
       "      <th>0</th>\n",
       "      <td>2278392</td>\n",
       "      <td>8222157</td>\n",
       "      <td>Caucasian</td>\n",
       "      <td>Female</td>\n",
       "      <td>[0-10)</td>\n",
       "      <td>?</td>\n",
       "      <td>6</td>\n",
       "      <td>25</td>\n",
       "      <td>1</td>\n",
       "      <td>1</td>\n",
       "      <td>...</td>\n",
       "      <td>No</td>\n",
       "      <td>No</td>\n",
       "      <td>No</td>\n",
       "      <td>No</td>\n",
       "      <td>No</td>\n",
       "      <td>No</td>\n",
       "      <td>No</td>\n",
       "      <td>No</td>\n",
       "      <td>No</td>\n",
       "      <td>NO</td>\n",
       "    </tr>\n",
       "    <tr>\n",
       "      <th>1</th>\n",
       "      <td>149190</td>\n",
       "      <td>55629189</td>\n",
       "      <td>Caucasian</td>\n",
       "      <td>Female</td>\n",
       "      <td>[10-20)</td>\n",
       "      <td>?</td>\n",
       "      <td>1</td>\n",
       "      <td>1</td>\n",
       "      <td>7</td>\n",
       "      <td>3</td>\n",
       "      <td>...</td>\n",
       "      <td>No</td>\n",
       "      <td>Up</td>\n",
       "      <td>No</td>\n",
       "      <td>No</td>\n",
       "      <td>No</td>\n",
       "      <td>No</td>\n",
       "      <td>No</td>\n",
       "      <td>Ch</td>\n",
       "      <td>Yes</td>\n",
       "      <td>&gt;30</td>\n",
       "    </tr>\n",
       "    <tr>\n",
       "      <th>2</th>\n",
       "      <td>64410</td>\n",
       "      <td>86047875</td>\n",
       "      <td>AfricanAmerican</td>\n",
       "      <td>Female</td>\n",
       "      <td>[20-30)</td>\n",
       "      <td>?</td>\n",
       "      <td>1</td>\n",
       "      <td>1</td>\n",
       "      <td>7</td>\n",
       "      <td>2</td>\n",
       "      <td>...</td>\n",
       "      <td>No</td>\n",
       "      <td>No</td>\n",
       "      <td>No</td>\n",
       "      <td>No</td>\n",
       "      <td>No</td>\n",
       "      <td>No</td>\n",
       "      <td>No</td>\n",
       "      <td>No</td>\n",
       "      <td>Yes</td>\n",
       "      <td>NO</td>\n",
       "    </tr>\n",
       "    <tr>\n",
       "      <th>3</th>\n",
       "      <td>500364</td>\n",
       "      <td>82442376</td>\n",
       "      <td>Caucasian</td>\n",
       "      <td>Male</td>\n",
       "      <td>[30-40)</td>\n",
       "      <td>?</td>\n",
       "      <td>1</td>\n",
       "      <td>1</td>\n",
       "      <td>7</td>\n",
       "      <td>2</td>\n",
       "      <td>...</td>\n",
       "      <td>No</td>\n",
       "      <td>Up</td>\n",
       "      <td>No</td>\n",
       "      <td>No</td>\n",
       "      <td>No</td>\n",
       "      <td>No</td>\n",
       "      <td>No</td>\n",
       "      <td>Ch</td>\n",
       "      <td>Yes</td>\n",
       "      <td>NO</td>\n",
       "    </tr>\n",
       "    <tr>\n",
       "      <th>4</th>\n",
       "      <td>16680</td>\n",
       "      <td>42519267</td>\n",
       "      <td>Caucasian</td>\n",
       "      <td>Male</td>\n",
       "      <td>[40-50)</td>\n",
       "      <td>?</td>\n",
       "      <td>1</td>\n",
       "      <td>1</td>\n",
       "      <td>7</td>\n",
       "      <td>1</td>\n",
       "      <td>...</td>\n",
       "      <td>No</td>\n",
       "      <td>Steady</td>\n",
       "      <td>No</td>\n",
       "      <td>No</td>\n",
       "      <td>No</td>\n",
       "      <td>No</td>\n",
       "      <td>No</td>\n",
       "      <td>Ch</td>\n",
       "      <td>Yes</td>\n",
       "      <td>NO</td>\n",
       "    </tr>\n",
       "    <tr>\n",
       "      <th>...</th>\n",
       "      <td>...</td>\n",
       "      <td>...</td>\n",
       "      <td>...</td>\n",
       "      <td>...</td>\n",
       "      <td>...</td>\n",
       "      <td>...</td>\n",
       "      <td>...</td>\n",
       "      <td>...</td>\n",
       "      <td>...</td>\n",
       "      <td>...</td>\n",
       "      <td>...</td>\n",
       "      <td>...</td>\n",
       "      <td>...</td>\n",
       "      <td>...</td>\n",
       "      <td>...</td>\n",
       "      <td>...</td>\n",
       "      <td>...</td>\n",
       "      <td>...</td>\n",
       "      <td>...</td>\n",
       "      <td>...</td>\n",
       "      <td>...</td>\n",
       "    </tr>\n",
       "    <tr>\n",
       "      <th>101761</th>\n",
       "      <td>443847548</td>\n",
       "      <td>100162476</td>\n",
       "      <td>AfricanAmerican</td>\n",
       "      <td>Male</td>\n",
       "      <td>[70-80)</td>\n",
       "      <td>?</td>\n",
       "      <td>1</td>\n",
       "      <td>3</td>\n",
       "      <td>7</td>\n",
       "      <td>3</td>\n",
       "      <td>...</td>\n",
       "      <td>No</td>\n",
       "      <td>Down</td>\n",
       "      <td>No</td>\n",
       "      <td>No</td>\n",
       "      <td>No</td>\n",
       "      <td>No</td>\n",
       "      <td>No</td>\n",
       "      <td>Ch</td>\n",
       "      <td>Yes</td>\n",
       "      <td>&gt;30</td>\n",
       "    </tr>\n",
       "    <tr>\n",
       "      <th>101762</th>\n",
       "      <td>443847782</td>\n",
       "      <td>74694222</td>\n",
       "      <td>AfricanAmerican</td>\n",
       "      <td>Female</td>\n",
       "      <td>[80-90)</td>\n",
       "      <td>?</td>\n",
       "      <td>1</td>\n",
       "      <td>4</td>\n",
       "      <td>5</td>\n",
       "      <td>5</td>\n",
       "      <td>...</td>\n",
       "      <td>No</td>\n",
       "      <td>Steady</td>\n",
       "      <td>No</td>\n",
       "      <td>No</td>\n",
       "      <td>No</td>\n",
       "      <td>No</td>\n",
       "      <td>No</td>\n",
       "      <td>No</td>\n",
       "      <td>Yes</td>\n",
       "      <td>NO</td>\n",
       "    </tr>\n",
       "    <tr>\n",
       "      <th>101763</th>\n",
       "      <td>443854148</td>\n",
       "      <td>41088789</td>\n",
       "      <td>Caucasian</td>\n",
       "      <td>Male</td>\n",
       "      <td>[70-80)</td>\n",
       "      <td>?</td>\n",
       "      <td>1</td>\n",
       "      <td>1</td>\n",
       "      <td>7</td>\n",
       "      <td>1</td>\n",
       "      <td>...</td>\n",
       "      <td>No</td>\n",
       "      <td>Down</td>\n",
       "      <td>No</td>\n",
       "      <td>No</td>\n",
       "      <td>No</td>\n",
       "      <td>No</td>\n",
       "      <td>No</td>\n",
       "      <td>Ch</td>\n",
       "      <td>Yes</td>\n",
       "      <td>NO</td>\n",
       "    </tr>\n",
       "    <tr>\n",
       "      <th>101764</th>\n",
       "      <td>443857166</td>\n",
       "      <td>31693671</td>\n",
       "      <td>Caucasian</td>\n",
       "      <td>Female</td>\n",
       "      <td>[80-90)</td>\n",
       "      <td>?</td>\n",
       "      <td>2</td>\n",
       "      <td>3</td>\n",
       "      <td>7</td>\n",
       "      <td>10</td>\n",
       "      <td>...</td>\n",
       "      <td>No</td>\n",
       "      <td>Up</td>\n",
       "      <td>No</td>\n",
       "      <td>No</td>\n",
       "      <td>No</td>\n",
       "      <td>No</td>\n",
       "      <td>No</td>\n",
       "      <td>Ch</td>\n",
       "      <td>Yes</td>\n",
       "      <td>NO</td>\n",
       "    </tr>\n",
       "    <tr>\n",
       "      <th>101765</th>\n",
       "      <td>443867222</td>\n",
       "      <td>175429310</td>\n",
       "      <td>Caucasian</td>\n",
       "      <td>Male</td>\n",
       "      <td>[70-80)</td>\n",
       "      <td>?</td>\n",
       "      <td>1</td>\n",
       "      <td>1</td>\n",
       "      <td>7</td>\n",
       "      <td>6</td>\n",
       "      <td>...</td>\n",
       "      <td>No</td>\n",
       "      <td>No</td>\n",
       "      <td>No</td>\n",
       "      <td>No</td>\n",
       "      <td>No</td>\n",
       "      <td>No</td>\n",
       "      <td>No</td>\n",
       "      <td>No</td>\n",
       "      <td>No</td>\n",
       "      <td>NO</td>\n",
       "    </tr>\n",
       "  </tbody>\n",
       "</table>\n",
       "<p>101766 rows × 50 columns</p>\n",
       "</div>"
      ],
      "text/plain": [
       "        encounter_id  patient_nbr             race  gender      age weight  \\\n",
       "0            2278392      8222157        Caucasian  Female   [0-10)      ?   \n",
       "1             149190     55629189        Caucasian  Female  [10-20)      ?   \n",
       "2              64410     86047875  AfricanAmerican  Female  [20-30)      ?   \n",
       "3             500364     82442376        Caucasian    Male  [30-40)      ?   \n",
       "4              16680     42519267        Caucasian    Male  [40-50)      ?   \n",
       "...              ...          ...              ...     ...      ...    ...   \n",
       "101761     443847548    100162476  AfricanAmerican    Male  [70-80)      ?   \n",
       "101762     443847782     74694222  AfricanAmerican  Female  [80-90)      ?   \n",
       "101763     443854148     41088789        Caucasian    Male  [70-80)      ?   \n",
       "101764     443857166     31693671        Caucasian  Female  [80-90)      ?   \n",
       "101765     443867222    175429310        Caucasian    Male  [70-80)      ?   \n",
       "\n",
       "        admission_type_id  discharge_disposition_id  admission_source_id  \\\n",
       "0                       6                        25                    1   \n",
       "1                       1                         1                    7   \n",
       "2                       1                         1                    7   \n",
       "3                       1                         1                    7   \n",
       "4                       1                         1                    7   \n",
       "...                   ...                       ...                  ...   \n",
       "101761                  1                         3                    7   \n",
       "101762                  1                         4                    5   \n",
       "101763                  1                         1                    7   \n",
       "101764                  2                         3                    7   \n",
       "101765                  1                         1                    7   \n",
       "\n",
       "        time_in_hospital  ... citoglipton insulin  glyburide-metformin  \\\n",
       "0                      1  ...          No      No                   No   \n",
       "1                      3  ...          No      Up                   No   \n",
       "2                      2  ...          No      No                   No   \n",
       "3                      2  ...          No      Up                   No   \n",
       "4                      1  ...          No  Steady                   No   \n",
       "...                  ...  ...         ...     ...                  ...   \n",
       "101761                 3  ...          No    Down                   No   \n",
       "101762                 5  ...          No  Steady                   No   \n",
       "101763                 1  ...          No    Down                   No   \n",
       "101764                10  ...          No      Up                   No   \n",
       "101765                 6  ...          No      No                   No   \n",
       "\n",
       "        glipizide-metformin  glimepiride-pioglitazone  \\\n",
       "0                        No                        No   \n",
       "1                        No                        No   \n",
       "2                        No                        No   \n",
       "3                        No                        No   \n",
       "4                        No                        No   \n",
       "...                     ...                       ...   \n",
       "101761                   No                        No   \n",
       "101762                   No                        No   \n",
       "101763                   No                        No   \n",
       "101764                   No                        No   \n",
       "101765                   No                        No   \n",
       "\n",
       "        metformin-rosiglitazone  metformin-pioglitazone  change diabetesMed  \\\n",
       "0                            No                      No      No          No   \n",
       "1                            No                      No      Ch         Yes   \n",
       "2                            No                      No      No         Yes   \n",
       "3                            No                      No      Ch         Yes   \n",
       "4                            No                      No      Ch         Yes   \n",
       "...                         ...                     ...     ...         ...   \n",
       "101761                       No                      No      Ch         Yes   \n",
       "101762                       No                      No      No         Yes   \n",
       "101763                       No                      No      Ch         Yes   \n",
       "101764                       No                      No      Ch         Yes   \n",
       "101765                       No                      No      No          No   \n",
       "\n",
       "       readmitted  \n",
       "0              NO  \n",
       "1             >30  \n",
       "2              NO  \n",
       "3              NO  \n",
       "4              NO  \n",
       "...           ...  \n",
       "101761        >30  \n",
       "101762         NO  \n",
       "101763         NO  \n",
       "101764         NO  \n",
       "101765         NO  \n",
       "\n",
       "[101766 rows x 50 columns]"
      ]
     },
     "execution_count": 32,
     "metadata": {},
     "output_type": "execute_result"
    }
   ],
   "source": [
    "df"
   ]
  },
  {
   "cell_type": "code",
   "execution_count": 45,
   "metadata": {
    "ExecuteTime": {
     "end_time": "2020-08-23T10:51:12.483039Z",
     "start_time": "2020-08-23T10:51:12.435175Z"
    }
   },
   "outputs": [
    {
     "data": {
      "text/html": [
       "<div>\n",
       "<style scoped>\n",
       "    .dataframe tbody tr th:only-of-type {\n",
       "        vertical-align: middle;\n",
       "    }\n",
       "\n",
       "    .dataframe tbody tr th {\n",
       "        vertical-align: top;\n",
       "    }\n",
       "\n",
       "    .dataframe thead th {\n",
       "        text-align: right;\n",
       "    }\n",
       "</style>\n",
       "<table border=\"1\" class=\"dataframe\">\n",
       "  <thead>\n",
       "    <tr style=\"text-align: right;\">\n",
       "      <th></th>\n",
       "      <th>time_in_hospital</th>\n",
       "      <th>num_lab_procedures</th>\n",
       "      <th>num_procedures</th>\n",
       "      <th>num_medications</th>\n",
       "    </tr>\n",
       "  </thead>\n",
       "  <tbody>\n",
       "    <tr>\n",
       "      <th>count</th>\n",
       "      <td>101766.000000</td>\n",
       "      <td>101766.000000</td>\n",
       "      <td>101766.000000</td>\n",
       "      <td>101766.000000</td>\n",
       "    </tr>\n",
       "    <tr>\n",
       "      <th>mean</th>\n",
       "      <td>4.395987</td>\n",
       "      <td>43.095641</td>\n",
       "      <td>1.339730</td>\n",
       "      <td>16.021844</td>\n",
       "    </tr>\n",
       "    <tr>\n",
       "      <th>std</th>\n",
       "      <td>2.985108</td>\n",
       "      <td>19.674362</td>\n",
       "      <td>1.705807</td>\n",
       "      <td>8.127566</td>\n",
       "    </tr>\n",
       "    <tr>\n",
       "      <th>min</th>\n",
       "      <td>1.000000</td>\n",
       "      <td>1.000000</td>\n",
       "      <td>0.000000</td>\n",
       "      <td>1.000000</td>\n",
       "    </tr>\n",
       "    <tr>\n",
       "      <th>25%</th>\n",
       "      <td>2.000000</td>\n",
       "      <td>31.000000</td>\n",
       "      <td>0.000000</td>\n",
       "      <td>10.000000</td>\n",
       "    </tr>\n",
       "    <tr>\n",
       "      <th>50%</th>\n",
       "      <td>4.000000</td>\n",
       "      <td>44.000000</td>\n",
       "      <td>1.000000</td>\n",
       "      <td>15.000000</td>\n",
       "    </tr>\n",
       "    <tr>\n",
       "      <th>75%</th>\n",
       "      <td>6.000000</td>\n",
       "      <td>57.000000</td>\n",
       "      <td>2.000000</td>\n",
       "      <td>20.000000</td>\n",
       "    </tr>\n",
       "    <tr>\n",
       "      <th>max</th>\n",
       "      <td>14.000000</td>\n",
       "      <td>132.000000</td>\n",
       "      <td>6.000000</td>\n",
       "      <td>81.000000</td>\n",
       "    </tr>\n",
       "  </tbody>\n",
       "</table>\n",
       "</div>"
      ],
      "text/plain": [
       "       time_in_hospital  num_lab_procedures  num_procedures  num_medications\n",
       "count     101766.000000       101766.000000   101766.000000    101766.000000\n",
       "mean           4.395987           43.095641        1.339730        16.021844\n",
       "std            2.985108           19.674362        1.705807         8.127566\n",
       "min            1.000000            1.000000        0.000000         1.000000\n",
       "25%            2.000000           31.000000        0.000000        10.000000\n",
       "50%            4.000000           44.000000        1.000000        15.000000\n",
       "75%            6.000000           57.000000        2.000000        20.000000\n",
       "max           14.000000          132.000000        6.000000        81.000000"
      ]
     },
     "execution_count": 45,
     "metadata": {},
     "output_type": "execute_result"
    }
   ],
   "source": [
    "df[['time_in_hospital','num_lab_procedures', 'num_procedures', 'num_medications']].describe()\n",
    "# df[['time_in_hospital','num_lab_procedures', 'num_procedures', 'num_medications']].median()"
   ]
  },
  {
   "cell_type": "code",
   "execution_count": 40,
   "metadata": {
    "ExecuteTime": {
     "end_time": "2020-08-23T10:45:57.459293Z",
     "start_time": "2020-08-23T10:45:32.003422Z"
    }
   },
   "outputs": [
    {
     "name": "stdout",
     "output_type": "stream",
     "text": [
      "[4.98, 4.66, 3.97, 3.87, 4.31, 4.9, 4.09, 4.3, 4.25, 4.41]\n"
     ]
    },
    {
     "data": {
      "text/plain": [
       "(array([  30.,  219.,  959., 2271., 3002., 2321.,  909.,  241.,   41.,\n",
       "           7.]),\n",
       " array([3.35 , 3.582, 3.814, 4.046, 4.278, 4.51 , 4.742, 4.974, 5.206,\n",
       "        5.438, 5.67 ]),\n",
       " <a list of 10 Patch objects>)"
      ]
     },
     "execution_count": 40,
     "metadata": {},
     "output_type": "execute_result"
    },
    {
     "data": {
      "image/png": "[encoded data removed]",
      "text/plain": [
       "<Figure size 1224x504 with 1 Axes>"
      ]
     },
     "metadata": {
      "needs_background": "light"
     },
     "output_type": "display_data"
    }
   ],
   "source": [
    "samples100_a=[]\n",
    "for i in range(10000):\n",
    "    sample_a = df['time_in_hospital'].sample(100)\n",
    "    sample_a_mean=sample_a.mean()\n",
    "    samples100_a.append(sample_a_mean)\n",
    "print(samples100_a[:10])\n",
    "plt.hist(samples100_a)"
   ]
  },
  {
   "cell_type": "code",
   "execution_count": 43,
   "metadata": {
    "ExecuteTime": {
     "end_time": "2020-08-23T10:50:52.573369Z",
     "start_time": "2020-08-23T10:50:22.305041Z"
    }
   },
   "outputs": [
    {
     "name": "stdout",
     "output_type": "stream",
     "text": [
      "[4.12, 4.58, 4.66, 4.56, 4.6, 4.82, 4.2, 4.36, 4.92, 4.68]\n"
     ]
    },
    {
     "data": {
      "text/plain": [
       "(array([1.600e+01, 2.250e+02, 1.027e+03, 2.451e+03, 2.954e+03, 2.168e+03,\n",
       "        9.210e+02, 2.030e+02, 3.300e+01, 2.000e+00]),\n",
       " array([2.92 , 3.252, 3.584, 3.916, 4.248, 4.58 , 4.912, 5.244, 5.576,\n",
       "        5.908, 6.24 ]),\n",
       " <a list of 10 Patch objects>)"
      ]
     },
     "execution_count": 43,
     "metadata": {},
     "output_type": "execute_result"
    },
    {
     "data": {
      "image/png": "[encoded data removed]",
      "text/plain": [
       "<Figure size 1224x504 with 1 Axes>"
      ]
     },
     "metadata": {
      "needs_background": "light"
     },
     "output_type": "display_data"
    }
   ],
   "source": [
    "samples100_a=[]\n",
    "for i in range(10000):\n",
    "    sample_a = df['time_in_hospital'].sample(50)\n",
    "    sample_a_mean=sample_a.mean()\n",
    "    samples100_a.append(sample_a_mean)\n",
    "print(samples100_a[:10])\n",
    "plt.hist(samples100_a)"
   ]
  },
  {
   "cell_type": "code",
   "execution_count": 46,
   "metadata": {
    "ExecuteTime": {
     "end_time": "2020-08-23T10:52:14.082406Z",
     "start_time": "2020-08-23T10:51:37.343788Z"
    }
   },
   "outputs": [
    {
     "name": "stdout",
     "output_type": "stream",
     "text": [
      "[4.9, 4.8, 4.45, 6.15, 4.7, 5.2, 5.7, 5.25, 4.85, 3.8]\n"
     ]
    },
    {
     "data": {
      "text/plain": [
       "(array([  75.,  505., 1658., 3139., 2476., 1437.,  574.,  114.,   17.,\n",
       "           5.]),\n",
       " array([2.35 , 2.865, 3.38 , 3.895, 4.41 , 4.925, 5.44 , 5.955, 6.47 ,\n",
       "        6.985, 7.5  ]),\n",
       " <a list of 10 Patch objects>)"
      ]
     },
     "execution_count": 46,
     "metadata": {},
     "output_type": "execute_result"
    },
    {
     "data": {
      "image/png": "[encoded data removed]",
      "text/plain": [
       "<Figure size 1224x504 with 1 Axes>"
      ]
     },
     "metadata": {
      "needs_background": "light"
     },
     "output_type": "display_data"
    }
   ],
   "source": [
    "samples100_a=[]\n",
    "for i in range(10000):\n",
    "    sample_a = df['time_in_hospital'].sample(20)\n",
    "    sample_a_mean=sample_a.mean()\n",
    "    samples100_a.append(sample_a_mean)\n",
    "print(samples100_a[:10])\n",
    "plt.hist(samples100_a)"
   ]
  },
  {
   "cell_type": "code",
   "execution_count": 47,
   "metadata": {
    "ExecuteTime": {
     "end_time": "2020-08-23T10:52:46.316083Z",
     "start_time": "2020-08-23T10:52:14.084402Z"
    }
   },
   "outputs": [
    {
     "name": "stdout",
     "output_type": "stream",
     "text": [
      "[4.2, 3.2, 2.6, 5.5, 2.3, 3.7, 5.0, 3.1, 3.2, 4.2]\n"
     ]
    },
    {
     "data": {
      "text/plain": [
       "(array([  60.,  456., 1433., 2269., 2432., 1800.,  992.,  413.,  116.,\n",
       "          29.]),\n",
       " array([1.7 , 2.31, 2.92, 3.53, 4.14, 4.75, 5.36, 5.97, 6.58, 7.19, 7.8 ]),\n",
       " <a list of 10 Patch objects>)"
      ]
     },
     "execution_count": 47,
     "metadata": {},
     "output_type": "execute_result"
    },
    {
     "data": {
      "image/png": "[encoded data removed]",
      "text/plain": [
       "<Figure size 1224x504 with 1 Axes>"
      ]
     },
     "metadata": {
      "needs_background": "light"
     },
     "output_type": "display_data"
    }
   ],
   "source": [
    "samples100_a=[]\n",
    "for i in range(10000):\n",
    "    sample_a = df['time_in_hospital'].sample(10)\n",
    "    sample_a_mean=sample_a.mean()\n",
    "    samples100_a.append(sample_a_mean)\n",
    "print(samples100_a[:10])\n",
    "plt.hist(samples100_a)"
   ]
  },
  {
   "cell_type": "code",
   "execution_count": null,
   "metadata": {},
   "outputs": [],
   "source": [
    "# plt.subplot(1, 2, 1)\n",
    "# plt.hist(sampleMeans10)\n",
    "# plt.subplot(1, 2, 2)\n",
    "# plt.hist(sampleMeans50)\n",
    "# plt.subplot(2, 1, 1)\n",
    "# plt.hist(sampleMeans100)\n",
    "# plt.subplot(2, 1, 2)\n",
    "# plt.hist(sampleMeans100)\n",
    "# plt.tight_layout(w_pad=1)\n",
    "# plt.show()"
   ]
  }
 ],
 "metadata": {
  "kernelspec": {
   "display_name": "Python 3",
   "language": "python",
   "name": "python3"
  },
  "language_info": {
   "codemirror_mode": {
    "name": "ipython",
    "version": 3
   },
   "file_extension": ".py",
   "mimetype": "text/x-python",
   "name": "python",
   "nbconvert_exporter": "python",
   "pygments_lexer": "ipython3",
   "version": "3.7.6"
  },
  "latex_envs": {
   "LaTeX_envs_menu_present": true,
   "autoclose": false,
   "autocomplete": true,
   "bibliofile": "biblio.bib",
   "cite_by": "apalike",
   "current_citInitial": 1,
   "eqLabelWithNumbers": true,
   "eqNumInitial": 1,
   "hotkeys": {
    "equation": "Ctrl-E",
    "itemize": "Ctrl-I"
   },
   "labels_anchors": false,
   "latex_user_defs": false,
   "report_style_numbering": false,
   "user_envs_cfg": false
  },
  "toc": {
   "base_numbering": 1,
   "nav_menu": {},
   "number_sections": true,
   "sideBar": true,
   "skip_h1_title": false,
   "title_cell": "Table of Contents",
   "title_sidebar": "Contents",
   "toc_cell": false,
   "toc_position": {},
   "toc_section_display": true,
   "toc_window_display": false
  }
 },
 "nbformat": 4,
 "nbformat_minor": 2
}
